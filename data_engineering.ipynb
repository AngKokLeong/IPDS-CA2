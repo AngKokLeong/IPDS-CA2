{
 "cells": [
  {
   "cell_type": "markdown",
   "metadata": {},
   "source": [
    "# Data Engineering"
   ]
  },
  {
   "cell_type": "markdown",
   "metadata": {},
   "source": [
    "## Purpose of this notebook"
   ]
  },
  {
   "cell_type": "markdown",
   "metadata": {},
   "source": [
    "To perform data cleaning and prepare the data to a suitable format for upload to MongoDB Atlas.\n"
   ]
  },
  {
   "cell_type": "markdown",
   "metadata": {},
   "source": [
    "## Environment Setup, data Cleaning and Data Transformation"
   ]
  },
  {
   "cell_type": "code",
   "execution_count": 1,
   "metadata": {},
   "outputs": [],
   "source": [
    "import pandas\n",
    "import etl_processor\n",
    "import database\n",
    "import bokeh\n",
    "import seaborn"
   ]
  },
  {
   "cell_type": "markdown",
   "metadata": {},
   "source": [
    "### Data Source"
   ]
  },
  {
   "cell_type": "markdown",
   "metadata": {},
   "source": [
    "- Electricity Generation and Consumption\n",
    "    - Description: This dataset is about the electricity generation and electricity consumption across different sectors and households from 1975 Jan to 2024 Mar\n",
    "    - Link: https://tablebuilder.singstat.gov.sg/table/TS/M890841 \n",
    "    - Data Source: SingStat Table Builder (Department of Statistics)\n",
    "- Electricity Generation by Monthly data\n",
    "    - Description: This dataset is about the electricity generation per month from 1975 Jan to 2024 Mar\n",
    "    - Link: https://tablebuilder.singstat.gov.sg/table/TS/M890831 \n",
    "    - Data Source: SingStat Table Builder (Department of Statistics)\n",
    "- Peak System Demand from 2005 to Jul 2021\n",
    "    - Description: This dataset is about the records of Peak System Demand in the unit of Megawatt for each month from 2005 to Jul 2021\n",
    "    - Link: https://beta.data.gov.sg/datasets/d_926d3e304c0b41e56d4cbd3304acf105/view \n",
    "    - Data Source: data.gov.sg\n",
    "- Solar PV Installations by URA Planning Region\n",
    "    - Description: \n",
    "        - This dataset is about the Solar PV installation in different region within Singapore with data differentiating its residential status \n",
    "        - There are data columns about the number of solar pv installations, installed capacity in KWac and total installed capacity (percentage)    \n",
    "    - Link: https://beta.data.gov.sg/datasets/d_cd4f91f7a1ebb2b7ceb1a70c0dbb706d/view\n",
    "    - Data Source: data.gov.sg \n",
    "- Total Final Energy Consumption 2009 to 2019\n",
    "    - Description: This dataset is about the energy consumption in the unit of Kilotonne of Oil equivalent across different energy type and sectors from 2009 to 2019\n",
    "    - Link: https://beta.data.gov.sg/datasets/d_500440fba49cfc69f395e6dd1df967de/view \n",
    "    - Data Source: data.gov.sg\n",
    "- Total Final Energy Consumption by Energy Type and Sector\n",
    "    - Description: This dataset is about the energy consumption in the unit of Kilotonne of Oil equivalent across different energy type and sectors\n",
    "    - Link: https://tablebuilder.singstat.gov.sg/table/TS/M891111 \n",
    "    - Data Source: SingStat Table Builder (Department of Statistics Singapore)\n",
    "- Licensed Local Food Farm\n",
    "    - Description: This dataset is about the number of licensed food farms in Singapore with different food category\n",
    "    - Link: https://tablebuilder.singstat.gov.sg/table/TS/M891471 \n",
    "    - Data Source: SingStat Table Builder (Department of Statistics Singapore)\n",
    "- Local Production Annual\n",
    "    - Description: This dataset is about the value of Local food production annually with different categories of Food Type\n",
    "    - Link: https://tablebuilder.singstat.gov.sg/table/TS/M890721 \n",
    "    - Data Source: SingStat Table Builder (Department of Statistics Singapore)\n",
    "- Value of Local Food Production in Singapore\n",
    "    - Description: This dataset is about the value of Local Food Production in Singapore measured in million dollar for each year with different categories of food type\n",
    "    - Link: https://beta.data.gov.sg/datasets/d_21ae7d83dd7ee33c8c932ba2564fd8aa/view\n",
    "    - Data Source: data.gov.sg\n",
    "\n"
   ]
  },
  {
   "cell_type": "markdown",
   "metadata": {},
   "source": [
    "### Data Preparation"
   ]
  },
  {
   "cell_type": "markdown",
   "metadata": {},
   "source": [
    "#### Total Final Energy Consumption by Energy Type and Sector"
   ]
  },
  {
   "cell_type": "code",
   "execution_count": 2,
   "metadata": {},
   "outputs": [],
   "source": [
    "total_final_energy_consumption_by_energy_type_and_sector_for_total_dataframe: pandas.DataFrame = etl_processor.excel_file_data_source.retrieve_data_for_total_final_energy_consumption_by_energy_type_and_sector_for_total()\n",
    "\n",
    "total_final_energy_consumption_by_energy_type_and_sector_total_for_coal_and_peat_dataframe: pandas.DataFrame = etl_processor.excel_file_data_source.retrieve_data_for_total_final_energy_consumption_by_energy_type_and_sector_total_for_coal_and_peat()\n",
    "total_final_energy_consumption_by_energy_type_and_sector_total_for_electricity_dataframe: pandas.DataFrame = etl_processor.excel_file_data_source.retrieve_data_for_total_final_energy_consumption_by_energy_type_and_sector_total_for_electricity()\n",
    "total_final_energy_consumption_by_energy_type_and_sector_total_for_natural_gas_dataframe: pandas.DataFrame = etl_processor.excel_file_data_source.retrieve_data_for_total_final_energy_consumption_by_energy_type_and_sector_total_for_natural_gas()\n"
   ]
  },
  {
   "cell_type": "code",
   "execution_count": 3,
   "metadata": {},
   "outputs": [],
   "source": [
    "total_final_energy_consumption_by_energy_type_and_sector_for_petroleum_products_dataframe: pandas.DataFrame = etl_processor.excel_file_data_source.retrieve_data_for_total_final_energy_consumption_by_energy_type_and_sector_for_petroleum_products()"
   ]
  },
  {
   "cell_type": "markdown",
   "metadata": {},
   "source": [
    "#### Electricity Generation by Monthly data"
   ]
  },
  {
   "cell_type": "code",
   "execution_count": 6,
   "metadata": {},
   "outputs": [],
   "source": [
    "electricity_generation_by_month_dataframe: pandas.DataFrame = etl_processor.excel_file_data_source.retrieve_data_for_electricity_generation_monthly_data()"
   ]
  },
  {
   "cell_type": "markdown",
   "metadata": {},
   "source": [
    "#### Electricity Generation and Consumption"
   ]
  },
  {
   "cell_type": "code",
   "execution_count": 7,
   "metadata": {},
   "outputs": [],
   "source": [
    "electricity_generation_and_consumption_by_month_dataframe: pandas.DataFrame = etl_processor.excel_file_data_source.retrieve_data_for_electricity_generation_and_consumption()"
   ]
  },
  {
   "cell_type": "markdown",
   "metadata": {},
   "source": [
    "#### Total Final Energy Consumption by Energy Type and Sector from 2009 to 2019"
   ]
  },
  {
   "cell_type": "code",
   "execution_count": 8,
   "metadata": {},
   "outputs": [],
   "source": [
    "total_final_energy_consumption_by_energy_type_and_sector_csv: pandas.DataFrame = etl_processor.csv_file_data_source.retrieve_data_for_total_final_energy_consumption_2009_to_2019()"
   ]
  },
  {
   "cell_type": "markdown",
   "metadata": {},
   "source": [
    "#### Peak System Demand from 2005 to Jul 2021"
   ]
  },
  {
   "cell_type": "code",
   "execution_count": 10,
   "metadata": {},
   "outputs": [],
   "source": [
    "peak_system_demand_dataframe: pandas.DataFrame = etl_processor.csv_file_data_source.retrieve_data_for_peak_system_demand_2005_to_jul_2021()"
   ]
  },
  {
   "cell_type": "markdown",
   "metadata": {},
   "source": [
    "#### Solar PV Installations by URA Planning Region"
   ]
  },
  {
   "cell_type": "code",
   "execution_count": 11,
   "metadata": {},
   "outputs": [],
   "source": [
    "solar_pv_installations_by_ura_planning_region_dataframe: pandas.DataFrame = etl_processor.csv_file_data_source.retrieve_data_for_solar_pv_installations_by_ura_planning_region()"
   ]
  },
  {
   "cell_type": "markdown",
   "metadata": {},
   "source": [
    "#### Local Production Annual"
   ]
  },
  {
   "cell_type": "code",
   "execution_count": 12,
   "metadata": {},
   "outputs": [],
   "source": [
    "local_food_production_annual_dataframe: pandas.DataFrame = etl_processor.excel_file_data_source.retrieve_data_for_local_production_annual()\n"
   ]
  },
  {
   "cell_type": "markdown",
   "metadata": {},
   "source": [
    "#### Licensed Local Food Farm"
   ]
  },
  {
   "cell_type": "code",
   "execution_count": 13,
   "metadata": {},
   "outputs": [],
   "source": [
    "licensed_local_food_farm_dataframe: pandas.DataFrame = etl_processor.excel_file_data_source.retrieve_data_for_licensed_local_food_farm()"
   ]
  },
  {
   "cell_type": "markdown",
   "metadata": {},
   "source": [
    "### Data Transformation"
   ]
  },
  {
   "cell_type": "code",
   "execution_count": 14,
   "metadata": {},
   "outputs": [],
   "source": [
    "# merge the total final energy consumption from data.gov.sg and the other total final energy consumption from singstat table into one dataframe\n",
    "local_food_production_annual_dataframe: pandas.DataFrame = etl_processor.excel_file_data_transformer.transform_local_food_production_annual_data(local_food_production_annual_dataframe)\n",
    "#remove na data for electricity generation dataframe and electricity generation and consumption dataframe "
   ]
  },
  {
   "cell_type": "code",
   "execution_count": 15,
   "metadata": {},
   "outputs": [],
   "source": [
    "electricity_generation_and_consumption_monthly_dataframe: pandas.DataFrame = etl_processor.excel_file_data_transformer.transform_electricity_generation_monthly_data(electricity_generation_and_consumption_by_month_dataframe)"
   ]
  },
  {
   "cell_type": "code",
   "execution_count": 16,
   "metadata": {},
   "outputs": [],
   "source": [
    "licensed_local_food_farm_dataframe: pandas.DataFrame = etl_processor.excel_file_data_transformer.transform_licensed_local_food_farm_data(licensed_local_food_farm_dataframe)"
   ]
  },
  {
   "cell_type": "code",
   "execution_count": 17,
   "metadata": {},
   "outputs": [
    {
     "name": "stderr",
     "output_type": "stream",
     "text": [
      "/workspaces/IPDS-CA2-Assignment/SG-Green-Plan-Data-Analysis/etl_processor/transform.py:21: FutureWarning: Downcasting behavior in `replace` is deprecated and will be removed in a future version. To retain the old behavior, explicitly call `result.infer_objects(copy=False)`. To opt-in to the future behavior, set `pd.set_option('future.no_silent_downcasting', True)`\n",
      "  dataframe = dataframe.replace('na', value=0)\n"
     ]
    }
   ],
   "source": [
    "electricity_generation_and_consumption_by_month_dataframe = etl_processor.excel_file_data_transformer.transform_electricity_generation_and_consumption_monthly_data(electricity_generation_and_consumption_by_month_dataframe)"
   ]
  },
  {
   "cell_type": "code",
   "execution_count": 29,
   "metadata": {},
   "outputs": [],
   "source": [
    "electricity_generation_by_month_dataframe = etl_processor.excel_file_data_transformer.transform_electricity_generation_by_month(electricity_generation_by_month_dataframe)"
   ]
  },
  {
   "cell_type": "markdown",
   "metadata": {},
   "source": []
  },
  {
   "cell_type": "code",
   "execution_count": 16,
   "metadata": {},
   "outputs": [],
   "source": [
    "# it is also possible to embed looker studio into this jupyter notebook\n",
    "\n",
    "# it is also possible to upload data from pandas into google sheet which looker studio will extract from\n",
    "\n",
    "\n"
   ]
  },
  {
   "cell_type": "markdown",
   "metadata": {},
   "source": [
    "### Data Loading to MongoDB Atlas"
   ]
  },
  {
   "cell_type": "markdown",
   "metadata": {},
   "source": [
    "#### Electricity Generation and Consumption By Month"
   ]
  },
  {
   "cell_type": "code",
   "execution_count": null,
   "metadata": {},
   "outputs": [],
   "source": [
    "etl_processor.load.LoadElectricityGenerationAndConsumptionByMonth(electricity_generation_and_consumption_by_month_dataframe)"
   ]
  },
  {
   "cell_type": "markdown",
   "metadata": {},
   "source": [
    "#### "
   ]
  },
  {
   "cell_type": "code",
   "execution_count": null,
   "metadata": {},
   "outputs": [],
   "source": []
  },
  {
   "cell_type": "markdown",
   "metadata": {},
   "source": [
    "### Data Profiling"
   ]
  },
  {
   "cell_type": "code",
   "execution_count": 36,
   "metadata": {},
   "outputs": [
    {
     "data": {
      "text/html": [
       "<div>\n",
       "<style scoped>\n",
       "    .dataframe tbody tr th:only-of-type {\n",
       "        vertical-align: middle;\n",
       "    }\n",
       "\n",
       "    .dataframe tbody tr th {\n",
       "        vertical-align: top;\n",
       "    }\n",
       "\n",
       "    .dataframe thead th {\n",
       "        text-align: right;\n",
       "    }\n",
       "</style>\n",
       "<table border=\"1\" class=\"dataframe\">\n",
       "  <thead>\n",
       "    <tr style=\"text-align: right;\">\n",
       "      <th></th>\n",
       "      <th>Data Series</th>\n",
       "      <th>2021</th>\n",
       "      <th>2020</th>\n",
       "      <th>2019</th>\n",
       "      <th>2018</th>\n",
       "      <th>2017</th>\n",
       "      <th>2016</th>\n",
       "      <th>2015</th>\n",
       "      <th>2014</th>\n",
       "      <th>2013</th>\n",
       "      <th>2012</th>\n",
       "      <th>2011</th>\n",
       "      <th>2010</th>\n",
       "      <th>2009</th>\n",
       "    </tr>\n",
       "  </thead>\n",
       "  <tbody>\n",
       "    <tr>\n",
       "      <th>count</th>\n",
       "      <td>6</td>\n",
       "      <td>6.0</td>\n",
       "      <td>6.0</td>\n",
       "      <td>6.0</td>\n",
       "      <td>6.0</td>\n",
       "      <td>6.0</td>\n",
       "      <td>6.0</td>\n",
       "      <td>6.0</td>\n",
       "      <td>6.0</td>\n",
       "      <td>6</td>\n",
       "      <td>6.0</td>\n",
       "      <td>6</td>\n",
       "      <td>6.0</td>\n",
       "      <td>6.0</td>\n",
       "    </tr>\n",
       "    <tr>\n",
       "      <th>unique</th>\n",
       "      <td>6</td>\n",
       "      <td>6.0</td>\n",
       "      <td>6.0</td>\n",
       "      <td>6.0</td>\n",
       "      <td>6.0</td>\n",
       "      <td>6.0</td>\n",
       "      <td>6.0</td>\n",
       "      <td>6.0</td>\n",
       "      <td>6.0</td>\n",
       "      <td>6</td>\n",
       "      <td>6.0</td>\n",
       "      <td>6</td>\n",
       "      <td>6.0</td>\n",
       "      <td>6.0</td>\n",
       "    </tr>\n",
       "    <tr>\n",
       "      <th>top</th>\n",
       "      <td>Petroleum Products</td>\n",
       "      <td>9009.4</td>\n",
       "      <td>8713.3</td>\n",
       "      <td>10125.1</td>\n",
       "      <td>9073.5</td>\n",
       "      <td>9149.5</td>\n",
       "      <td>9351.2</td>\n",
       "      <td>9993.4</td>\n",
       "      <td>8968.3</td>\n",
       "      <td>8475</td>\n",
       "      <td>7946.8</td>\n",
       "      <td>7614</td>\n",
       "      <td>7790.2</td>\n",
       "      <td>6474.8</td>\n",
       "    </tr>\n",
       "    <tr>\n",
       "      <th>freq</th>\n",
       "      <td>1</td>\n",
       "      <td>1.0</td>\n",
       "      <td>1.0</td>\n",
       "      <td>1.0</td>\n",
       "      <td>1.0</td>\n",
       "      <td>1.0</td>\n",
       "      <td>1.0</td>\n",
       "      <td>1.0</td>\n",
       "      <td>1.0</td>\n",
       "      <td>1</td>\n",
       "      <td>1.0</td>\n",
       "      <td>1</td>\n",
       "      <td>1.0</td>\n",
       "      <td>1.0</td>\n",
       "    </tr>\n",
       "  </tbody>\n",
       "</table>\n",
       "</div>"
      ],
      "text/plain": [
       "               Data Series   2021    2020     2019    2018    2017    2016   \\\n",
       "count                    6     6.0     6.0      6.0     6.0     6.0     6.0   \n",
       "unique                   6     6.0     6.0      6.0     6.0     6.0     6.0   \n",
       "top     Petroleum Products  9009.4  8713.3  10125.1  9073.5  9149.5  9351.2   \n",
       "freq                     1     1.0     1.0      1.0     1.0     1.0     1.0   \n",
       "\n",
       "         2015    2014   2013    2012   2011    2010    2009   \n",
       "count      6.0     6.0      6     6.0      6     6.0     6.0  \n",
       "unique     6.0     6.0      6     6.0      6     6.0     6.0  \n",
       "top     9993.4  8968.3   8475  7946.8   7614  7790.2  6474.8  \n",
       "freq       1.0     1.0      1     1.0      1     1.0     1.0  "
      ]
     },
     "execution_count": 36,
     "metadata": {},
     "output_type": "execute_result"
    }
   ],
   "source": [
    "total_final_energy_consumption_by_energy_type_and_sector_for_petroleum_products_dataframe.describe()"
   ]
  },
  {
   "cell_type": "code",
   "execution_count": 57,
   "metadata": {},
   "outputs": [
    {
     "data": {
      "text/html": [
       "<div>\n",
       "<style scoped>\n",
       "    .dataframe tbody tr th:only-of-type {\n",
       "        vertical-align: middle;\n",
       "    }\n",
       "\n",
       "    .dataframe tbody tr th {\n",
       "        vertical-align: top;\n",
       "    }\n",
       "\n",
       "    .dataframe thead th {\n",
       "        text-align: right;\n",
       "    }\n",
       "</style>\n",
       "<table border=\"1\" class=\"dataframe\">\n",
       "  <thead>\n",
       "    <tr style=\"text-align: right;\">\n",
       "      <th>Data Series</th>\n",
       "      <th>Petroleum Products</th>\n",
       "      <th>Industry-Related</th>\n",
       "      <th>Commerce And Services-Related</th>\n",
       "      <th>Transport-Related</th>\n",
       "      <th>Households</th>\n",
       "      <th>Others</th>\n",
       "    </tr>\n",
       "  </thead>\n",
       "  <tbody>\n",
       "    <tr>\n",
       "      <th>2021</th>\n",
       "      <td>9009.4</td>\n",
       "      <td>6423.7</td>\n",
       "      <td>75.2</td>\n",
       "      <td>2485.5</td>\n",
       "      <td>25.1</td>\n",
       "      <td>-</td>\n",
       "    </tr>\n",
       "    <tr>\n",
       "      <th>2020</th>\n",
       "      <td>8713.3</td>\n",
       "      <td>6406.7</td>\n",
       "      <td>69.3</td>\n",
       "      <td>2214.3</td>\n",
       "      <td>23.1</td>\n",
       "      <td>-</td>\n",
       "    </tr>\n",
       "    <tr>\n",
       "      <th>2019</th>\n",
       "      <td>10125.1</td>\n",
       "      <td>7611.1</td>\n",
       "      <td>70.4</td>\n",
       "      <td>2420.2</td>\n",
       "      <td>23.5</td>\n",
       "      <td>-</td>\n",
       "    </tr>\n",
       "    <tr>\n",
       "      <th>2018</th>\n",
       "      <td>9073.5</td>\n",
       "      <td>6519.2</td>\n",
       "      <td>74.4</td>\n",
       "      <td>2455.1</td>\n",
       "      <td>24.8</td>\n",
       "      <td>-</td>\n",
       "    </tr>\n",
       "    <tr>\n",
       "      <th>2017</th>\n",
       "      <td>9149.5</td>\n",
       "      <td>6562.8</td>\n",
       "      <td>75.2</td>\n",
       "      <td>2486.5</td>\n",
       "      <td>25.1</td>\n",
       "      <td>-</td>\n",
       "    </tr>\n",
       "    <tr>\n",
       "      <th>2016</th>\n",
       "      <td>9351.2</td>\n",
       "      <td>6567.2</td>\n",
       "      <td>77.3</td>\n",
       "      <td>2680.9</td>\n",
       "      <td>25.8</td>\n",
       "      <td>-</td>\n",
       "    </tr>\n",
       "    <tr>\n",
       "      <th>2015</th>\n",
       "      <td>9993.4</td>\n",
       "      <td>7265.1</td>\n",
       "      <td>80</td>\n",
       "      <td>2621.5</td>\n",
       "      <td>26.7</td>\n",
       "      <td>-</td>\n",
       "    </tr>\n",
       "    <tr>\n",
       "      <th>2014</th>\n",
       "      <td>8968.3</td>\n",
       "      <td>6665.5</td>\n",
       "      <td>78.9</td>\n",
       "      <td>2199.8</td>\n",
       "      <td>24.1</td>\n",
       "      <td>-</td>\n",
       "    </tr>\n",
       "    <tr>\n",
       "      <th>2013</th>\n",
       "      <td>8475</td>\n",
       "      <td>6225.3</td>\n",
       "      <td>87.3</td>\n",
       "      <td>2133.3</td>\n",
       "      <td>29.1</td>\n",
       "      <td>-</td>\n",
       "    </tr>\n",
       "    <tr>\n",
       "      <th>2012</th>\n",
       "      <td>7946.8</td>\n",
       "      <td>5562</td>\n",
       "      <td>68.3</td>\n",
       "      <td>2292.7</td>\n",
       "      <td>23.7</td>\n",
       "      <td>-</td>\n",
       "    </tr>\n",
       "    <tr>\n",
       "      <th>2011</th>\n",
       "      <td>7614</td>\n",
       "      <td>5153.4</td>\n",
       "      <td>68.9</td>\n",
       "      <td>2366.9</td>\n",
       "      <td>24.8</td>\n",
       "      <td>-</td>\n",
       "    </tr>\n",
       "    <tr>\n",
       "      <th>2010</th>\n",
       "      <td>7790.2</td>\n",
       "      <td>5465.2</td>\n",
       "      <td>84.2</td>\n",
       "      <td>2219.1</td>\n",
       "      <td>21.7</td>\n",
       "      <td>-</td>\n",
       "    </tr>\n",
       "    <tr>\n",
       "      <th>2009</th>\n",
       "      <td>6474.8</td>\n",
       "      <td>4177.7</td>\n",
       "      <td>78.5</td>\n",
       "      <td>2193.3</td>\n",
       "      <td>25.3</td>\n",
       "      <td>-</td>\n",
       "    </tr>\n",
       "  </tbody>\n",
       "</table>\n",
       "</div>"
      ],
      "text/plain": [
       "Data Series Petroleum Products   Industry-Related  \\\n",
       "2021                    9009.4             6423.7   \n",
       "2020                    8713.3             6406.7   \n",
       "2019                   10125.1             7611.1   \n",
       "2018                    9073.5             6519.2   \n",
       "2017                    9149.5             6562.8   \n",
       "2016                    9351.2             6567.2   \n",
       "2015                    9993.4             7265.1   \n",
       "2014                    8968.3             6665.5   \n",
       "2013                      8475             6225.3   \n",
       "2012                    7946.8               5562   \n",
       "2011                      7614             5153.4   \n",
       "2010                    7790.2             5465.2   \n",
       "2009                    6474.8             4177.7   \n",
       "\n",
       "Data Series   Commerce And Services-Related   Transport-Related   Households  \\\n",
       "2021                                   75.2              2485.5         25.1   \n",
       "2020                                   69.3              2214.3         23.1   \n",
       "2019                                   70.4              2420.2         23.5   \n",
       "2018                                   74.4              2455.1         24.8   \n",
       "2017                                   75.2              2486.5         25.1   \n",
       "2016                                   77.3              2680.9         25.8   \n",
       "2015                                     80              2621.5         26.7   \n",
       "2014                                   78.9              2199.8         24.1   \n",
       "2013                                   87.3              2133.3         29.1   \n",
       "2012                                   68.3              2292.7         23.7   \n",
       "2011                                   68.9              2366.9         24.8   \n",
       "2010                                   84.2              2219.1         21.7   \n",
       "2009                                   78.5              2193.3         25.3   \n",
       "\n",
       "Data Series   Others  \n",
       "2021               -  \n",
       "2020               -  \n",
       "2019               -  \n",
       "2018               -  \n",
       "2017               -  \n",
       "2016               -  \n",
       "2015               -  \n",
       "2014               -  \n",
       "2013               -  \n",
       "2012               -  \n",
       "2011               -  \n",
       "2010               -  \n",
       "2009               -  "
      ]
     },
     "execution_count": 57,
     "metadata": {},
     "output_type": "execute_result"
    }
   ],
   "source": [
    "total_final_energy_consumption_by_energy_type_and_sector_for_petroleum_products_dataframe.set_index(\"Data Series\").transpose()"
   ]
  },
  {
   "cell_type": "code",
   "execution_count": 41,
   "metadata": {},
   "outputs": [
    {
     "data": {
      "text/html": [
       "<div>\n",
       "<style scoped>\n",
       "    .dataframe tbody tr th:only-of-type {\n",
       "        vertical-align: middle;\n",
       "    }\n",
       "\n",
       "    .dataframe tbody tr th {\n",
       "        vertical-align: top;\n",
       "    }\n",
       "\n",
       "    .dataframe thead th {\n",
       "        text-align: right;\n",
       "    }\n",
       "</style>\n",
       "<table border=\"1\" class=\"dataframe\">\n",
       "  <thead>\n",
       "    <tr style=\"text-align: right;\">\n",
       "      <th>Data Series</th>\n",
       "      <th>Total Value Of Local Production (Million Dollars)</th>\n",
       "      <th>Seafood (Million Dollars)</th>\n",
       "      <th>Vegetables (Million Dollars)</th>\n",
       "      <th>Hen Shell Eggs (Million Dollars)</th>\n",
       "      <th>Local Production Of Seafood (Tonnes)</th>\n",
       "      <th>Local Production Of Vegetables (Tonnes)</th>\n",
       "      <th>Local Production Of Hen Shell Eggs (Million Pieces)</th>\n",
       "      <th>Local Production Of Aquarium Fish (Million Pieces)</th>\n",
       "      <th>Local Production Of Aquatic Plants And Tissue Culture Plantlets (Million Plants)</th>\n",
       "      <th>Local Production Of Orchids (Million Stalks)</th>\n",
       "      <th>Local Production Of Ornamental Plants (Million Plants)</th>\n",
       "    </tr>\n",
       "  </thead>\n",
       "  <tbody>\n",
       "    <tr>\n",
       "      <th>count</th>\n",
       "      <td>48</td>\n",
       "      <td>48</td>\n",
       "      <td>48</td>\n",
       "      <td>48</td>\n",
       "      <td>48</td>\n",
       "      <td>48</td>\n",
       "      <td>48</td>\n",
       "      <td>48</td>\n",
       "      <td>48</td>\n",
       "      <td>48</td>\n",
       "      <td>48</td>\n",
       "    </tr>\n",
       "    <tr>\n",
       "      <th>unique</th>\n",
       "      <td>6</td>\n",
       "      <td>6</td>\n",
       "      <td>5</td>\n",
       "      <td>6</td>\n",
       "      <td>10</td>\n",
       "      <td>48</td>\n",
       "      <td>10</td>\n",
       "      <td>7</td>\n",
       "      <td>4</td>\n",
       "      <td>18</td>\n",
       "      <td>20</td>\n",
       "    </tr>\n",
       "    <tr>\n",
       "      <th>top</th>\n",
       "      <td>na</td>\n",
       "      <td>na</td>\n",
       "      <td>na</td>\n",
       "      <td>na</td>\n",
       "      <td>na</td>\n",
       "      <td>16915</td>\n",
       "      <td>na</td>\n",
       "      <td>na</td>\n",
       "      <td>na</td>\n",
       "      <td>na</td>\n",
       "      <td>na</td>\n",
       "    </tr>\n",
       "    <tr>\n",
       "      <th>freq</th>\n",
       "      <td>43</td>\n",
       "      <td>43</td>\n",
       "      <td>43</td>\n",
       "      <td>43</td>\n",
       "      <td>39</td>\n",
       "      <td>1</td>\n",
       "      <td>39</td>\n",
       "      <td>41</td>\n",
       "      <td>45</td>\n",
       "      <td>22</td>\n",
       "      <td>23</td>\n",
       "    </tr>\n",
       "  </tbody>\n",
       "</table>\n",
       "</div>"
      ],
      "text/plain": [
       "Data Series Total Value Of Local Production (Million Dollars)  \\\n",
       "count                                                      48   \n",
       "unique                                                      6   \n",
       "top                                                        na   \n",
       "freq                                                       43   \n",
       "\n",
       "Data Series   Seafood (Million Dollars)   Vegetables (Million Dollars)  \\\n",
       "count                                48                             48   \n",
       "unique                                6                              5   \n",
       "top                                  na                             na   \n",
       "freq                                 43                             43   \n",
       "\n",
       "Data Series   Hen Shell Eggs (Million Dollars)  \\\n",
       "count                                       48   \n",
       "unique                                       6   \n",
       "top                                         na   \n",
       "freq                                        43   \n",
       "\n",
       "Data Series Local Production Of Seafood (Tonnes)  \\\n",
       "count                                         48   \n",
       "unique                                        10   \n",
       "top                                           na   \n",
       "freq                                          39   \n",
       "\n",
       "Data Series  Local Production Of Vegetables (Tonnes)  \\\n",
       "count                                             48   \n",
       "unique                                            48   \n",
       "top                                            16915   \n",
       "freq                                               1   \n",
       "\n",
       "Data Series Local Production Of Hen Shell Eggs (Million Pieces)  \\\n",
       "count                                                       48    \n",
       "unique                                                      10    \n",
       "top                                                         na    \n",
       "freq                                                        39    \n",
       "\n",
       "Data Series Local Production Of Aquarium Fish (Million Pieces)  \\\n",
       "count                                                       48   \n",
       "unique                                                       7   \n",
       "top                                                         na   \n",
       "freq                                                        41   \n",
       "\n",
       "Data Series Local Production Of Aquatic Plants And Tissue Culture Plantlets (Million Plants)  \\\n",
       "count                                                       48                                 \n",
       "unique                                                       4                                 \n",
       "top                                                         na                                 \n",
       "freq                                                        45                                 \n",
       "\n",
       "Data Series Local Production Of Orchids (Million Stalks)  \\\n",
       "count                                                 48   \n",
       "unique                                                18   \n",
       "top                                                   na   \n",
       "freq                                                  22   \n",
       "\n",
       "Data Series Local Production Of Ornamental Plants (Million Plants)  \n",
       "count                                                       48      \n",
       "unique                                                      20      \n",
       "top                                                         na      \n",
       "freq                                                        23      "
      ]
     },
     "execution_count": 41,
     "metadata": {},
     "output_type": "execute_result"
    }
   ],
   "source": [
    "local_food_production_annual_dataframe.describe()"
   ]
  },
  {
   "cell_type": "code",
   "execution_count": 38,
   "metadata": {},
   "outputs": [
    {
     "data": {
      "text/html": [
       "<div>\n",
       "<style scoped>\n",
       "    .dataframe tbody tr th:only-of-type {\n",
       "        vertical-align: middle;\n",
       "    }\n",
       "\n",
       "    .dataframe tbody tr th {\n",
       "        vertical-align: top;\n",
       "    }\n",
       "\n",
       "    .dataframe thead th {\n",
       "        text-align: right;\n",
       "    }\n",
       "</style>\n",
       "<table border=\"1\" class=\"dataframe\">\n",
       "  <thead>\n",
       "    <tr style=\"text-align: right;\">\n",
       "      <th></th>\n",
       "      <th>year</th>\n",
       "      <th>ura_planning_region</th>\n",
       "      <th>residential_status</th>\n",
       "      <th>num_solar_pv_inst</th>\n",
       "      <th>inst_cap_kwac</th>\n",
       "      <th>total_inst_cap_percent</th>\n",
       "    </tr>\n",
       "  </thead>\n",
       "  <tbody>\n",
       "    <tr>\n",
       "      <th>0</th>\n",
       "      <td>2008</td>\n",
       "      <td>Central</td>\n",
       "      <td>Non-Residential</td>\n",
       "      <td>4</td>\n",
       "      <td>73.2</td>\n",
       "      <td>30.0</td>\n",
       "    </tr>\n",
       "    <tr>\n",
       "      <th>1</th>\n",
       "      <td>2008</td>\n",
       "      <td>Central</td>\n",
       "      <td>Residential</td>\n",
       "      <td>4</td>\n",
       "      <td>19.9</td>\n",
       "      <td>10.0</td>\n",
       "    </tr>\n",
       "    <tr>\n",
       "      <th>2</th>\n",
       "      <td>2008</td>\n",
       "      <td>East</td>\n",
       "      <td>Non-Residential</td>\n",
       "      <td>1</td>\n",
       "      <td>2.3</td>\n",
       "      <td>0.0</td>\n",
       "    </tr>\n",
       "    <tr>\n",
       "      <th>3</th>\n",
       "      <td>2008</td>\n",
       "      <td>East</td>\n",
       "      <td>Residential</td>\n",
       "      <td>1</td>\n",
       "      <td>6.6</td>\n",
       "      <td>0.0</td>\n",
       "    </tr>\n",
       "    <tr>\n",
       "      <th>4</th>\n",
       "      <td>2008</td>\n",
       "      <td>North-East</td>\n",
       "      <td>Non-Residential</td>\n",
       "      <td>10</td>\n",
       "      <td>65.3</td>\n",
       "      <td>20.0</td>\n",
       "    </tr>\n",
       "    <tr>\n",
       "      <th>...</th>\n",
       "      <td>...</td>\n",
       "      <td>...</td>\n",
       "      <td>...</td>\n",
       "      <td>...</td>\n",
       "      <td>...</td>\n",
       "      <td>...</td>\n",
       "    </tr>\n",
       "    <tr>\n",
       "      <th>135</th>\n",
       "      <td>2021</td>\n",
       "      <td>North-East</td>\n",
       "      <td>Residential</td>\n",
       "      <td>616</td>\n",
       "      <td>2990.3</td>\n",
       "      <td>0.9</td>\n",
       "    </tr>\n",
       "    <tr>\n",
       "      <th>136</th>\n",
       "      <td>2021</td>\n",
       "      <td>North</td>\n",
       "      <td>Non-Residential</td>\n",
       "      <td>720</td>\n",
       "      <td>52915.5</td>\n",
       "      <td>15.5</td>\n",
       "    </tr>\n",
       "    <tr>\n",
       "      <th>137</th>\n",
       "      <td>2021</td>\n",
       "      <td>North</td>\n",
       "      <td>Residential</td>\n",
       "      <td>57</td>\n",
       "      <td>524.7</td>\n",
       "      <td>0.2</td>\n",
       "    </tr>\n",
       "    <tr>\n",
       "      <th>138</th>\n",
       "      <td>2021</td>\n",
       "      <td>West</td>\n",
       "      <td>Non-Residential</td>\n",
       "      <td>1015</td>\n",
       "      <td>154485.1</td>\n",
       "      <td>45.2</td>\n",
       "    </tr>\n",
       "    <tr>\n",
       "      <th>139</th>\n",
       "      <td>2021</td>\n",
       "      <td>West</td>\n",
       "      <td>Residential</td>\n",
       "      <td>77</td>\n",
       "      <td>724.8</td>\n",
       "      <td>0.2</td>\n",
       "    </tr>\n",
       "  </tbody>\n",
       "</table>\n",
       "<p>140 rows × 6 columns</p>\n",
       "</div>"
      ],
      "text/plain": [
       "     year ura_planning_region residential_status  num_solar_pv_inst  \\\n",
       "0    2008             Central    Non-Residential                  4   \n",
       "1    2008             Central        Residential                  4   \n",
       "2    2008                East    Non-Residential                  1   \n",
       "3    2008                East        Residential                  1   \n",
       "4    2008          North-East    Non-Residential                 10   \n",
       "..    ...                 ...                ...                ...   \n",
       "135  2021          North-East        Residential                616   \n",
       "136  2021               North    Non-Residential                720   \n",
       "137  2021               North        Residential                 57   \n",
       "138  2021                West    Non-Residential               1015   \n",
       "139  2021                West        Residential                 77   \n",
       "\n",
       "     inst_cap_kwac  total_inst_cap_percent  \n",
       "0             73.2                    30.0  \n",
       "1             19.9                    10.0  \n",
       "2              2.3                     0.0  \n",
       "3              6.6                     0.0  \n",
       "4             65.3                    20.0  \n",
       "..             ...                     ...  \n",
       "135         2990.3                     0.9  \n",
       "136        52915.5                    15.5  \n",
       "137          524.7                     0.2  \n",
       "138       154485.1                    45.2  \n",
       "139          724.8                     0.2  \n",
       "\n",
       "[140 rows x 6 columns]"
      ]
     },
     "execution_count": 38,
     "metadata": {},
     "output_type": "execute_result"
    }
   ],
   "source": [
    "solar_pv_installations_by_ura_planning_region_dataframe"
   ]
  },
  {
   "cell_type": "code",
   "execution_count": 39,
   "metadata": {},
   "outputs": [
    {
     "data": {
      "text/html": [
       "<div>\n",
       "<style scoped>\n",
       "    .dataframe tbody tr th:only-of-type {\n",
       "        vertical-align: middle;\n",
       "    }\n",
       "\n",
       "    .dataframe tbody tr th {\n",
       "        vertical-align: top;\n",
       "    }\n",
       "\n",
       "    .dataframe thead th {\n",
       "        text-align: right;\n",
       "    }\n",
       "</style>\n",
       "<table border=\"1\" class=\"dataframe\">\n",
       "  <thead>\n",
       "    <tr style=\"text-align: right;\">\n",
       "      <th></th>\n",
       "      <th>year</th>\n",
       "      <th>num_solar_pv_inst</th>\n",
       "      <th>inst_cap_kwac</th>\n",
       "      <th>total_inst_cap_percent</th>\n",
       "    </tr>\n",
       "  </thead>\n",
       "  <tbody>\n",
       "    <tr>\n",
       "      <th>count</th>\n",
       "      <td>140.000000</td>\n",
       "      <td>140.000000</td>\n",
       "      <td>140.000000</td>\n",
       "      <td>140.000000</td>\n",
       "    </tr>\n",
       "    <tr>\n",
       "      <th>mean</th>\n",
       "      <td>2014.500000</td>\n",
       "      <td>158.292857</td>\n",
       "      <td>10124.407857</td>\n",
       "      <td>10.002857</td>\n",
       "    </tr>\n",
       "    <tr>\n",
       "      <th>std</th>\n",
       "      <td>4.045603</td>\n",
       "      <td>213.314153</td>\n",
       "      <td>24071.582149</td>\n",
       "      <td>12.083701</td>\n",
       "    </tr>\n",
       "    <tr>\n",
       "      <th>min</th>\n",
       "      <td>2008.000000</td>\n",
       "      <td>0.000000</td>\n",
       "      <td>0.000000</td>\n",
       "      <td>0.000000</td>\n",
       "    </tr>\n",
       "    <tr>\n",
       "      <th>25%</th>\n",
       "      <td>2011.000000</td>\n",
       "      <td>13.500000</td>\n",
       "      <td>136.775000</td>\n",
       "      <td>0.500000</td>\n",
       "    </tr>\n",
       "    <tr>\n",
       "      <th>50%</th>\n",
       "      <td>2014.500000</td>\n",
       "      <td>50.000000</td>\n",
       "      <td>953.350000</td>\n",
       "      <td>4.250000</td>\n",
       "    </tr>\n",
       "    <tr>\n",
       "      <th>75%</th>\n",
       "      <td>2018.000000</td>\n",
       "      <td>254.000000</td>\n",
       "      <td>6329.925000</td>\n",
       "      <td>15.500000</td>\n",
       "    </tr>\n",
       "    <tr>\n",
       "      <th>max</th>\n",
       "      <td>2021.000000</td>\n",
       "      <td>1015.000000</td>\n",
       "      <td>154485.100000</td>\n",
       "      <td>47.300000</td>\n",
       "    </tr>\n",
       "  </tbody>\n",
       "</table>\n",
       "</div>"
      ],
      "text/plain": [
       "              year  num_solar_pv_inst  inst_cap_kwac  total_inst_cap_percent\n",
       "count   140.000000         140.000000     140.000000              140.000000\n",
       "mean   2014.500000         158.292857   10124.407857               10.002857\n",
       "std       4.045603         213.314153   24071.582149               12.083701\n",
       "min    2008.000000           0.000000       0.000000                0.000000\n",
       "25%    2011.000000          13.500000     136.775000                0.500000\n",
       "50%    2014.500000          50.000000     953.350000                4.250000\n",
       "75%    2018.000000         254.000000    6329.925000               15.500000\n",
       "max    2021.000000        1015.000000  154485.100000               47.300000"
      ]
     },
     "execution_count": 39,
     "metadata": {},
     "output_type": "execute_result"
    }
   ],
   "source": [
    "solar_pv_installations_by_ura_planning_region_dataframe.describe()"
   ]
  }
 ],
 "metadata": {
  "kernelspec": {
   "display_name": "base",
   "language": "python",
   "name": "python3"
  },
  "language_info": {
   "codemirror_mode": {
    "name": "ipython",
    "version": 3
   },
   "file_extension": ".py",
   "mimetype": "text/x-python",
   "name": "python",
   "nbconvert_exporter": "python",
   "pygments_lexer": "ipython3",
   "version": "3.12.4"
  }
 },
 "nbformat": 4,
 "nbformat_minor": 2
}
