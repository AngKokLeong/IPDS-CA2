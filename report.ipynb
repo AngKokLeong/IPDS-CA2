{
 "cells": [
  {
   "cell_type": "markdown",
   "metadata": {},
   "source": [
    "Title of Research Question"
   ]
  },
  {
   "cell_type": "markdown",
   "metadata": {},
   "source": [
    "Executive Summary\n",
    "\n"
   ]
  },
  {
   "cell_type": "markdown",
   "metadata": {},
   "source": []
  },
  {
   "cell_type": "markdown",
   "metadata": {},
   "source": [
    "https://beta.data.gov.sg/datasets?query=transport&resultId=d_45175a1ff466b44414a9a1aeef564e6f\n",
    "\n",
    "\n",
    "https://beta.data.gov.sg/datasets?agencies=Land+Transport+Authority+%28LTA%29&resultId=d_69b3380ad7e51aff3a7dcc84eba52b8a (COE Bidding Results)\n",
    "\n",
    "\n",
    "\n",
    "https://www.lta.gov.sg/content/dam/ltagov/who_we_are/statistics_and_publications/statistics/pdf/MVP01-3-1_Cars_by_age.pdf (Age Distribution of Car Population)\n",
    "\n",
    "https://beta.data.gov.sg/datasets/d_bdc4c6434e47b055de4b5f2fde10c1af/view (Average Annual Kilometres Travelled Per Vehicle)\n",
    "\n",
    "\n",
    "\n",
    "\n",
    "https://beta.data.gov.sg/datasets/d_7a0847fef60362e46e59d0f844c938ba/view (Annual Motor Vehicle Population by Type of Fuel Used)\n",
    "\n",
    "\n",
    "https://beta.data.gov.sg/datasets/d_8a3216bd5ae98a287f3cb297706e9d80/view (Annual Motor Vehicle Inspection - Passing Rate of Motor Vehicle on First Inspection)\n",
    "\n",
    "\n",
    "https://beta.data.gov.sg/datasets/d_f8876e8c0959ba5bcfa2c40cf6d25dab/view (Motor Vehicle Population under Vehicle Quota System)\n",
    "\n",
    "\n",
    "https://beta.data.gov.sg/datasets/d_26f6afadf2f86b2004f9a1e28f5564cc/view (Average Speed During Peak Hours)\n",
    "\n",
    "\n",
    "https://beta.data.gov.sg/datasets/d_2ecb009f1e1ec5a816a454944dec4022/view (Monthly Motor Vehicle Population by Vehicle Type)\n",
    "\n",
    "\n",
    "https://beta.data.gov.sg/datasets/d_f9fc45b610aa9d100db3abef789e3ef5/view (Annual Goods Vehicle and Bus Population By Make)\n",
    "\n"
   ]
  },
  {
   "cell_type": "code",
   "execution_count": null,
   "metadata": {},
   "outputs": [],
   "source": [
    "#Use Chi-Square Testing for different category \n",
    "\n",
    "# Paired T-Test \n",
    "\n",
    "# Two Sample Independent Test\n",
    "\n"
   ]
  },
  {
   "cell_type": "markdown",
   "metadata": {},
   "source": [
    "Green Energy\n",
    "\n",
    "https://beta.data.gov.sg/datasets/d_500440fba49cfc69f395e6dd1df967de/view (Total Final Energy Consumption)\n",
    "\n",
    "https://beta.data.gov.sg/datasets/d_dec34f3ed7daeb6429c8d8b7c36852d2/view (Annual Fuel Mix for Electricity Generation by Energy Products, 2005 to Jun 2021)\n",
    "\n",
    "https://beta.data.gov.sg/datasets/d_3de362b580b2dd2fd50cc1006d4edd4f/view (Electricity Grid Emission Factors and Upstream Fugitive Methane Emission Factor)\n",
    "\n",
    "\n",
    "https://beta.data.gov.sg/datasets/d_926d3e304c0b41e56d4cbd3304acf105/view (Peak System Demand, 2005 to Jul 2021)\n",
    "\n",
    "https://beta.data.gov.sg/datasets/d_cd4f91f7a1ebb2b7ceb1a70c0dbb706d/view (Solar PV Installations by URA Planning Region)\n",
    "\n",
    "https://beta.data.gov.sg/datasets/d_60634abbf4b55bf18355c30c07b7037f/view (Stock Change, 2009 to 2019)\n",
    "\n",
    "https://beta.data.gov.sg/datasets/d_e8fb7c462d24dac06375c552a776988c/view (Total Household Town Gas Consumption by Dwelling Type, 2005 to Jun 2021)\n",
    "\n"
   ]
  },
  {
   "cell_type": "markdown",
   "metadata": {},
   "source": [
    "Greener Infrastructure and Buildings\n",
    "\n",
    "Look at BCA\n",
    "\n"
   ]
  },
  {
   "cell_type": "markdown",
   "metadata": {},
   "source": [
    "Department of Statistics\n",
    "\n",
    "\n",
    "Electricity Generation Monthly Data (https://tablebuilder.singstat.gov.sg/table/TS/M890831)\n",
    "\n",
    "Electricity Generation and Consumption (https://tablebuilder.singstat.gov.sg/table/TS/M890841) Annual\n",
    "\n",
    "Total Final Energy Consumption By Energy Type and Sector (https://tablebuilder.singstat.gov.sg/table/TS/M891111) Annual \n"
   ]
  },
  {
   "cell_type": "markdown",
   "metadata": {},
   "source": [
    "Local Food\n",
    "\n",
    "\n",
    "https://beta.data.gov.sg/datasets/d_21ae7d83dd7ee33c8c932ba2564fd8aa/view (Value of Local Food Production in Singapore)\n",
    "https://beta.data.gov.sg/datasets/d_203c698549799927dd74aed8d226528b/view (Licensed Food Establishments By Grade)\n",
    "https://beta.data.gov.sg/datasets/d_3995b7317bd9b550f814b117efde0097/view (Licensed Food Factories (End Of Period) Annual)"
   ]
  },
  {
   "cell_type": "markdown",
   "metadata": {},
   "source": [
    "Department of Statistics (Food)\n",
    "\n",
    "https://tablebuilder.singstat.gov.sg/table/TS/M890721 (Local Production) Annual\n",
    "\n",
    "https://tablebuilder.singstat.gov.sg/table/TS/M891471 (Licensed Local Food Farms) Annual\n",
    "\n",
    "\n",
    "\n",
    "https://www.fairpricegroup.com.sg/media-and-reports/reports/ (Use the data from NTUC Fairprice Group as a reference)\n",
    "\n",
    "Use Tabula to retrieve or extract data from PDF file\n"
   ]
  },
  {
   "cell_type": "code",
   "execution_count": null,
   "metadata": {},
   "outputs": [],
   "source": [
    "D"
   ]
  }
 ],
 "metadata": {
  "language_info": {
   "name": "python"
  }
 },
 "nbformat": 4,
 "nbformat_minor": 2
}
