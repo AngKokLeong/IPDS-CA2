{
 "cells": [
  {
   "cell_type": "markdown",
   "metadata": {},
   "source": [
    "# How far are we from the goals defined in the Singapore Green Plan 2030?"
   ]
  },
  {
   "cell_type": "markdown",
   "metadata": {},
   "source": [
    "## Executive Summary"
   ]
  },
  {
   "cell_type": "markdown",
   "metadata": {},
   "source": [
    "The data analysis for Singapore Local Farm shows that the productivity of the Fish and Vegetable farms was decreasing due to challenging factors such as setting up preventive measures or rising construction costs\n",
    "\n",
    "The electricity demand for 2025 of 1.5 GWh is a milestone that can be achieved at the rate of the installation for the Solar PV\n",
    "\n",
    "Local Fish and Vegetable farm owners are facing challenging obstacles to grow their farms however there are avenues to seek assistance \n"
   ]
  },
  {
   "cell_type": "markdown",
   "metadata": {},
   "source": [
    "## Introduction"
   ]
  },
  {
   "cell_type": "markdown",
   "metadata": {},
   "source": [
    "The Singapore Green Plan 2030 is an initiative that aims to encourage \"whole-of-nation\" movement and moving towards Singapore's national agenda on sustainable development.\n",
    "\n",
    "Five ministries [Ministries of Sustainability and the Environment (MSE), Trade and Industry (MTI), Transport (MOT), National Development (MND), and Education(MOE)] are working together with the support by the whole of government to push the initiative with ambitious and concrete targets for a better sustainable future in Singapore.\n",
    "\n",
    "\n"
   ]
  },
  {
   "cell_type": "markdown",
   "metadata": {},
   "source": [
    "## Aim of this analysis"
   ]
  },
  {
   "cell_type": "markdown",
   "metadata": {},
   "source": [
    "This analysis attempts to find out if the target set in the Singapore Green Plan 2030 can be achieved by 2030. \n",
    "\n",
    "The focus of this analysis due to time constraint and knowledge constraint is narrow down to two key factors:\n",
    "- Energy Reset\n",
    "    - Green Energy\n",
    "        - 1.5 Gigawatt-peak of electricity generation from solar panel can meet the annual electricity needs for about 260000 households\n",
    "- Resilient Future\n",
    "    - Grow Local\n",
    "        - Build the local production of agri-food industry that can have the capability and capacity to produce 30% of Singapore's nutritional needs locally and sustainably\n"
   ]
  },
  {
   "cell_type": "markdown",
   "metadata": {},
   "source": [
    "## Bias in this analysis\n",
    "\n",
    "The data obtained in this analysis are aggregated data and it is not raw data.\n"
   ]
  },
  {
   "cell_type": "markdown",
   "metadata": {},
   "source": [
    "## Environment Setup"
   ]
  },
  {
   "cell_type": "code",
   "execution_count": 1,
   "metadata": {},
   "outputs": [],
   "source": [
    "import pandas\n",
    "import database\n",
    "import bokeh\n",
    "import seaborn\n",
    "import matplotlib.pyplot as plt\n",
    "import etl_processor\n",
    "from io import StringIO # Refer to https://pandas.pydata.org/pandas-docs/stable/reference/api/pandas.read_json.html for more information about read_json direct json string input deprecation"
   ]
  },
  {
   "cell_type": "markdown",
   "metadata": {},
   "source": [
    "### Data Preparation"
   ]
  },
  {
   "cell_type": "markdown",
   "metadata": {},
   "source": [
    "#### Total Final Energy Consumption by Energy Type and Sector"
   ]
  },
  {
   "cell_type": "code",
   "execution_count": 2,
   "metadata": {},
   "outputs": [],
   "source": [
    "total_final_energy_consumption_by_energy_type_and_sector_dataframe: pandas.DataFrame = pandas.read_json(StringIO(database.extract.TotalFinalEnergyConsumptionByEnergyTypeAndSector().retrieve_data().to_json()))"
   ]
  },
  {
   "cell_type": "markdown",
   "metadata": {},
   "source": [
    "#### Electricity Generation by Monthly data"
   ]
  },
  {
   "cell_type": "code",
   "execution_count": 3,
   "metadata": {},
   "outputs": [],
   "source": [
    "electricity_generation_by_month_dataframe: pandas.DataFrame = pandas.read_json(StringIO(database.extract.ElectricityGenerationMonthlyData().retrieve_data().to_json()))"
   ]
  },
  {
   "cell_type": "markdown",
   "metadata": {},
   "source": [
    "#### Electricity Generation and Consumption"
   ]
  },
  {
   "cell_type": "code",
   "execution_count": 4,
   "metadata": {},
   "outputs": [],
   "source": [
    "electricity_generation_and_consumption_by_month_dataframe: pandas.DataFrame = pandas.read_json(StringIO(database.extract.ElectricityGenerationAndConsumptionByMonth().retrieve_data().to_json()))"
   ]
  },
  {
   "cell_type": "markdown",
   "metadata": {},
   "source": [
    "#### Peak System Demand from 2005 to Jul 2021"
   ]
  },
  {
   "cell_type": "code",
   "execution_count": 5,
   "metadata": {},
   "outputs": [],
   "source": [
    "peak_system_demand_dataframe: pandas.DataFrame = pandas.read_json(StringIO(database.extract.PeakSystemDemand().retrieve_data().to_json()))"
   ]
  },
  {
   "cell_type": "markdown",
   "metadata": {},
   "source": [
    "#### Solar PV Installations by URA Planning Region"
   ]
  },
  {
   "cell_type": "code",
   "execution_count": 6,
   "metadata": {},
   "outputs": [],
   "source": [
    "solar_pv_installations_by_ura_planning_region_dataframe: pandas.DataFrame = etl_processor.csv_file_data_source.retrieve_data_for_solar_pv_installations_by_ura_planning_region()"
   ]
  },
  {
   "cell_type": "markdown",
   "metadata": {},
   "source": [
    "#### Local Production Annual"
   ]
  },
  {
   "cell_type": "code",
   "execution_count": 7,
   "metadata": {},
   "outputs": [],
   "source": [
    "local_food_production_annual_dataframe: pandas.DataFrame = pandas.read_json(StringIO(database.extract.LocalFoodProduction().retrieve_data().to_json()))\n"
   ]
  },
  {
   "cell_type": "markdown",
   "metadata": {},
   "source": [
    "#### Licensed Local Food Farm"
   ]
  },
  {
   "cell_type": "code",
   "execution_count": 8,
   "metadata": {},
   "outputs": [],
   "source": [
    "licensed_local_food_farm_dataframe: pandas.DataFrame = pandas.read_json(StringIO(database.extract.LicensedLocalFoodFarm().retrieve_data().to_json()))"
   ]
  },
  {
   "cell_type": "markdown",
   "metadata": {},
   "source": [
    "#### Household Electricty Consumption By Dwelling Type"
   ]
  },
  {
   "cell_type": "code",
   "execution_count": 9,
   "metadata": {},
   "outputs": [],
   "source": [
    "household_electricity_consumption_by_dwelling_type_dataframe:pandas.DataFrame = etl_processor.excel_file_data_source.retrieve_data_for_household_electricity_consumption_by_dwelling_type()"
   ]
  },
  {
   "cell_type": "markdown",
   "metadata": {},
   "source": [
    "### Five Number Summary"
   ]
  },
  {
   "cell_type": "code",
   "execution_count": 10,
   "metadata": {},
   "outputs": [
    {
     "data": {
      "text/html": [
       "<div>\n",
       "<style scoped>\n",
       "    .dataframe tbody tr th:only-of-type {\n",
       "        vertical-align: middle;\n",
       "    }\n",
       "\n",
       "    .dataframe tbody tr th {\n",
       "        vertical-align: top;\n",
       "    }\n",
       "\n",
       "    .dataframe thead th {\n",
       "        text-align: right;\n",
       "    }\n",
       "</style>\n",
       "<table border=\"1\" class=\"dataframe\">\n",
       "  <thead>\n",
       "    <tr style=\"text-align: right;\">\n",
       "      <th></th>\n",
       "      <th>year</th>\n",
       "      <th>consumption_ktoe</th>\n",
       "    </tr>\n",
       "  </thead>\n",
       "  <tbody>\n",
       "    <tr>\n",
       "      <th>count</th>\n",
       "      <td>380.000000</td>\n",
       "      <td>380.000000</td>\n",
       "    </tr>\n",
       "    <tr>\n",
       "      <th>mean</th>\n",
       "      <td>2014.855263</td>\n",
       "      <td>482.777105</td>\n",
       "    </tr>\n",
       "    <tr>\n",
       "      <th>std</th>\n",
       "      <td>3.685184</td>\n",
       "      <td>1236.994109</td>\n",
       "    </tr>\n",
       "    <tr>\n",
       "      <th>min</th>\n",
       "      <td>2009.000000</td>\n",
       "      <td>0.000000</td>\n",
       "    </tr>\n",
       "    <tr>\n",
       "      <th>25%</th>\n",
       "      <td>2012.000000</td>\n",
       "      <td>0.000000</td>\n",
       "    </tr>\n",
       "    <tr>\n",
       "      <th>50%</th>\n",
       "      <td>2015.000000</td>\n",
       "      <td>0.800000</td>\n",
       "    </tr>\n",
       "    <tr>\n",
       "      <th>75%</th>\n",
       "      <td>2018.000000</td>\n",
       "      <td>170.225000</td>\n",
       "    </tr>\n",
       "    <tr>\n",
       "      <th>max</th>\n",
       "      <td>2021.000000</td>\n",
       "      <td>7611.100000</td>\n",
       "    </tr>\n",
       "  </tbody>\n",
       "</table>\n",
       "</div>"
      ],
      "text/plain": [
       "              year  consumption_ktoe\n",
       "count   380.000000        380.000000\n",
       "mean   2014.855263        482.777105\n",
       "std       3.685184       1236.994109\n",
       "min    2009.000000          0.000000\n",
       "25%    2012.000000          0.000000\n",
       "50%    2015.000000          0.800000\n",
       "75%    2018.000000        170.225000\n",
       "max    2021.000000       7611.100000"
      ]
     },
     "execution_count": 10,
     "metadata": {},
     "output_type": "execute_result"
    }
   ],
   "source": [
    "total_final_energy_consumption_by_energy_type_and_sector_dataframe.describe()"
   ]
  },
  {
   "cell_type": "code",
   "execution_count": 11,
   "metadata": {},
   "outputs": [
    {
     "data": {
      "text/html": [
       "<div>\n",
       "<style scoped>\n",
       "    .dataframe tbody tr th:only-of-type {\n",
       "        vertical-align: middle;\n",
       "    }\n",
       "\n",
       "    .dataframe tbody tr th {\n",
       "        vertical-align: top;\n",
       "    }\n",
       "\n",
       "    .dataframe thead th {\n",
       "        text-align: right;\n",
       "    }\n",
       "</style>\n",
       "<table border=\"1\" class=\"dataframe\">\n",
       "  <thead>\n",
       "    <tr style=\"text-align: right;\">\n",
       "      <th></th>\n",
       "      <th>electricity_generation</th>\n",
       "    </tr>\n",
       "  </thead>\n",
       "  <tbody>\n",
       "    <tr>\n",
       "      <th>count</th>\n",
       "      <td>591.000000</td>\n",
       "    </tr>\n",
       "    <tr>\n",
       "      <th>mean</th>\n",
       "      <td>2460.361421</td>\n",
       "    </tr>\n",
       "    <tr>\n",
       "      <th>std</th>\n",
       "      <td>1483.701883</td>\n",
       "    </tr>\n",
       "    <tr>\n",
       "      <th>min</th>\n",
       "      <td>289.600000</td>\n",
       "    </tr>\n",
       "    <tr>\n",
       "      <th>25%</th>\n",
       "      <td>963.050000</td>\n",
       "    </tr>\n",
       "    <tr>\n",
       "      <th>50%</th>\n",
       "      <td>2485.100000</td>\n",
       "    </tr>\n",
       "    <tr>\n",
       "      <th>75%</th>\n",
       "      <td>3854.500000</td>\n",
       "    </tr>\n",
       "    <tr>\n",
       "      <th>max</th>\n",
       "      <td>5032.700000</td>\n",
       "    </tr>\n",
       "  </tbody>\n",
       "</table>\n",
       "</div>"
      ],
      "text/plain": [
       "       electricity_generation\n",
       "count              591.000000\n",
       "mean              2460.361421\n",
       "std               1483.701883\n",
       "min                289.600000\n",
       "25%                963.050000\n",
       "50%               2485.100000\n",
       "75%               3854.500000\n",
       "max               5032.700000"
      ]
     },
     "execution_count": 11,
     "metadata": {},
     "output_type": "execute_result"
    }
   ],
   "source": [
    "electricity_generation_by_month_dataframe.describe()"
   ]
  },
  {
   "cell_type": "code",
   "execution_count": 12,
   "metadata": {},
   "outputs": [
    {
     "data": {
      "text/html": [
       "<div>\n",
       "<style scoped>\n",
       "    .dataframe tbody tr th:only-of-type {\n",
       "        vertical-align: middle;\n",
       "    }\n",
       "\n",
       "    .dataframe tbody tr th {\n",
       "        vertical-align: top;\n",
       "    }\n",
       "\n",
       "    .dataframe thead th {\n",
       "        text-align: right;\n",
       "    }\n",
       "</style>\n",
       "<table border=\"1\" class=\"dataframe\">\n",
       "  <thead>\n",
       "    <tr style=\"text-align: right;\">\n",
       "      <th></th>\n",
       "      <th>year</th>\n",
       "      <th>electricity_generation</th>\n",
       "      <th>industrial_related</th>\n",
       "      <th>manufacturing</th>\n",
       "      <th>construction</th>\n",
       "      <th>utilities</th>\n",
       "      <th>other_industrial_related</th>\n",
       "      <th>commerce_and_service_related</th>\n",
       "      <th>wholesale_and_retail_trade</th>\n",
       "      <th>accommodation_and_food_services</th>\n",
       "      <th>information_and_communications</th>\n",
       "      <th>financial_and_insurance_activities</th>\n",
       "      <th>real_estate_activities</th>\n",
       "      <th>professional_scientific_and_technical_administration_and_support_activities</th>\n",
       "      <th>other_commerce_and_service_related</th>\n",
       "      <th>transport_related</th>\n",
       "      <th>households</th>\n",
       "      <th>others</th>\n",
       "    </tr>\n",
       "  </thead>\n",
       "  <tbody>\n",
       "    <tr>\n",
       "      <th>count</th>\n",
       "      <td>49.00000</td>\n",
       "      <td>49.000000</td>\n",
       "      <td>49.000000</td>\n",
       "      <td>49.000000</td>\n",
       "      <td>49.000000</td>\n",
       "      <td>49.000000</td>\n",
       "      <td>49.000000</td>\n",
       "      <td>49.000000</td>\n",
       "      <td>49.000000</td>\n",
       "      <td>49.000000</td>\n",
       "      <td>49.000000</td>\n",
       "      <td>49.000000</td>\n",
       "      <td>49.000000</td>\n",
       "      <td>49.00000</td>\n",
       "      <td>49.000000</td>\n",
       "      <td>49.000000</td>\n",
       "      <td>49.000000</td>\n",
       "      <td>49.000000</td>\n",
       "    </tr>\n",
       "    <tr>\n",
       "      <th>mean</th>\n",
       "      <td>1999.00000</td>\n",
       "      <td>29380.983673</td>\n",
       "      <td>6950.393878</td>\n",
       "      <td>6392.142857</td>\n",
       "      <td>147.955102</td>\n",
       "      <td>395.557143</td>\n",
       "      <td>14.753061</td>\n",
       "      <td>6190.816327</td>\n",
       "      <td>758.165306</td>\n",
       "      <td>474.538776</td>\n",
       "      <td>634.871429</td>\n",
       "      <td>791.177551</td>\n",
       "      <td>1605.393878</td>\n",
       "      <td>293.94898</td>\n",
       "      <td>1632.714286</td>\n",
       "      <td>828.361224</td>\n",
       "      <td>2566.534694</td>\n",
       "      <td>123.704082</td>\n",
       "    </tr>\n",
       "    <tr>\n",
       "      <th>std</th>\n",
       "      <td>14.28869</td>\n",
       "      <td>17841.923017</td>\n",
       "      <td>9348.078050</td>\n",
       "      <td>8572.189164</td>\n",
       "      <td>205.076144</td>\n",
       "      <td>575.396844</td>\n",
       "      <td>20.488179</td>\n",
       "      <td>8312.045526</td>\n",
       "      <td>1009.722968</td>\n",
       "      <td>634.562262</td>\n",
       "      <td>1105.039225</td>\n",
       "      <td>1068.020231</td>\n",
       "      <td>2138.993044</td>\n",
       "      <td>394.14992</td>\n",
       "      <td>2175.235986</td>\n",
       "      <td>1161.556842</td>\n",
       "      <td>3430.696300</td>\n",
       "      <td>179.426129</td>\n",
       "    </tr>\n",
       "    <tr>\n",
       "      <th>min</th>\n",
       "      <td>1975.00000</td>\n",
       "      <td>4175.700000</td>\n",
       "      <td>0.000000</td>\n",
       "      <td>0.000000</td>\n",
       "      <td>0.000000</td>\n",
       "      <td>0.000000</td>\n",
       "      <td>0.000000</td>\n",
       "      <td>0.000000</td>\n",
       "      <td>0.000000</td>\n",
       "      <td>0.000000</td>\n",
       "      <td>0.000000</td>\n",
       "      <td>0.000000</td>\n",
       "      <td>0.000000</td>\n",
       "      <td>0.00000</td>\n",
       "      <td>0.000000</td>\n",
       "      <td>0.000000</td>\n",
       "      <td>0.000000</td>\n",
       "      <td>0.000000</td>\n",
       "    </tr>\n",
       "    <tr>\n",
       "      <th>25%</th>\n",
       "      <td>1987.00000</td>\n",
       "      <td>11813.800000</td>\n",
       "      <td>0.000000</td>\n",
       "      <td>0.000000</td>\n",
       "      <td>0.000000</td>\n",
       "      <td>0.000000</td>\n",
       "      <td>0.000000</td>\n",
       "      <td>0.000000</td>\n",
       "      <td>0.000000</td>\n",
       "      <td>0.000000</td>\n",
       "      <td>0.000000</td>\n",
       "      <td>0.000000</td>\n",
       "      <td>0.000000</td>\n",
       "      <td>0.00000</td>\n",
       "      <td>0.000000</td>\n",
       "      <td>0.000000</td>\n",
       "      <td>0.000000</td>\n",
       "      <td>0.000000</td>\n",
       "    </tr>\n",
       "    <tr>\n",
       "      <th>50%</th>\n",
       "      <td>1999.00000</td>\n",
       "      <td>29520.100000</td>\n",
       "      <td>0.000000</td>\n",
       "      <td>0.000000</td>\n",
       "      <td>0.000000</td>\n",
       "      <td>0.000000</td>\n",
       "      <td>0.000000</td>\n",
       "      <td>0.000000</td>\n",
       "      <td>0.000000</td>\n",
       "      <td>0.000000</td>\n",
       "      <td>0.000000</td>\n",
       "      <td>0.000000</td>\n",
       "      <td>0.000000</td>\n",
       "      <td>0.00000</td>\n",
       "      <td>0.000000</td>\n",
       "      <td>0.000000</td>\n",
       "      <td>0.000000</td>\n",
       "      <td>0.000000</td>\n",
       "    </tr>\n",
       "    <tr>\n",
       "      <th>75%</th>\n",
       "      <td>2011.00000</td>\n",
       "      <td>45999.400000</td>\n",
       "      <td>17662.600000</td>\n",
       "      <td>16448.000000</td>\n",
       "      <td>337.800000</td>\n",
       "      <td>843.400000</td>\n",
       "      <td>33.300000</td>\n",
       "      <td>15469.700000</td>\n",
       "      <td>1924.700000</td>\n",
       "      <td>1219.600000</td>\n",
       "      <td>925.500000</td>\n",
       "      <td>2014.600000</td>\n",
       "      <td>4346.200000</td>\n",
       "      <td>722.30000</td>\n",
       "      <td>4275.700000</td>\n",
       "      <td>2098.700000</td>\n",
       "      <td>6482.700000</td>\n",
       "      <td>258.400000</td>\n",
       "    </tr>\n",
       "    <tr>\n",
       "      <th>max</th>\n",
       "      <td>2023.00000</td>\n",
       "      <td>57389.700000</td>\n",
       "      <td>22693.900000</td>\n",
       "      <td>20682.100000</td>\n",
       "      <td>551.600000</td>\n",
       "      <td>1574.500000</td>\n",
       "      <td>56.600000</td>\n",
       "      <td>21187.300000</td>\n",
       "      <td>2316.500000</td>\n",
       "      <td>1523.300000</td>\n",
       "      <td>4852.400000</td>\n",
       "      <td>2718.100000</td>\n",
       "      <td>4865.100000</td>\n",
       "      <td>949.40000</td>\n",
       "      <td>4984.300000</td>\n",
       "      <td>3019.200000</td>\n",
       "      <td>8277.700000</td>\n",
       "      <td>612.100000</td>\n",
       "    </tr>\n",
       "  </tbody>\n",
       "</table>\n",
       "</div>"
      ],
      "text/plain": [
       "             year  electricity_generation  industrial_related  manufacturing  \\\n",
       "count    49.00000               49.000000           49.000000      49.000000   \n",
       "mean   1999.00000            29380.983673         6950.393878    6392.142857   \n",
       "std      14.28869            17841.923017         9348.078050    8572.189164   \n",
       "min    1975.00000             4175.700000            0.000000       0.000000   \n",
       "25%    1987.00000            11813.800000            0.000000       0.000000   \n",
       "50%    1999.00000            29520.100000            0.000000       0.000000   \n",
       "75%    2011.00000            45999.400000        17662.600000   16448.000000   \n",
       "max    2023.00000            57389.700000        22693.900000   20682.100000   \n",
       "\n",
       "       construction    utilities  other_industrial_related  \\\n",
       "count     49.000000    49.000000                 49.000000   \n",
       "mean     147.955102   395.557143                 14.753061   \n",
       "std      205.076144   575.396844                 20.488179   \n",
       "min        0.000000     0.000000                  0.000000   \n",
       "25%        0.000000     0.000000                  0.000000   \n",
       "50%        0.000000     0.000000                  0.000000   \n",
       "75%      337.800000   843.400000                 33.300000   \n",
       "max      551.600000  1574.500000                 56.600000   \n",
       "\n",
       "       commerce_and_service_related  wholesale_and_retail_trade  \\\n",
       "count                     49.000000                   49.000000   \n",
       "mean                    6190.816327                  758.165306   \n",
       "std                     8312.045526                 1009.722968   \n",
       "min                        0.000000                    0.000000   \n",
       "25%                        0.000000                    0.000000   \n",
       "50%                        0.000000                    0.000000   \n",
       "75%                    15469.700000                 1924.700000   \n",
       "max                    21187.300000                 2316.500000   \n",
       "\n",
       "       accommodation_and_food_services  information_and_communications  \\\n",
       "count                        49.000000                       49.000000   \n",
       "mean                        474.538776                      634.871429   \n",
       "std                         634.562262                     1105.039225   \n",
       "min                           0.000000                        0.000000   \n",
       "25%                           0.000000                        0.000000   \n",
       "50%                           0.000000                        0.000000   \n",
       "75%                        1219.600000                      925.500000   \n",
       "max                        1523.300000                     4852.400000   \n",
       "\n",
       "       financial_and_insurance_activities  real_estate_activities  \\\n",
       "count                           49.000000               49.000000   \n",
       "mean                           791.177551             1605.393878   \n",
       "std                           1068.020231             2138.993044   \n",
       "min                              0.000000                0.000000   \n",
       "25%                              0.000000                0.000000   \n",
       "50%                              0.000000                0.000000   \n",
       "75%                           2014.600000             4346.200000   \n",
       "max                           2718.100000             4865.100000   \n",
       "\n",
       "       professional_scientific_and_technical_administration_and_support_activities  \\\n",
       "count                                           49.00000                             \n",
       "mean                                           293.94898                             \n",
       "std                                            394.14992                             \n",
       "min                                              0.00000                             \n",
       "25%                                              0.00000                             \n",
       "50%                                              0.00000                             \n",
       "75%                                            722.30000                             \n",
       "max                                            949.40000                             \n",
       "\n",
       "       other_commerce_and_service_related  transport_related   households  \\\n",
       "count                           49.000000          49.000000    49.000000   \n",
       "mean                          1632.714286         828.361224  2566.534694   \n",
       "std                           2175.235986        1161.556842  3430.696300   \n",
       "min                              0.000000           0.000000     0.000000   \n",
       "25%                              0.000000           0.000000     0.000000   \n",
       "50%                              0.000000           0.000000     0.000000   \n",
       "75%                           4275.700000        2098.700000  6482.700000   \n",
       "max                           4984.300000        3019.200000  8277.700000   \n",
       "\n",
       "           others  \n",
       "count   49.000000  \n",
       "mean   123.704082  \n",
       "std    179.426129  \n",
       "min      0.000000  \n",
       "25%      0.000000  \n",
       "50%      0.000000  \n",
       "75%    258.400000  \n",
       "max    612.100000  "
      ]
     },
     "execution_count": 12,
     "metadata": {},
     "output_type": "execute_result"
    }
   ],
   "source": [
    "electricity_generation_and_consumption_by_month_dataframe.describe()"
   ]
  },
  {
   "cell_type": "code",
   "execution_count": 13,
   "metadata": {},
   "outputs": [
    {
     "data": {
      "text/html": [
       "<div>\n",
       "<style scoped>\n",
       "    .dataframe tbody tr th:only-of-type {\n",
       "        vertical-align: middle;\n",
       "    }\n",
       "\n",
       "    .dataframe tbody tr th {\n",
       "        vertical-align: top;\n",
       "    }\n",
       "\n",
       "    .dataframe thead th {\n",
       "        text-align: right;\n",
       "    }\n",
       "</style>\n",
       "<table border=\"1\" class=\"dataframe\">\n",
       "  <thead>\n",
       "    <tr style=\"text-align: right;\">\n",
       "      <th></th>\n",
       "      <th>year</th>\n",
       "      <th>month</th>\n",
       "      <th>peak_system_demand_mw</th>\n",
       "    </tr>\n",
       "  </thead>\n",
       "  <tbody>\n",
       "    <tr>\n",
       "      <th>count</th>\n",
       "      <td>199.000000</td>\n",
       "      <td>199.00000</td>\n",
       "      <td>199.000000</td>\n",
       "    </tr>\n",
       "    <tr>\n",
       "      <th>mean</th>\n",
       "      <td>2012.798995</td>\n",
       "      <td>6.41206</td>\n",
       "      <td>6464.577889</td>\n",
       "    </tr>\n",
       "    <tr>\n",
       "      <th>std</th>\n",
       "      <td>4.803176</td>\n",
       "      <td>3.45111</td>\n",
       "      <td>628.524915</td>\n",
       "    </tr>\n",
       "    <tr>\n",
       "      <th>min</th>\n",
       "      <td>2005.000000</td>\n",
       "      <td>1.00000</td>\n",
       "      <td>5083.000000</td>\n",
       "    </tr>\n",
       "    <tr>\n",
       "      <th>25%</th>\n",
       "      <td>2009.000000</td>\n",
       "      <td>3.00000</td>\n",
       "      <td>5913.000000</td>\n",
       "    </tr>\n",
       "    <tr>\n",
       "      <th>50%</th>\n",
       "      <td>2013.000000</td>\n",
       "      <td>6.00000</td>\n",
       "      <td>6552.000000</td>\n",
       "    </tr>\n",
       "    <tr>\n",
       "      <th>75%</th>\n",
       "      <td>2017.000000</td>\n",
       "      <td>9.00000</td>\n",
       "      <td>6982.000000</td>\n",
       "    </tr>\n",
       "    <tr>\n",
       "      <th>max</th>\n",
       "      <td>2021.000000</td>\n",
       "      <td>12.00000</td>\n",
       "      <td>7562.000000</td>\n",
       "    </tr>\n",
       "  </tbody>\n",
       "</table>\n",
       "</div>"
      ],
      "text/plain": [
       "              year      month  peak_system_demand_mw\n",
       "count   199.000000  199.00000             199.000000\n",
       "mean   2012.798995    6.41206            6464.577889\n",
       "std       4.803176    3.45111             628.524915\n",
       "min    2005.000000    1.00000            5083.000000\n",
       "25%    2009.000000    3.00000            5913.000000\n",
       "50%    2013.000000    6.00000            6552.000000\n",
       "75%    2017.000000    9.00000            6982.000000\n",
       "max    2021.000000   12.00000            7562.000000"
      ]
     },
     "execution_count": 13,
     "metadata": {},
     "output_type": "execute_result"
    }
   ],
   "source": [
    "peak_system_demand_dataframe.describe()"
   ]
  },
  {
   "cell_type": "code",
   "execution_count": 14,
   "metadata": {},
   "outputs": [
    {
     "data": {
      "text/html": [
       "<div>\n",
       "<style scoped>\n",
       "    .dataframe tbody tr th:only-of-type {\n",
       "        vertical-align: middle;\n",
       "    }\n",
       "\n",
       "    .dataframe tbody tr th {\n",
       "        vertical-align: top;\n",
       "    }\n",
       "\n",
       "    .dataframe thead th {\n",
       "        text-align: right;\n",
       "    }\n",
       "</style>\n",
       "<table border=\"1\" class=\"dataframe\">\n",
       "  <thead>\n",
       "    <tr style=\"text-align: right;\">\n",
       "      <th></th>\n",
       "      <th>year</th>\n",
       "      <th>num_solar_pv_inst</th>\n",
       "      <th>inst_cap_kwac</th>\n",
       "      <th>total_inst_cap_percent</th>\n",
       "    </tr>\n",
       "  </thead>\n",
       "  <tbody>\n",
       "    <tr>\n",
       "      <th>count</th>\n",
       "      <td>140.000000</td>\n",
       "      <td>140.000000</td>\n",
       "      <td>140.000000</td>\n",
       "      <td>140.000000</td>\n",
       "    </tr>\n",
       "    <tr>\n",
       "      <th>mean</th>\n",
       "      <td>2014.500000</td>\n",
       "      <td>158.292857</td>\n",
       "      <td>10124.407857</td>\n",
       "      <td>10.002857</td>\n",
       "    </tr>\n",
       "    <tr>\n",
       "      <th>std</th>\n",
       "      <td>4.045603</td>\n",
       "      <td>213.314153</td>\n",
       "      <td>24071.582149</td>\n",
       "      <td>12.083701</td>\n",
       "    </tr>\n",
       "    <tr>\n",
       "      <th>min</th>\n",
       "      <td>2008.000000</td>\n",
       "      <td>0.000000</td>\n",
       "      <td>0.000000</td>\n",
       "      <td>0.000000</td>\n",
       "    </tr>\n",
       "    <tr>\n",
       "      <th>25%</th>\n",
       "      <td>2011.000000</td>\n",
       "      <td>13.500000</td>\n",
       "      <td>136.775000</td>\n",
       "      <td>0.500000</td>\n",
       "    </tr>\n",
       "    <tr>\n",
       "      <th>50%</th>\n",
       "      <td>2014.500000</td>\n",
       "      <td>50.000000</td>\n",
       "      <td>953.350000</td>\n",
       "      <td>4.250000</td>\n",
       "    </tr>\n",
       "    <tr>\n",
       "      <th>75%</th>\n",
       "      <td>2018.000000</td>\n",
       "      <td>254.000000</td>\n",
       "      <td>6329.925000</td>\n",
       "      <td>15.500000</td>\n",
       "    </tr>\n",
       "    <tr>\n",
       "      <th>max</th>\n",
       "      <td>2021.000000</td>\n",
       "      <td>1015.000000</td>\n",
       "      <td>154485.100000</td>\n",
       "      <td>47.300000</td>\n",
       "    </tr>\n",
       "  </tbody>\n",
       "</table>\n",
       "</div>"
      ],
      "text/plain": [
       "              year  num_solar_pv_inst  inst_cap_kwac  total_inst_cap_percent\n",
       "count   140.000000         140.000000     140.000000              140.000000\n",
       "mean   2014.500000         158.292857   10124.407857               10.002857\n",
       "std       4.045603         213.314153   24071.582149               12.083701\n",
       "min    2008.000000           0.000000       0.000000                0.000000\n",
       "25%    2011.000000          13.500000     136.775000                0.500000\n",
       "50%    2014.500000          50.000000     953.350000                4.250000\n",
       "75%    2018.000000         254.000000    6329.925000               15.500000\n",
       "max    2021.000000        1015.000000  154485.100000               47.300000"
      ]
     },
     "execution_count": 14,
     "metadata": {},
     "output_type": "execute_result"
    }
   ],
   "source": [
    "solar_pv_installations_by_ura_planning_region_dataframe.describe()"
   ]
  },
  {
   "cell_type": "code",
   "execution_count": 15,
   "metadata": {},
   "outputs": [
    {
     "data": {
      "text/html": [
       "<div>\n",
       "<style scoped>\n",
       "    .dataframe tbody tr th:only-of-type {\n",
       "        vertical-align: middle;\n",
       "    }\n",
       "\n",
       "    .dataframe tbody tr th {\n",
       "        vertical-align: top;\n",
       "    }\n",
       "\n",
       "    .dataframe thead th {\n",
       "        text-align: right;\n",
       "    }\n",
       "</style>\n",
       "<table border=\"1\" class=\"dataframe\">\n",
       "  <thead>\n",
       "    <tr style=\"text-align: right;\">\n",
       "      <th></th>\n",
       "      <th>year</th>\n",
       "      <th>total_value_of_local_production_million_dollars</th>\n",
       "      <th>seafood_million_dollars</th>\n",
       "      <th>vegetable_million_dollars</th>\n",
       "      <th>hen_shell_eggs_million_dollars</th>\n",
       "      <th>local_production_of_seafood_tonnes</th>\n",
       "      <th>local_production_of_vegetables_tonnes</th>\n",
       "      <th>local_production_of_hen_shell_eggs_million_tonnes</th>\n",
       "      <th>local_production_of_aquarium_fish_million_pieces</th>\n",
       "      <th>local_production_of_aquatic_plants_and_tissue_culture_plantlets_million_plants</th>\n",
       "      <th>local_production_of_orchids_million_stalks</th>\n",
       "      <th>local_production_of_ornamental_plants_million_plants</th>\n",
       "    </tr>\n",
       "  </thead>\n",
       "  <tbody>\n",
       "    <tr>\n",
       "      <th>count</th>\n",
       "      <td>48.00</td>\n",
       "      <td>48.000000</td>\n",
       "      <td>48.000000</td>\n",
       "      <td>48.000000</td>\n",
       "      <td>48.000000</td>\n",
       "      <td>48.000000</td>\n",
       "      <td>48.000000</td>\n",
       "      <td>48.000000</td>\n",
       "      <td>48.000000</td>\n",
       "      <td>48.000000</td>\n",
       "      <td>48.000000</td>\n",
       "      <td>48.000000</td>\n",
       "    </tr>\n",
       "    <tr>\n",
       "      <th>mean</th>\n",
       "      <td>1999.50</td>\n",
       "      <td>19.895833</td>\n",
       "      <td>4.083333</td>\n",
       "      <td>4.479167</td>\n",
       "      <td>11.395833</td>\n",
       "      <td>960.666667</td>\n",
       "      <td>21057.812500</td>\n",
       "      <td>103.416667</td>\n",
       "      <td>10.854167</td>\n",
       "      <td>0.958333</td>\n",
       "      <td>8.958333</td>\n",
       "      <td>19.979167</td>\n",
       "    </tr>\n",
       "    <tr>\n",
       "      <th>std</th>\n",
       "      <td>14.00</td>\n",
       "      <td>59.583390</td>\n",
       "      <td>12.184457</td>\n",
       "      <td>13.295319</td>\n",
       "      <td>34.959393</td>\n",
       "      <td>2041.400805</td>\n",
       "      <td>10063.252798</td>\n",
       "      <td>220.774828</td>\n",
       "      <td>26.676142</td>\n",
       "      <td>3.764099</td>\n",
       "      <td>11.051058</td>\n",
       "      <td>21.907435</td>\n",
       "    </tr>\n",
       "    <tr>\n",
       "      <th>min</th>\n",
       "      <td>1976.00</td>\n",
       "      <td>0.000000</td>\n",
       "      <td>0.000000</td>\n",
       "      <td>0.000000</td>\n",
       "      <td>0.000000</td>\n",
       "      <td>0.000000</td>\n",
       "      <td>4597.000000</td>\n",
       "      <td>0.000000</td>\n",
       "      <td>0.000000</td>\n",
       "      <td>0.000000</td>\n",
       "      <td>0.000000</td>\n",
       "      <td>0.000000</td>\n",
       "    </tr>\n",
       "    <tr>\n",
       "      <th>25%</th>\n",
       "      <td>1987.75</td>\n",
       "      <td>0.000000</td>\n",
       "      <td>0.000000</td>\n",
       "      <td>0.000000</td>\n",
       "      <td>0.000000</td>\n",
       "      <td>0.000000</td>\n",
       "      <td>16748.250000</td>\n",
       "      <td>0.000000</td>\n",
       "      <td>0.000000</td>\n",
       "      <td>0.000000</td>\n",
       "      <td>0.000000</td>\n",
       "      <td>0.000000</td>\n",
       "    </tr>\n",
       "    <tr>\n",
       "      <th>50%</th>\n",
       "      <td>1999.50</td>\n",
       "      <td>0.000000</td>\n",
       "      <td>0.000000</td>\n",
       "      <td>0.000000</td>\n",
       "      <td>0.000000</td>\n",
       "      <td>0.000000</td>\n",
       "      <td>19537.500000</td>\n",
       "      <td>0.000000</td>\n",
       "      <td>0.000000</td>\n",
       "      <td>0.000000</td>\n",
       "      <td>7.000000</td>\n",
       "      <td>14.000000</td>\n",
       "    </tr>\n",
       "    <tr>\n",
       "      <th>75%</th>\n",
       "      <td>2011.25</td>\n",
       "      <td>0.000000</td>\n",
       "      <td>0.000000</td>\n",
       "      <td>0.000000</td>\n",
       "      <td>0.000000</td>\n",
       "      <td>0.000000</td>\n",
       "      <td>23637.750000</td>\n",
       "      <td>0.000000</td>\n",
       "      <td>0.000000</td>\n",
       "      <td>0.000000</td>\n",
       "      <td>12.250000</td>\n",
       "      <td>40.000000</td>\n",
       "    </tr>\n",
       "    <tr>\n",
       "      <th>max</th>\n",
       "      <td>2023.00</td>\n",
       "      <td>233.000000</td>\n",
       "      <td>46.000000</td>\n",
       "      <td>47.000000</td>\n",
       "      <td>156.000000</td>\n",
       "      <td>6432.000000</td>\n",
       "      <td>42861.000000</td>\n",
       "      <td>685.000000</td>\n",
       "      <td>85.000000</td>\n",
       "      <td>17.000000</td>\n",
       "      <td>42.000000</td>\n",
       "      <td>70.000000</td>\n",
       "    </tr>\n",
       "  </tbody>\n",
       "</table>\n",
       "</div>"
      ],
      "text/plain": [
       "          year  total_value_of_local_production_million_dollars  \\\n",
       "count    48.00                                        48.000000   \n",
       "mean   1999.50                                        19.895833   \n",
       "std      14.00                                        59.583390   \n",
       "min    1976.00                                         0.000000   \n",
       "25%    1987.75                                         0.000000   \n",
       "50%    1999.50                                         0.000000   \n",
       "75%    2011.25                                         0.000000   \n",
       "max    2023.00                                       233.000000   \n",
       "\n",
       "       seafood_million_dollars  vegetable_million_dollars  \\\n",
       "count                48.000000                  48.000000   \n",
       "mean                  4.083333                   4.479167   \n",
       "std                  12.184457                  13.295319   \n",
       "min                   0.000000                   0.000000   \n",
       "25%                   0.000000                   0.000000   \n",
       "50%                   0.000000                   0.000000   \n",
       "75%                   0.000000                   0.000000   \n",
       "max                  46.000000                  47.000000   \n",
       "\n",
       "       hen_shell_eggs_million_dollars  local_production_of_seafood_tonnes  \\\n",
       "count                       48.000000                           48.000000   \n",
       "mean                        11.395833                          960.666667   \n",
       "std                         34.959393                         2041.400805   \n",
       "min                          0.000000                            0.000000   \n",
       "25%                          0.000000                            0.000000   \n",
       "50%                          0.000000                            0.000000   \n",
       "75%                          0.000000                            0.000000   \n",
       "max                        156.000000                         6432.000000   \n",
       "\n",
       "       local_production_of_vegetables_tonnes  \\\n",
       "count                              48.000000   \n",
       "mean                            21057.812500   \n",
       "std                             10063.252798   \n",
       "min                              4597.000000   \n",
       "25%                             16748.250000   \n",
       "50%                             19537.500000   \n",
       "75%                             23637.750000   \n",
       "max                             42861.000000   \n",
       "\n",
       "       local_production_of_hen_shell_eggs_million_tonnes  \\\n",
       "count                                          48.000000   \n",
       "mean                                          103.416667   \n",
       "std                                           220.774828   \n",
       "min                                             0.000000   \n",
       "25%                                             0.000000   \n",
       "50%                                             0.000000   \n",
       "75%                                             0.000000   \n",
       "max                                           685.000000   \n",
       "\n",
       "       local_production_of_aquarium_fish_million_pieces  \\\n",
       "count                                         48.000000   \n",
       "mean                                          10.854167   \n",
       "std                                           26.676142   \n",
       "min                                            0.000000   \n",
       "25%                                            0.000000   \n",
       "50%                                            0.000000   \n",
       "75%                                            0.000000   \n",
       "max                                           85.000000   \n",
       "\n",
       "       local_production_of_aquatic_plants_and_tissue_culture_plantlets_million_plants  \\\n",
       "count                                          48.000000                                \n",
       "mean                                            0.958333                                \n",
       "std                                             3.764099                                \n",
       "min                                             0.000000                                \n",
       "25%                                             0.000000                                \n",
       "50%                                             0.000000                                \n",
       "75%                                             0.000000                                \n",
       "max                                            17.000000                                \n",
       "\n",
       "       local_production_of_orchids_million_stalks  \\\n",
       "count                                   48.000000   \n",
       "mean                                     8.958333   \n",
       "std                                     11.051058   \n",
       "min                                      0.000000   \n",
       "25%                                      0.000000   \n",
       "50%                                      7.000000   \n",
       "75%                                     12.250000   \n",
       "max                                     42.000000   \n",
       "\n",
       "       local_production_of_ornamental_plants_million_plants  \n",
       "count                                          48.000000     \n",
       "mean                                           19.979167     \n",
       "std                                            21.907435     \n",
       "min                                             0.000000     \n",
       "25%                                             0.000000     \n",
       "50%                                            14.000000     \n",
       "75%                                            40.000000     \n",
       "max                                            70.000000     "
      ]
     },
     "execution_count": 15,
     "metadata": {},
     "output_type": "execute_result"
    }
   ],
   "source": [
    "local_food_production_annual_dataframe.describe()"
   ]
  },
  {
   "cell_type": "code",
   "execution_count": 16,
   "metadata": {},
   "outputs": [
    {
     "data": {
      "text/html": [
       "<div>\n",
       "<style scoped>\n",
       "    .dataframe tbody tr th:only-of-type {\n",
       "        vertical-align: middle;\n",
       "    }\n",
       "\n",
       "    .dataframe tbody tr th {\n",
       "        vertical-align: top;\n",
       "    }\n",
       "\n",
       "    .dataframe thead th {\n",
       "        text-align: right;\n",
       "    }\n",
       "</style>\n",
       "<table border=\"1\" class=\"dataframe\">\n",
       "  <thead>\n",
       "    <tr style=\"text-align: right;\">\n",
       "      <th></th>\n",
       "      <th>year</th>\n",
       "      <th>number_of_licensed_local_food_farms</th>\n",
       "      <th>sea_based_seafood</th>\n",
       "      <th>land_based_seafood</th>\n",
       "      <th>vegetables</th>\n",
       "      <th>hen_shell_eggs</th>\n",
       "      <th>others</th>\n",
       "    </tr>\n",
       "  </thead>\n",
       "  <tbody>\n",
       "    <tr>\n",
       "      <th>count</th>\n",
       "      <td>5.000000</td>\n",
       "      <td>5.000000</td>\n",
       "      <td>5.000000</td>\n",
       "      <td>5.000000</td>\n",
       "      <td>5.0</td>\n",
       "      <td>5.0</td>\n",
       "      <td>5.000000</td>\n",
       "    </tr>\n",
       "    <tr>\n",
       "      <th>mean</th>\n",
       "      <td>2021.000000</td>\n",
       "      <td>245.800000</td>\n",
       "      <td>107.200000</td>\n",
       "      <td>24.800000</td>\n",
       "      <td>104.0</td>\n",
       "      <td>3.0</td>\n",
       "      <td>6.800000</td>\n",
       "    </tr>\n",
       "    <tr>\n",
       "      <th>std</th>\n",
       "      <td>1.581139</td>\n",
       "      <td>16.483325</td>\n",
       "      <td>5.167204</td>\n",
       "      <td>6.723095</td>\n",
       "      <td>13.0</td>\n",
       "      <td>0.0</td>\n",
       "      <td>1.095445</td>\n",
       "    </tr>\n",
       "    <tr>\n",
       "      <th>min</th>\n",
       "      <td>2019.000000</td>\n",
       "      <td>221.000000</td>\n",
       "      <td>98.000000</td>\n",
       "      <td>15.000000</td>\n",
       "      <td>85.0</td>\n",
       "      <td>3.0</td>\n",
       "      <td>5.000000</td>\n",
       "    </tr>\n",
       "    <tr>\n",
       "      <th>25%</th>\n",
       "      <td>2020.000000</td>\n",
       "      <td>237.000000</td>\n",
       "      <td>109.000000</td>\n",
       "      <td>22.000000</td>\n",
       "      <td>96.0</td>\n",
       "      <td>3.0</td>\n",
       "      <td>7.000000</td>\n",
       "    </tr>\n",
       "    <tr>\n",
       "      <th>50%</th>\n",
       "      <td>2021.000000</td>\n",
       "      <td>254.000000</td>\n",
       "      <td>109.000000</td>\n",
       "      <td>27.000000</td>\n",
       "      <td>111.0</td>\n",
       "      <td>3.0</td>\n",
       "      <td>7.000000</td>\n",
       "    </tr>\n",
       "    <tr>\n",
       "      <th>75%</th>\n",
       "      <td>2022.000000</td>\n",
       "      <td>257.000000</td>\n",
       "      <td>110.000000</td>\n",
       "      <td>27.000000</td>\n",
       "      <td>113.0</td>\n",
       "      <td>3.0</td>\n",
       "      <td>7.000000</td>\n",
       "    </tr>\n",
       "    <tr>\n",
       "      <th>max</th>\n",
       "      <td>2023.000000</td>\n",
       "      <td>260.000000</td>\n",
       "      <td>110.000000</td>\n",
       "      <td>33.000000</td>\n",
       "      <td>115.0</td>\n",
       "      <td>3.0</td>\n",
       "      <td>8.000000</td>\n",
       "    </tr>\n",
       "  </tbody>\n",
       "</table>\n",
       "</div>"
      ],
      "text/plain": [
       "              year  number_of_licensed_local_food_farms  sea_based_seafood  \\\n",
       "count     5.000000                             5.000000           5.000000   \n",
       "mean   2021.000000                           245.800000         107.200000   \n",
       "std       1.581139                            16.483325           5.167204   \n",
       "min    2019.000000                           221.000000          98.000000   \n",
       "25%    2020.000000                           237.000000         109.000000   \n",
       "50%    2021.000000                           254.000000         109.000000   \n",
       "75%    2022.000000                           257.000000         110.000000   \n",
       "max    2023.000000                           260.000000         110.000000   \n",
       "\n",
       "       land_based_seafood  vegetables  hen_shell_eggs    others  \n",
       "count            5.000000         5.0             5.0  5.000000  \n",
       "mean            24.800000       104.0             3.0  6.800000  \n",
       "std              6.723095        13.0             0.0  1.095445  \n",
       "min             15.000000        85.0             3.0  5.000000  \n",
       "25%             22.000000        96.0             3.0  7.000000  \n",
       "50%             27.000000       111.0             3.0  7.000000  \n",
       "75%             27.000000       113.0             3.0  7.000000  \n",
       "max             33.000000       115.0             3.0  8.000000  "
      ]
     },
     "execution_count": 16,
     "metadata": {},
     "output_type": "execute_result"
    }
   ],
   "source": [
    "licensed_local_food_farm_dataframe.describe()"
   ]
  },
  {
   "cell_type": "code",
   "execution_count": 17,
   "metadata": {},
   "outputs": [
    {
     "data": {
      "text/plain": [
       "<Axes: ylabel='number_of_licensed_local_food_farms'>"
      ]
     },
     "execution_count": 17,
     "metadata": {},
     "output_type": "execute_result"
    },
    {
     "data": {
      "image/png": "[encoded data removed]",
      "text/plain": [
       "<Figure size 640x480 with 1 Axes>"
      ]
     },
     "metadata": {},
     "output_type": "display_data"
    }
   ],
   "source": [
    "seaborn.boxplot(licensed_local_food_farm_dataframe[\"number_of_licensed_local_food_farms\"])"
   ]
  },
  {
   "cell_type": "code",
   "execution_count": 18,
   "metadata": {},
   "outputs": [
    {
     "data": {
      "text/plain": [
       "<Axes: ylabel='land_based_seafood'>"
      ]
     },
     "execution_count": 18,
     "metadata": {},
     "output_type": "execute_result"
    },
    {
     "data": {
      "image/png": "[encoded data removed]",
      "text/plain": [
       "<Figure size 640x480 with 1 Axes>"
      ]
     },
     "metadata": {},
     "output_type": "display_data"
    }
   ],
   "source": [
    "seaborn.boxplot(licensed_local_food_farm_dataframe[\"land_based_seafood\"])"
   ]
  },
  {
   "cell_type": "code",
   "execution_count": 19,
   "metadata": {},
   "outputs": [
    {
     "data": {
      "text/plain": [
       "<Axes: ylabel='vegetables'>"
      ]
     },
     "execution_count": 19,
     "metadata": {},
     "output_type": "execute_result"
    },
    {
     "data": {
      "image/png": "[encoded data removed]",
      "text/plain": [
       "<Figure size 640x480 with 1 Axes>"
      ]
     },
     "metadata": {},
     "output_type": "display_data"
    }
   ],
   "source": [
    "seaborn.boxplot(licensed_local_food_farm_dataframe[\"vegetables\"])"
   ]
  },
  {
   "cell_type": "markdown",
   "metadata": {},
   "source": [
    "## Exploratory Data Analysis"
   ]
  },
  {
   "cell_type": "markdown",
   "metadata": {},
   "source": [
    "### Food Security and growing local capabilities to supply more local grown food in Singapore"
   ]
  },
  {
   "cell_type": "markdown",
   "metadata": {},
   "source": [
    "This section focus on the Resilent Future pillar where the food security is the focal point in this analysis.\n",
    "\n",
    "The pillar 'Resilient Future' in the SG Green Plan was to build up the national resilience and the ability to handle future challenges on climate change.\n",
    "Strengthening Food Security is one of the key challenges Singapore faced and the target goal for \n",
    "\n",
    "- Resilient Future\n",
    "    - Grow Local\n",
    "        - Build the local production of agri-food industry that can have the capability and capacity to produce 30% of Singapore's nutritional needs locally and sustainably"
   ]
  },
  {
   "cell_type": "markdown",
   "metadata": {},
   "source": [
    "#### Determine the current number of licensed food farm for the local food supply"
   ]
  },
  {
   "cell_type": "code",
   "execution_count": 20,
   "metadata": {},
   "outputs": [],
   "source": [
    "licensed_local_food_farm_dataframe = licensed_local_food_farm_dataframe.astype({'year': 'str'}, copy=True)"
   ]
  },
  {
   "cell_type": "code",
   "execution_count": 21,
   "metadata": {},
   "outputs": [],
   "source": [
    "licensed_local_food_farm_dataframe= licensed_local_food_farm_dataframe.sort_values(by=\"year\", ascending=True)"
   ]
  },
  {
   "cell_type": "code",
   "execution_count": 22,
   "metadata": {},
   "outputs": [
    {
     "data": {
      "text/plain": [
       "Index(['year', 'number_of_licensed_local_food_farms', 'sea_based_seafood',\n",
       "       'land_based_seafood', 'vegetables', 'hen_shell_eggs', 'others'],\n",
       "      dtype='object')"
      ]
     },
     "execution_count": 22,
     "metadata": {},
     "output_type": "execute_result"
    }
   ],
   "source": [
    "licensed_local_food_farm_dataframe.columns"
   ]
  },
  {
   "cell_type": "code",
   "execution_count": 23,
   "metadata": {},
   "outputs": [
    {
     "data": {
      "image/png": "[encoded data removed]",
      "text/plain": [
       "<Figure size 640x480 with 1 Axes>"
      ]
     },
     "metadata": {},
     "output_type": "display_data"
    }
   ],
   "source": [
    "seaborn.set_style('ticks')\n",
    "plt.rcParams.update({'font.size': 8})\n",
    "\n",
    "number_of_licensed_local_food_farm_plot = seaborn.lineplot(data=licensed_local_food_farm_dataframe, y=\"number_of_licensed_local_food_farms\", x=\"year\", markers=\"o\", color='salmon', label='Local Farms')\n",
    "\n",
    "plt.title('Number of licensed local food farms')\n",
    "\n",
    "\n",
    "# Add a legend\n",
    "plt.legend(loc='lower right')\n",
    "\n",
    "# Add a grid\n",
    "plt.grid(True)\n",
    " \n",
    "# Remove the top and right spines\n",
    "seaborn.despine()\n",
    "number_of_licensed_local_food_farm_plot.set(xlabel=\"Year\", ylabel=\"Number of Licensed Local Food Farms\")\n",
    "plt.show()"
   ]
  },
  {
   "cell_type": "markdown",
   "metadata": {},
   "source": [
    "#### Breakdown of Different Local Licensed Farms "
   ]
  },
  {
   "cell_type": "code",
   "execution_count": 24,
   "metadata": {},
   "outputs": [
    {
     "data": {
      "text/plain": [
       "[Text(0.5, 0, 'Year'),\n",
       " Text(0, 0.5, 'Number of Licensed Local Food Farms (count)')]"
      ]
     },
     "execution_count": 24,
     "metadata": {},
     "output_type": "execute_result"
    },
    {
     "data": {
      "image/png": "[encoded data removed]",
      "text/plain": [
       "<Figure size 640x480 with 1 Axes>"
      ]
     },
     "metadata": {},
     "output_type": "display_data"
    }
   ],
   "source": [
    "line_plot_dataframe_without_total = licensed_local_food_farm_dataframe[['year', 'sea_based_seafood', 'land_based_seafood', 'vegetables', 'hen_shell_eggs', 'others']]\n",
    "\n",
    "licensed_local_food_farm_dataframe_plot = seaborn.lineplot(data=line_plot_dataframe_without_total.melt(id_vars=[\"year\"]), x=\"year\", y=\"value\", hue=\"variable\")\n",
    "\n",
    "licensed_local_food_farm_dataframe_plot.legend_.set(visible=False)\n",
    "# Add a legend\n",
    "labels = [\"Sea-Based Seafood\", \"Land-Based Seafood\", \"Vegetables\", \"Hen Shell Eggs\", \"Others\"]\n",
    "plt.legend(loc='right', labels=labels)\n",
    "\n",
    "plt.title('Number of licensed local food farms of different food types')\n",
    "#plt.xlabel('Year')\n",
    "#plt.ylabel('Number of Licensed Local Food Farms')\n",
    "\n",
    "# Add a grid\n",
    "plt.grid(True)\n",
    "\n",
    "# Remove the top and right spines\n",
    "seaborn.despine()\n",
    "licensed_local_food_farm_dataframe_plot.set(xlabel=\"Year\", ylabel=\"Number of Licensed Local Food Farms (count)\")\n",
    "\n"
   ]
  },
  {
   "cell_type": "markdown",
   "metadata": {},
   "source": [
    "A slight decrease in the number of the licensed local food farms from 2021 to 2023 was due to rising operating cost and this creates construction challenges for building new farms.\n",
    "Covid Pandemic also creates another challenge for farm owners and Scale drop disease becomes a challenge to fish farms\n",
    "\n",
    "For the Sea-Based Seafood Farms faces serious challenges from 2022 to 2023 due to Scale Drop disease an endemic disease. There are many challenges for fish farming due to the prevention measures needed to setup before the fish farm owners is able to yield profits from the sales of the fishes in the fish farm.\n",
    "\n",
    "Prevention measures such as ensuring the baby fishes or larvae can survive within the fish farm and preventing diseases from incoming fishes into the hatcheries of the fish farm."
   ]
  },
  {
   "cell_type": "markdown",
   "metadata": {},
   "source": [
    "#### Local Food Production"
   ]
  },
  {
   "cell_type": "code",
   "execution_count": 25,
   "metadata": {},
   "outputs": [],
   "source": [
    "local_food_production_annual_dataframe_for_graph = local_food_production_annual_dataframe[[\"year\",\"seafood_million_dollars\", \"vegetable_million_dollars\", \"hen_shell_eggs_million_dollars\"]].head(5)"
   ]
  },
  {
   "cell_type": "code",
   "execution_count": 26,
   "metadata": {},
   "outputs": [
    {
     "name": "stderr",
     "output_type": "stream",
     "text": [
      "/tmp/ipykernel_1605/1770504478.py:10: MatplotlibDeprecationWarning: The legendHandles attribute was deprecated in Matplotlib 3.7 and will be removed two minor releases later. Use legend_handles instead.\n",
      "  catplot_handles = group_barplot._legend.legendHandles\n"
     ]
    },
    {
     "data": {
      "text/plain": [
       "<seaborn.axisgrid.FacetGrid at 0x7f61a5239a30>"
      ]
     },
     "execution_count": 26,
     "metadata": {},
     "output_type": "execute_result"
    },
    {
     "data": {
      "image/png": "[encoded data removed]",
      "text/plain": [
       "<Figure size 810x600 with 1 Axes>"
      ]
     },
     "metadata": {},
     "output_type": "display_data"
    }
   ],
   "source": [
    "# https://stackoverflow.com/questions/77868243/combine-catplot-legend-with-other-legends-in-seaborn\n",
    "labels = [\"Seafood\", \"Vegetables\", \"Hen Shell Eggs\"]\n",
    "group_barplot = seaborn.catplot(\n",
    "    data=local_food_production_annual_dataframe_for_graph.melt(id_vars=[\"year\"]), kind=\"bar\",\n",
    "    x=\"year\", y=\"value\", hue=\"variable\",\n",
    "    errorbar=\"sd\", palette=\"dark\", alpha=.6, height=6\n",
    "    )\n",
    "legend=group_barplot._legend\n",
    "group_barplot._legend.set(visible=False)\n",
    "catplot_handles = group_barplot._legend.legendHandles\n",
    "plt.legend(handles=catplot_handles, labels=labels)\n",
    "plt.title(\"Annual Value of Local Food Production\")\n",
    "group_barplot.despine(left=True)\n",
    "plt.grid(True)\n",
    "group_barplot.set_axis_labels(\"Year\", \"Annual Value of Local Food Source (millions $)\")\n"
   ]
  },
  {
   "cell_type": "markdown",
   "metadata": {},
   "source": [
    "The annual value of local food production increases year by year for Hen Shell Eggs while the annual value for Vegetable and Seafood Local Food Production remains at a steady level between $35 million SGD to $47 million SGD.\n"
   ]
  },
  {
   "cell_type": "code",
   "execution_count": 27,
   "metadata": {},
   "outputs": [
    {
     "data": {
      "text/plain": [
       "[Text(0.5, 0, 'Year'), Text(0, 0.5, 'Weight (Million Tonnes)')]"
      ]
     },
     "execution_count": 27,
     "metadata": {},
     "output_type": "execute_result"
    },
    {
     "data": {
      "image/png": "[encoded data removed]",
      "text/plain": [
       "<Figure size 640x480 with 1 Axes>"
      ]
     },
     "metadata": {},
     "output_type": "display_data"
    }
   ],
   "source": [
    "local_food_production_annual_dataframe[['year','local_production_of_vegetables_tonnes']]\n",
    "\n",
    "local_production_of_vegetables_plot = seaborn.lineplot(data=local_food_production_annual_dataframe[['year','local_production_of_vegetables_tonnes']], x=\"year\", y=\"local_production_of_vegetables_tonnes\")\n",
    "\n",
    "\n",
    "#local_production_of_vegetables_plot.legend_.set(False)\n",
    "labels = [\"Vegetables\"]\n",
    "\n",
    "\n",
    "plt.legend( labels=labels)\n",
    "plt.title(\"Annual Local Food Production for Vegetables\")\n",
    "\n",
    "local_production_of_vegetables_plot.set(xlabel=\"Year\", ylabel=\"Weight (Million Tonnes)\")\n"
   ]
  },
  {
   "cell_type": "markdown",
   "metadata": {},
   "source": [
    "The data is from 1976 to 2023 and the sharp drop for the Annual Local Vegetable production between 2022 to 2023 was probably due to the price of Local Produce was 30 per cent more than Import Vegetables and post COVID pandemic recovery"
   ]
  },
  {
   "cell_type": "code",
   "execution_count": 28,
   "metadata": {},
   "outputs": [
    {
     "data": {
      "text/plain": [
       "Text(0.5, 1.0, 'Annual Local Food Production excluding Vegetables')"
      ]
     },
     "execution_count": 28,
     "metadata": {},
     "output_type": "execute_result"
    },
    {
     "data": {
      "image/png": "[encoded data removed]",
      "text/plain": [
       "<Figure size 640x480 with 1 Axes>"
      ]
     },
     "metadata": {},
     "output_type": "display_data"
    }
   ],
   "source": [
    "multiple_lineplot_local_food_production_annual_dataframe = local_food_production_annual_dataframe[[     \"year\" , \n",
    "       'local_production_of_hen_shell_eggs_million_tonnes',\n",
    "       'local_production_of_aquarium_fish_million_pieces',\n",
    "       'local_production_of_aquatic_plants_and_tissue_culture_plantlets_million_plants']].melt(id_vars=[\"year\"])\n",
    "\n",
    "labels = [\"Hen Shell Eggs\", \"Aquarium Fish\", \"Aquatic Plants and Tissue Culture\"]\n",
    "local_food_production_plot = seaborn.lineplot(data=multiple_lineplot_local_food_production_annual_dataframe, x=\"year\", y=\"value\", hue=\"variable\")\n",
    "local_food_production_plot.legend_.set(visible=False)\n",
    "\n",
    "\n",
    "local_food_production_plot.legend(labels=labels)\n",
    "local_food_production_plot.set(xlabel=\"Year\", ylabel=\"Weight (Million Tonnes)\")\n",
    "plt.title(\"Annual Local Food Production excluding Vegetables\")\n",
    "\n"
   ]
  },
  {
   "cell_type": "markdown",
   "metadata": {},
   "source": [
    "The local production of Hen Shell eggs saw an increase over the years from 2015 to 2023 of 62 % increase with the average of 6.8% increase per year.\n",
    "\n",
    "The local production of Aquarium Fishes and Aquatic Plants and Tissue Culture has halted from 2022 to 2023 due to Scale Drop Disease. \n",
    "Aquarium fishes includes Sea Bass.  \n",
    "\n",
    "\n",
    "https://www.straitstimes.com/singapore/research-programme-kicks-off-to-boost-singapore-s-fish-farming"
   ]
  },
  {
   "cell_type": "markdown",
   "metadata": {},
   "source": [
    "#### Current Food Consumption from Local Source"
   ]
  },
  {
   "attachments": {
    "Screenshot 2024-08-15 at 12.33.06 PM.png": {
     "image/png": "[encoded data removed]"
    }
   },
   "cell_type": "markdown",
   "metadata": {},
   "source": [
    "![Screenshot 2024-08-15 at 12.33.06 PM.png](<attachment:Screenshot 2024-08-15 at 12.33.06 PM.png>)"
   ]
  },
  {
   "cell_type": "markdown",
   "metadata": {},
   "source": [
    "Due to the lack of raw data for Local Food Production and the data I have managed to obtain from Department of Statistics StatBuilder was an aggregated data. I went to search for more information from the Singapore Food Agency Publication.\n",
    "\n",
    "This was the key information I was looking for to make up for the insight that the current dataset wasn’t able to provide even after data wrangling.\n",
    "\n",
    "This insight will conclude that the current food supply where 30% came from Local production.\n"
   ]
  },
  {
   "cell_type": "markdown",
   "metadata": {},
   "source": [
    "### Analysis of Green Energy on Solar Panel in HDB Residential Household"
   ]
  },
  {
   "cell_type": "markdown",
   "metadata": {},
   "source": [
    "- Energy Reset\n",
    "    - Green Energy\n",
    "        - 1.5 Gigawatt-peak of electricity generation from solar panel can meet the annual electricity needs for about 260000 households\n",
    "\n",
    "To provide an overview of the amount of energy needed for this country to function, "
   ]
  },
  {
   "cell_type": "code",
   "execution_count": 29,
   "metadata": {},
   "outputs": [],
   "source": [
    "solar_pv_installations_by_ura_planning_region_dataframe_residential = solar_pv_installations_by_ura_planning_region_dataframe[solar_pv_installations_by_ura_planning_region_dataframe[\"residential_status\"] == \"Residential\"]"
   ]
  },
  {
   "cell_type": "markdown",
   "metadata": {},
   "source": [
    "### Determining the Household electricity for residential properties"
   ]
  },
  {
   "cell_type": "code",
   "execution_count": 30,
   "metadata": {},
   "outputs": [],
   "source": [
    "year_2021_solar_panel = solar_pv_installations_by_ura_planning_region_dataframe_residential[solar_pv_installations_by_ura_planning_region_dataframe_residential[\"year\"] == 2021]"
   ]
  },
  {
   "cell_type": "code",
   "execution_count": 31,
   "metadata": {},
   "outputs": [
    {
     "data": {
      "text/html": [
       "<div>\n",
       "<style scoped>\n",
       "    .dataframe tbody tr th:only-of-type {\n",
       "        vertical-align: middle;\n",
       "    }\n",
       "\n",
       "    .dataframe tbody tr th {\n",
       "        vertical-align: top;\n",
       "    }\n",
       "\n",
       "    .dataframe thead th {\n",
       "        text-align: right;\n",
       "    }\n",
       "</style>\n",
       "<table border=\"1\" class=\"dataframe\">\n",
       "  <thead>\n",
       "    <tr style=\"text-align: right;\">\n",
       "      <th></th>\n",
       "      <th>year</th>\n",
       "      <th>ura_planning_region</th>\n",
       "      <th>residential_status</th>\n",
       "      <th>num_solar_pv_inst</th>\n",
       "      <th>inst_cap_kwac</th>\n",
       "      <th>total_inst_cap_percent</th>\n",
       "    </tr>\n",
       "  </thead>\n",
       "  <tbody>\n",
       "    <tr>\n",
       "      <th>131</th>\n",
       "      <td>2021</td>\n",
       "      <td>Central</td>\n",
       "      <td>Residential</td>\n",
       "      <td>490</td>\n",
       "      <td>5723.9</td>\n",
       "      <td>1.7</td>\n",
       "    </tr>\n",
       "    <tr>\n",
       "      <th>133</th>\n",
       "      <td>2021</td>\n",
       "      <td>East</td>\n",
       "      <td>Residential</td>\n",
       "      <td>242</td>\n",
       "      <td>2126.2</td>\n",
       "      <td>0.6</td>\n",
       "    </tr>\n",
       "    <tr>\n",
       "      <th>135</th>\n",
       "      <td>2021</td>\n",
       "      <td>North-East</td>\n",
       "      <td>Residential</td>\n",
       "      <td>616</td>\n",
       "      <td>2990.3</td>\n",
       "      <td>0.9</td>\n",
       "    </tr>\n",
       "    <tr>\n",
       "      <th>137</th>\n",
       "      <td>2021</td>\n",
       "      <td>North</td>\n",
       "      <td>Residential</td>\n",
       "      <td>57</td>\n",
       "      <td>524.7</td>\n",
       "      <td>0.2</td>\n",
       "    </tr>\n",
       "    <tr>\n",
       "      <th>139</th>\n",
       "      <td>2021</td>\n",
       "      <td>West</td>\n",
       "      <td>Residential</td>\n",
       "      <td>77</td>\n",
       "      <td>724.8</td>\n",
       "      <td>0.2</td>\n",
       "    </tr>\n",
       "  </tbody>\n",
       "</table>\n",
       "</div>"
      ],
      "text/plain": [
       "     year ura_planning_region residential_status  num_solar_pv_inst  \\\n",
       "131  2021             Central        Residential                490   \n",
       "133  2021                East        Residential                242   \n",
       "135  2021          North-East        Residential                616   \n",
       "137  2021               North        Residential                 57   \n",
       "139  2021                West        Residential                 77   \n",
       "\n",
       "     inst_cap_kwac  total_inst_cap_percent  \n",
       "131         5723.9                     1.7  \n",
       "133         2126.2                     0.6  \n",
       "135         2990.3                     0.9  \n",
       "137          524.7                     0.2  \n",
       "139          724.8                     0.2  "
      ]
     },
     "execution_count": 31,
     "metadata": {},
     "output_type": "execute_result"
    }
   ],
   "source": [
    "year_2021_solar_panel"
   ]
  },
  {
   "cell_type": "code",
   "execution_count": 32,
   "metadata": {},
   "outputs": [],
   "source": [
    "# How much increase of solar panel installation for residential region\n",
    "\n"
   ]
  },
  {
   "cell_type": "code",
   "execution_count": 33,
   "metadata": {},
   "outputs": [],
   "source": [
    "#Show line chart"
   ]
  },
  {
   "cell_type": "code",
   "execution_count": 34,
   "metadata": {},
   "outputs": [
    {
     "data": {
      "text/plain": [
       "[Text(0.5, 0, 'Number of Solar PV Installed'),\n",
       " Text(0, 0.5, 'Installed Capacity (KWac)'),\n",
       " Text(0.5, 1.0, 'Scatterplot for Number of Solar PV installed and Installed Capacity (KWac)')]"
      ]
     },
     "execution_count": 34,
     "metadata": {},
     "output_type": "execute_result"
    },
    {
     "data": {
      "image/png": "[encoded data removed]",
      "text/plain": [
       "<Figure size 640x480 with 1 Axes>"
      ]
     },
     "metadata": {},
     "output_type": "display_data"
    }
   ],
   "source": [
    "scatter_plot = seaborn.scatterplot(data=solar_pv_installations_by_ura_planning_region_dataframe, x=\"num_solar_pv_inst\", y=\"inst_cap_kwac\")\n",
    "\n",
    "scatter_plot.set(xlabel =\"Number of Solar PV Installed\", ylabel = \"Installed Capacity (KWac)\", title ='Scatterplot for Number of Solar PV installed and Installed Capacity (KWac)')"
   ]
  },
  {
   "cell_type": "markdown",
   "metadata": {},
   "source": [
    "<b>Checking the correlation between Number of Solar PV Installed and Installed Capacity KWac</b>"
   ]
  },
  {
   "cell_type": "code",
   "execution_count": 35,
   "metadata": {},
   "outputs": [
    {
     "data": {
      "text/html": [
       "<div>\n",
       "<style scoped>\n",
       "    .dataframe tbody tr th:only-of-type {\n",
       "        vertical-align: middle;\n",
       "    }\n",
       "\n",
       "    .dataframe tbody tr th {\n",
       "        vertical-align: top;\n",
       "    }\n",
       "\n",
       "    .dataframe thead th {\n",
       "        text-align: right;\n",
       "    }\n",
       "</style>\n",
       "<table border=\"1\" class=\"dataframe\">\n",
       "  <thead>\n",
       "    <tr style=\"text-align: right;\">\n",
       "      <th></th>\n",
       "      <th>num_solar_pv_inst</th>\n",
       "      <th>inst_cap_kwac</th>\n",
       "    </tr>\n",
       "  </thead>\n",
       "  <tbody>\n",
       "    <tr>\n",
       "      <th>num_solar_pv_inst</th>\n",
       "      <td>1.000000</td>\n",
       "      <td>0.801427</td>\n",
       "    </tr>\n",
       "    <tr>\n",
       "      <th>inst_cap_kwac</th>\n",
       "      <td>0.801427</td>\n",
       "      <td>1.000000</td>\n",
       "    </tr>\n",
       "  </tbody>\n",
       "</table>\n",
       "</div>"
      ],
      "text/plain": [
       "                   num_solar_pv_inst  inst_cap_kwac\n",
       "num_solar_pv_inst           1.000000       0.801427\n",
       "inst_cap_kwac               0.801427       1.000000"
      ]
     },
     "execution_count": 35,
     "metadata": {},
     "output_type": "execute_result"
    }
   ],
   "source": [
    "solar_pv_installations_by_ura_planning_region_dataframe[[\"num_solar_pv_inst\", \"inst_cap_kwac\"]].corr()"
   ]
  },
  {
   "cell_type": "markdown",
   "metadata": {},
   "source": [
    "The relationship between Number of Solar PV Installed and Installed Capacity KWac has the correlation score of 0.80.\n",
    "This is a strong positive association between Number of Solar PV Installed and Installed Capacity KWac."
   ]
  },
  {
   "cell_type": "markdown",
   "metadata": {},
   "source": [
    "Association between Peak System Demand and Installed Capacity KWac on Solar Panel"
   ]
  },
  {
   "cell_type": "markdown",
   "metadata": {},
   "source": [
    "#### Electricity Generation by Month"
   ]
  },
  {
   "cell_type": "code",
   "execution_count": 36,
   "metadata": {},
   "outputs": [],
   "source": [
    "electricity_generation_by_month_dataframe = electricity_generation_by_month_dataframe.sort_values(by=\"electricity_generation\", inplace=False)"
   ]
  },
  {
   "cell_type": "code",
   "execution_count": 37,
   "metadata": {},
   "outputs": [
    {
     "data": {
      "text/html": [
       "<div>\n",
       "<style scoped>\n",
       "    .dataframe tbody tr th:only-of-type {\n",
       "        vertical-align: middle;\n",
       "    }\n",
       "\n",
       "    .dataframe tbody tr th {\n",
       "        vertical-align: top;\n",
       "    }\n",
       "\n",
       "    .dataframe thead th {\n",
       "        text-align: right;\n",
       "    }\n",
       "</style>\n",
       "<table border=\"1\" class=\"dataframe\">\n",
       "  <thead>\n",
       "    <tr style=\"text-align: right;\">\n",
       "      <th></th>\n",
       "      <th>year</th>\n",
       "      <th>month</th>\n",
       "      <th>variable</th>\n",
       "      <th>value</th>\n",
       "    </tr>\n",
       "  </thead>\n",
       "  <tbody>\n",
       "    <tr>\n",
       "      <th>0</th>\n",
       "      <td>2005</td>\n",
       "      <td>1</td>\n",
       "      <td>peak_system_demand_mw</td>\n",
       "      <td>5083</td>\n",
       "    </tr>\n",
       "    <tr>\n",
       "      <th>1</th>\n",
       "      <td>2005</td>\n",
       "      <td>2</td>\n",
       "      <td>peak_system_demand_mw</td>\n",
       "      <td>5285</td>\n",
       "    </tr>\n",
       "    <tr>\n",
       "      <th>2</th>\n",
       "      <td>2005</td>\n",
       "      <td>3</td>\n",
       "      <td>peak_system_demand_mw</td>\n",
       "      <td>5333</td>\n",
       "    </tr>\n",
       "    <tr>\n",
       "      <th>3</th>\n",
       "      <td>2005</td>\n",
       "      <td>4</td>\n",
       "      <td>peak_system_demand_mw</td>\n",
       "      <td>5408</td>\n",
       "    </tr>\n",
       "    <tr>\n",
       "      <th>4</th>\n",
       "      <td>2005</td>\n",
       "      <td>5</td>\n",
       "      <td>peak_system_demand_mw</td>\n",
       "      <td>5385</td>\n",
       "    </tr>\n",
       "    <tr>\n",
       "      <th>...</th>\n",
       "      <td>...</td>\n",
       "      <td>...</td>\n",
       "      <td>...</td>\n",
       "      <td>...</td>\n",
       "    </tr>\n",
       "    <tr>\n",
       "      <th>194</th>\n",
       "      <td>2021</td>\n",
       "      <td>3</td>\n",
       "      <td>peak_system_demand_mw</td>\n",
       "      <td>7397</td>\n",
       "    </tr>\n",
       "    <tr>\n",
       "      <th>195</th>\n",
       "      <td>2021</td>\n",
       "      <td>4</td>\n",
       "      <td>peak_system_demand_mw</td>\n",
       "      <td>7398</td>\n",
       "    </tr>\n",
       "    <tr>\n",
       "      <th>196</th>\n",
       "      <td>2021</td>\n",
       "      <td>5</td>\n",
       "      <td>peak_system_demand_mw</td>\n",
       "      <td>7562</td>\n",
       "    </tr>\n",
       "    <tr>\n",
       "      <th>197</th>\n",
       "      <td>2021</td>\n",
       "      <td>6</td>\n",
       "      <td>peak_system_demand_mw</td>\n",
       "      <td>7518</td>\n",
       "    </tr>\n",
       "    <tr>\n",
       "      <th>198</th>\n",
       "      <td>2021</td>\n",
       "      <td>7</td>\n",
       "      <td>peak_system_demand_mw</td>\n",
       "      <td>7560</td>\n",
       "    </tr>\n",
       "  </tbody>\n",
       "</table>\n",
       "<p>199 rows × 4 columns</p>\n",
       "</div>"
      ],
      "text/plain": [
       "     year  month               variable  value\n",
       "0    2005      1  peak_system_demand_mw   5083\n",
       "1    2005      2  peak_system_demand_mw   5285\n",
       "2    2005      3  peak_system_demand_mw   5333\n",
       "3    2005      4  peak_system_demand_mw   5408\n",
       "4    2005      5  peak_system_demand_mw   5385\n",
       "..    ...    ...                    ...    ...\n",
       "194  2021      3  peak_system_demand_mw   7397\n",
       "195  2021      4  peak_system_demand_mw   7398\n",
       "196  2021      5  peak_system_demand_mw   7562\n",
       "197  2021      6  peak_system_demand_mw   7518\n",
       "198  2021      7  peak_system_demand_mw   7560\n",
       "\n",
       "[199 rows x 4 columns]"
      ]
     },
     "execution_count": 37,
     "metadata": {},
     "output_type": "execute_result"
    }
   ],
   "source": [
    "peak_system_demand_dataframe.melt(id_vars=[\"year\", \"month\"])"
   ]
  },
  {
   "cell_type": "code",
   "execution_count": 38,
   "metadata": {},
   "outputs": [
    {
     "data": {
      "text/plain": [
       "<matplotlib.legend.Legend at 0x7f61a56d1820>"
      ]
     },
     "execution_count": 38,
     "metadata": {},
     "output_type": "execute_result"
    },
    {
     "data": {
      "image/png": "[encoded data removed]",
      "text/plain": [
       "<Figure size 640x480 with 1 Axes>"
      ]
     },
     "metadata": {},
     "output_type": "display_data"
    }
   ],
   "source": [
    "peak_system_demand_plot = seaborn.lineplot(data=peak_system_demand_dataframe.melt(id_vars=[\"year\", \"month\"]), x=\"year\", y=\"value\", hue=\"variable\")\n",
    "\n",
    "peak_system_demand_plot.set(xlabel=\"Year\", ylabel=\"MW\")\n",
    "\n",
    "peak_system_demand_plot.legend_.set(visible=False)\n",
    "\n",
    "labels=[\"Peak System Demand in MegaWatt (MW)\"]\n",
    "peak_system_demand_plot.legend(labels=labels)\n"
   ]
  },
  {
   "cell_type": "markdown",
   "metadata": {},
   "source": [
    "The Peak System Demand is currently at 7560 MegaWatt (MW). "
   ]
  },
  {
   "cell_type": "markdown",
   "metadata": {},
   "source": [
    "#### Electricity Generation by Month"
   ]
  },
  {
   "cell_type": "code",
   "execution_count": 39,
   "metadata": {},
   "outputs": [
    {
     "data": {
      "text/plain": [
       "589    Feb\n",
       "577    Feb\n",
       "590    Jan\n",
       "588    Mar\n",
       "585    Jun\n",
       "      ... \n",
       "20     Jul\n",
       "0      Mar\n",
       "22     May\n",
       "5      Oct\n",
       "10     May\n",
       "Name: month, Length: 591, dtype: object"
      ]
     },
     "execution_count": 39,
     "metadata": {},
     "output_type": "execute_result"
    }
   ],
   "source": [
    "electricity_generation_by_month_dataframe[\"month\"].str.split(\" \").str[1]"
   ]
  },
  {
   "cell_type": "code",
   "execution_count": 40,
   "metadata": {},
   "outputs": [],
   "source": [
    "electricity_generation_by_month_dataframe[\"year\"] = electricity_generation_by_month_dataframe[\"month\"].str.split(\" \").str[0]\n",
    "\n",
    "electricity_generation_by_month_dataframe[\"month\"] = electricity_generation_by_month_dataframe[\"month\"].str.split(\" \").str[1]\n",
    "\n",
    "\n",
    "#electricty_generation in the metric of GWH"
   ]
  },
  {
   "cell_type": "code",
   "execution_count": 41,
   "metadata": {},
   "outputs": [
    {
     "data": {
      "text/html": [
       "<div>\n",
       "<style scoped>\n",
       "    .dataframe tbody tr th:only-of-type {\n",
       "        vertical-align: middle;\n",
       "    }\n",
       "\n",
       "    .dataframe tbody tr th {\n",
       "        vertical-align: top;\n",
       "    }\n",
       "\n",
       "    .dataframe thead th {\n",
       "        text-align: right;\n",
       "    }\n",
       "</style>\n",
       "<table border=\"1\" class=\"dataframe\">\n",
       "  <thead>\n",
       "    <tr style=\"text-align: right;\">\n",
       "      <th></th>\n",
       "      <th>electricity_generation</th>\n",
       "    </tr>\n",
       "    <tr>\n",
       "      <th>year</th>\n",
       "      <th></th>\n",
       "    </tr>\n",
       "  </thead>\n",
       "  <tbody>\n",
       "    <tr>\n",
       "      <th>1975</th>\n",
       "      <td>4175.7</td>\n",
       "    </tr>\n",
       "    <tr>\n",
       "      <th>1976</th>\n",
       "      <td>4604.9</td>\n",
       "    </tr>\n",
       "    <tr>\n",
       "      <th>1977</th>\n",
       "      <td>5114.7</td>\n",
       "    </tr>\n",
       "    <tr>\n",
       "      <th>1978</th>\n",
       "      <td>5897.9</td>\n",
       "    </tr>\n",
       "    <tr>\n",
       "      <th>1979</th>\n",
       "      <td>6447.8</td>\n",
       "    </tr>\n",
       "    <tr>\n",
       "      <th>1980</th>\n",
       "      <td>6940.5</td>\n",
       "    </tr>\n",
       "    <tr>\n",
       "      <th>1981</th>\n",
       "      <td>7441.9</td>\n",
       "    </tr>\n",
       "    <tr>\n",
       "      <th>1982</th>\n",
       "      <td>7859.5</td>\n",
       "    </tr>\n",
       "    <tr>\n",
       "      <th>1983</th>\n",
       "      <td>8625.9</td>\n",
       "    </tr>\n",
       "    <tr>\n",
       "      <th>1984</th>\n",
       "      <td>9420.7</td>\n",
       "    </tr>\n",
       "    <tr>\n",
       "      <th>1985</th>\n",
       "      <td>9876.3</td>\n",
       "    </tr>\n",
       "    <tr>\n",
       "      <th>1986</th>\n",
       "      <td>10576.5</td>\n",
       "    </tr>\n",
       "    <tr>\n",
       "      <th>1987</th>\n",
       "      <td>11813.8</td>\n",
       "    </tr>\n",
       "    <tr>\n",
       "      <th>1988</th>\n",
       "      <td>13017.5</td>\n",
       "    </tr>\n",
       "    <tr>\n",
       "      <th>1989</th>\n",
       "      <td>14038.9</td>\n",
       "    </tr>\n",
       "    <tr>\n",
       "      <th>1990</th>\n",
       "      <td>15617.6</td>\n",
       "    </tr>\n",
       "    <tr>\n",
       "      <th>1991</th>\n",
       "      <td>16596.6</td>\n",
       "    </tr>\n",
       "    <tr>\n",
       "      <th>1992</th>\n",
       "      <td>17543.1</td>\n",
       "    </tr>\n",
       "    <tr>\n",
       "      <th>1993</th>\n",
       "      <td>18962.4</td>\n",
       "    </tr>\n",
       "    <tr>\n",
       "      <th>1994</th>\n",
       "      <td>20675.4</td>\n",
       "    </tr>\n",
       "    <tr>\n",
       "      <th>1995</th>\n",
       "      <td>22057.4</td>\n",
       "    </tr>\n",
       "    <tr>\n",
       "      <th>1996</th>\n",
       "      <td>23909.4</td>\n",
       "    </tr>\n",
       "    <tr>\n",
       "      <th>1997</th>\n",
       "      <td>26709.4</td>\n",
       "    </tr>\n",
       "    <tr>\n",
       "      <th>1998</th>\n",
       "      <td>28374.8</td>\n",
       "    </tr>\n",
       "    <tr>\n",
       "      <th>1999</th>\n",
       "      <td>29520.1</td>\n",
       "    </tr>\n",
       "    <tr>\n",
       "      <th>2000</th>\n",
       "      <td>31665.0</td>\n",
       "    </tr>\n",
       "    <tr>\n",
       "      <th>2001</th>\n",
       "      <td>33061.0</td>\n",
       "    </tr>\n",
       "    <tr>\n",
       "      <th>2002</th>\n",
       "      <td>34664.5</td>\n",
       "    </tr>\n",
       "    <tr>\n",
       "      <th>2003</th>\n",
       "      <td>35281.5</td>\n",
       "    </tr>\n",
       "    <tr>\n",
       "      <th>2004</th>\n",
       "      <td>36809.5</td>\n",
       "    </tr>\n",
       "    <tr>\n",
       "      <th>2005</th>\n",
       "      <td>38212.7</td>\n",
       "    </tr>\n",
       "    <tr>\n",
       "      <th>2006</th>\n",
       "      <td>39480.1</td>\n",
       "    </tr>\n",
       "    <tr>\n",
       "      <th>2007</th>\n",
       "      <td>41134.4</td>\n",
       "    </tr>\n",
       "    <tr>\n",
       "      <th>2008</th>\n",
       "      <td>41716.8</td>\n",
       "    </tr>\n",
       "    <tr>\n",
       "      <th>2009</th>\n",
       "      <td>41800.6</td>\n",
       "    </tr>\n",
       "    <tr>\n",
       "      <th>2010</th>\n",
       "      <td>45366.5</td>\n",
       "    </tr>\n",
       "    <tr>\n",
       "      <th>2011</th>\n",
       "      <td>45999.4</td>\n",
       "    </tr>\n",
       "    <tr>\n",
       "      <th>2012</th>\n",
       "      <td>46936.2</td>\n",
       "    </tr>\n",
       "    <tr>\n",
       "      <th>2013</th>\n",
       "      <td>47963.5</td>\n",
       "    </tr>\n",
       "    <tr>\n",
       "      <th>2014</th>\n",
       "      <td>49309.7</td>\n",
       "    </tr>\n",
       "    <tr>\n",
       "      <th>2015</th>\n",
       "      <td>50271.6</td>\n",
       "    </tr>\n",
       "    <tr>\n",
       "      <th>2016</th>\n",
       "      <td>51586.6</td>\n",
       "    </tr>\n",
       "    <tr>\n",
       "      <th>2017</th>\n",
       "      <td>52225.8</td>\n",
       "    </tr>\n",
       "    <tr>\n",
       "      <th>2018</th>\n",
       "      <td>52904.8</td>\n",
       "    </tr>\n",
       "    <tr>\n",
       "      <th>2019</th>\n",
       "      <td>54142.3</td>\n",
       "    </tr>\n",
       "    <tr>\n",
       "      <th>2020</th>\n",
       "      <td>53071.6</td>\n",
       "    </tr>\n",
       "    <tr>\n",
       "      <th>2021</th>\n",
       "      <td>55788.2</td>\n",
       "    </tr>\n",
       "    <tr>\n",
       "      <th>2022</th>\n",
       "      <td>57113.7</td>\n",
       "    </tr>\n",
       "    <tr>\n",
       "      <th>2023</th>\n",
       "      <td>57387.9</td>\n",
       "    </tr>\n",
       "    <tr>\n",
       "      <th>2024</th>\n",
       "      <td>14361.0</td>\n",
       "    </tr>\n",
       "  </tbody>\n",
       "</table>\n",
       "</div>"
      ],
      "text/plain": [
       "      electricity_generation\n",
       "year                        \n",
       "1975                  4175.7\n",
       "1976                  4604.9\n",
       "1977                  5114.7\n",
       "1978                  5897.9\n",
       "1979                  6447.8\n",
       "1980                  6940.5\n",
       "1981                  7441.9\n",
       "1982                  7859.5\n",
       "1983                  8625.9\n",
       "1984                  9420.7\n",
       "1985                  9876.3\n",
       "1986                 10576.5\n",
       "1987                 11813.8\n",
       "1988                 13017.5\n",
       "1989                 14038.9\n",
       "1990                 15617.6\n",
       "1991                 16596.6\n",
       "1992                 17543.1\n",
       "1993                 18962.4\n",
       "1994                 20675.4\n",
       "1995                 22057.4\n",
       "1996                 23909.4\n",
       "1997                 26709.4\n",
       "1998                 28374.8\n",
       "1999                 29520.1\n",
       "2000                 31665.0\n",
       "2001                 33061.0\n",
       "2002                 34664.5\n",
       "2003                 35281.5\n",
       "2004                 36809.5\n",
       "2005                 38212.7\n",
       "2006                 39480.1\n",
       "2007                 41134.4\n",
       "2008                 41716.8\n",
       "2009                 41800.6\n",
       "2010                 45366.5\n",
       "2011                 45999.4\n",
       "2012                 46936.2\n",
       "2013                 47963.5\n",
       "2014                 49309.7\n",
       "2015                 50271.6\n",
       "2016                 51586.6\n",
       "2017                 52225.8\n",
       "2018                 52904.8\n",
       "2019                 54142.3\n",
       "2020                 53071.6\n",
       "2021                 55788.2\n",
       "2022                 57113.7\n",
       "2023                 57387.9\n",
       "2024                 14361.0"
      ]
     },
     "execution_count": 41,
     "metadata": {},
     "output_type": "execute_result"
    }
   ],
   "source": [
    "electricity_generation_by_month_dataframe[[\"year\", \"electricity_generation\"]].groupby(by=\"year\").sum()"
   ]
  },
  {
   "cell_type": "code",
   "execution_count": 42,
   "metadata": {},
   "outputs": [
    {
     "data": {
      "text/plain": [
       "[Text(0.5, 0, 'Year'), Text(0, 0.5, 'Electricity Generation (GWh)')]"
      ]
     },
     "execution_count": 42,
     "metadata": {},
     "output_type": "execute_result"
    },
    {
     "data": {
      "image/png": "[encoded data removed]",
      "text/plain": [
       "<Figure size 640x480 with 1 Axes>"
      ]
     },
     "metadata": {},
     "output_type": "display_data"
    }
   ],
   "source": [
    "\n",
    "electricity_generation_lineplot_data = electricity_generation_by_month_dataframe[[\"year\", \"electricity_generation\"]].groupby(by=\"year\").sum().reset_index()\n",
    "electricity_generation_lineplot_data = electricity_generation_lineplot_data.astype({'year': 'int32'})\n",
    "\n",
    "electricity_generation_plot = seaborn.lineplot(data=electricity_generation_lineplot_data[(electricity_generation_lineplot_data[\"year\"] >= 2015) & (electricity_generation_lineplot_data[\"year\"] <= 2023)], x=\"year\", y=\"electricity_generation\")\n",
    "\n",
    "electricity_generation_plot.set(xlabel=\"Year\", ylabel=\"Electricity Generation (GWh)\")\n"
   ]
  },
  {
   "cell_type": "code",
   "execution_count": 43,
   "metadata": {},
   "outputs": [
    {
     "data": {
      "text/html": [
       "<div>\n",
       "<style scoped>\n",
       "    .dataframe tbody tr th:only-of-type {\n",
       "        vertical-align: middle;\n",
       "    }\n",
       "\n",
       "    .dataframe tbody tr th {\n",
       "        vertical-align: top;\n",
       "    }\n",
       "\n",
       "    .dataframe thead th {\n",
       "        text-align: right;\n",
       "    }\n",
       "</style>\n",
       "<table border=\"1\" class=\"dataframe\">\n",
       "  <thead>\n",
       "    <tr style=\"text-align: right;\">\n",
       "      <th></th>\n",
       "      <th>year</th>\n",
       "      <th>electricity_generation</th>\n",
       "    </tr>\n",
       "  </thead>\n",
       "  <tbody>\n",
       "    <tr>\n",
       "      <th>40</th>\n",
       "      <td>2015</td>\n",
       "      <td>50271.6</td>\n",
       "    </tr>\n",
       "    <tr>\n",
       "      <th>41</th>\n",
       "      <td>2016</td>\n",
       "      <td>51586.6</td>\n",
       "    </tr>\n",
       "    <tr>\n",
       "      <th>42</th>\n",
       "      <td>2017</td>\n",
       "      <td>52225.8</td>\n",
       "    </tr>\n",
       "    <tr>\n",
       "      <th>43</th>\n",
       "      <td>2018</td>\n",
       "      <td>52904.8</td>\n",
       "    </tr>\n",
       "    <tr>\n",
       "      <th>44</th>\n",
       "      <td>2019</td>\n",
       "      <td>54142.3</td>\n",
       "    </tr>\n",
       "    <tr>\n",
       "      <th>45</th>\n",
       "      <td>2020</td>\n",
       "      <td>53071.6</td>\n",
       "    </tr>\n",
       "    <tr>\n",
       "      <th>46</th>\n",
       "      <td>2021</td>\n",
       "      <td>55788.2</td>\n",
       "    </tr>\n",
       "    <tr>\n",
       "      <th>47</th>\n",
       "      <td>2022</td>\n",
       "      <td>57113.7</td>\n",
       "    </tr>\n",
       "    <tr>\n",
       "      <th>48</th>\n",
       "      <td>2023</td>\n",
       "      <td>57387.9</td>\n",
       "    </tr>\n",
       "  </tbody>\n",
       "</table>\n",
       "</div>"
      ],
      "text/plain": [
       "    year  electricity_generation\n",
       "40  2015                 50271.6\n",
       "41  2016                 51586.6\n",
       "42  2017                 52225.8\n",
       "43  2018                 52904.8\n",
       "44  2019                 54142.3\n",
       "45  2020                 53071.6\n",
       "46  2021                 55788.2\n",
       "47  2022                 57113.7\n",
       "48  2023                 57387.9"
      ]
     },
     "execution_count": 43,
     "metadata": {},
     "output_type": "execute_result"
    }
   ],
   "source": [
    "electricity_generation_lineplot_data[(electricity_generation_lineplot_data[\"year\"] >= 2015) & (electricity_generation_lineplot_data[\"year\"] <= 2023)]"
   ]
  },
  {
   "cell_type": "markdown",
   "metadata": {},
   "source": [
    "The electricity Generation from 2015 is 50271.6 GWh to 2023 of 57387.9 GWh."
   ]
  },
  {
   "cell_type": "markdown",
   "metadata": {},
   "source": [
    "#### Total Final Energy Consumption By Energy Type and Sector "
   ]
  },
  {
   "cell_type": "code",
   "execution_count": 44,
   "metadata": {},
   "outputs": [
    {
     "data": {
      "text/html": [
       "<div>\n",
       "<style scoped>\n",
       "    .dataframe tbody tr th:only-of-type {\n",
       "        vertical-align: middle;\n",
       "    }\n",
       "\n",
       "    .dataframe tbody tr th {\n",
       "        vertical-align: top;\n",
       "    }\n",
       "\n",
       "    .dataframe thead th {\n",
       "        text-align: right;\n",
       "    }\n",
       "</style>\n",
       "<table border=\"1\" class=\"dataframe\">\n",
       "  <thead>\n",
       "    <tr style=\"text-align: right;\">\n",
       "      <th></th>\n",
       "      <th>year</th>\n",
       "      <th>sector</th>\n",
       "      <th>energy_products</th>\n",
       "      <th>consumption_ktoe</th>\n",
       "    </tr>\n",
       "  </thead>\n",
       "  <tbody>\n",
       "    <tr>\n",
       "      <th>0</th>\n",
       "      <td>2009</td>\n",
       "      <td>Commerce and Services-related</td>\n",
       "      <td>Coal and Peat</td>\n",
       "      <td>0.0</td>\n",
       "    </tr>\n",
       "    <tr>\n",
       "      <th>1</th>\n",
       "      <td>2009</td>\n",
       "      <td>Commerce and Services-related</td>\n",
       "      <td>Crude Oil</td>\n",
       "      <td>0.0</td>\n",
       "    </tr>\n",
       "    <tr>\n",
       "      <th>2</th>\n",
       "      <td>2009</td>\n",
       "      <td>Commerce and Services-related</td>\n",
       "      <td>Electricity</td>\n",
       "      <td>1272.6</td>\n",
       "    </tr>\n",
       "    <tr>\n",
       "      <th>3</th>\n",
       "      <td>2009</td>\n",
       "      <td>Commerce and Services-related</td>\n",
       "      <td>Natural Gas</td>\n",
       "      <td>72.9</td>\n",
       "    </tr>\n",
       "    <tr>\n",
       "      <th>4</th>\n",
       "      <td>2009</td>\n",
       "      <td>Commerce and Services-related</td>\n",
       "      <td>Others</td>\n",
       "      <td>0.0</td>\n",
       "    </tr>\n",
       "    <tr>\n",
       "      <th>...</th>\n",
       "      <td>...</td>\n",
       "      <td>...</td>\n",
       "      <td>...</td>\n",
       "      <td>...</td>\n",
       "    </tr>\n",
       "    <tr>\n",
       "      <th>375</th>\n",
       "      <td>2020</td>\n",
       "      <td>Transport-Related</td>\n",
       "      <td>Natural Gas</td>\n",
       "      <td>2.0</td>\n",
       "    </tr>\n",
       "    <tr>\n",
       "      <th>376</th>\n",
       "      <td>2021</td>\n",
       "      <td>Households</td>\n",
       "      <td>Natural Gas</td>\n",
       "      <td>72.0</td>\n",
       "    </tr>\n",
       "    <tr>\n",
       "      <th>377</th>\n",
       "      <td>2020</td>\n",
       "      <td>Households</td>\n",
       "      <td>Natural Gas</td>\n",
       "      <td>76.2</td>\n",
       "    </tr>\n",
       "    <tr>\n",
       "      <th>378</th>\n",
       "      <td>2021</td>\n",
       "      <td>Others</td>\n",
       "      <td>Natural Gas</td>\n",
       "      <td>3.1</td>\n",
       "    </tr>\n",
       "    <tr>\n",
       "      <th>379</th>\n",
       "      <td>2020</td>\n",
       "      <td>Others</td>\n",
       "      <td>Natural Gas</td>\n",
       "      <td>3.0</td>\n",
       "    </tr>\n",
       "  </tbody>\n",
       "</table>\n",
       "<p>380 rows × 4 columns</p>\n",
       "</div>"
      ],
      "text/plain": [
       "     year                         sector energy_products  consumption_ktoe\n",
       "0    2009  Commerce and Services-related   Coal and Peat               0.0\n",
       "1    2009  Commerce and Services-related       Crude Oil               0.0\n",
       "2    2009  Commerce and Services-related     Electricity            1272.6\n",
       "3    2009  Commerce and Services-related     Natural Gas              72.9\n",
       "4    2009  Commerce and Services-related          Others               0.0\n",
       "..    ...                            ...             ...               ...\n",
       "375  2020              Transport-Related     Natural Gas               2.0\n",
       "376  2021                     Households     Natural Gas              72.0\n",
       "377  2020                     Households     Natural Gas              76.2\n",
       "378  2021                         Others     Natural Gas               3.1\n",
       "379  2020                         Others     Natural Gas               3.0\n",
       "\n",
       "[380 rows x 4 columns]"
      ]
     },
     "execution_count": 44,
     "metadata": {},
     "output_type": "execute_result"
    }
   ],
   "source": [
    "total_final_energy_consumption_by_energy_type_and_sector_dataframe"
   ]
  },
  {
   "cell_type": "code",
   "execution_count": 45,
   "metadata": {},
   "outputs": [],
   "source": [
    "\n",
    "#1 toe = 11.63 megawatt-hours (MWh)\n",
    "\n",
    "total_final_energy_consumption_by_energy_type_and_sector_dataframe[\"MWh\"] = total_final_energy_consumption_by_energy_type_and_sector_dataframe[\"consumption_ktoe\"] * 1000 * 11.63\n",
    "total_final_energy_consumption_by_energy_type_and_sector_dataframe[\"GWh\"] = total_final_energy_consumption_by_energy_type_and_sector_dataframe[\"consumption_ktoe\"] * 11.63\n",
    "\n",
    "#https://en.wikipedia.org/wiki/Tonne_of_oil_equivalent"
   ]
  },
  {
   "cell_type": "code",
   "execution_count": 47,
   "metadata": {},
   "outputs": [
    {
     "data": {
      "text/html": [
       "<div>\n",
       "<style scoped>\n",
       "    .dataframe tbody tr th:only-of-type {\n",
       "        vertical-align: middle;\n",
       "    }\n",
       "\n",
       "    .dataframe tbody tr th {\n",
       "        vertical-align: top;\n",
       "    }\n",
       "\n",
       "    .dataframe thead th {\n",
       "        text-align: right;\n",
       "    }\n",
       "</style>\n",
       "<table border=\"1\" class=\"dataframe\">\n",
       "  <thead>\n",
       "    <tr style=\"text-align: right;\">\n",
       "      <th></th>\n",
       "      <th>year</th>\n",
       "      <th>energy_products</th>\n",
       "      <th>GWh</th>\n",
       "    </tr>\n",
       "  </thead>\n",
       "  <tbody>\n",
       "    <tr>\n",
       "      <th>180</th>\n",
       "      <td>2015</td>\n",
       "      <td>Coal and Peat</td>\n",
       "      <td>0.000</td>\n",
       "    </tr>\n",
       "    <tr>\n",
       "      <th>181</th>\n",
       "      <td>2015</td>\n",
       "      <td>Crude Oil</td>\n",
       "      <td>0.000</td>\n",
       "    </tr>\n",
       "    <tr>\n",
       "      <th>182</th>\n",
       "      <td>2015</td>\n",
       "      <td>Electricity</td>\n",
       "      <td>17481.053</td>\n",
       "    </tr>\n",
       "    <tr>\n",
       "      <th>183</th>\n",
       "      <td>2015</td>\n",
       "      <td>Natural Gas</td>\n",
       "      <td>1025.766</td>\n",
       "    </tr>\n",
       "    <tr>\n",
       "      <th>184</th>\n",
       "      <td>2015</td>\n",
       "      <td>Others</td>\n",
       "      <td>0.000</td>\n",
       "    </tr>\n",
       "    <tr>\n",
       "      <th>...</th>\n",
       "      <td>...</td>\n",
       "      <td>...</td>\n",
       "      <td>...</td>\n",
       "    </tr>\n",
       "    <tr>\n",
       "      <th>375</th>\n",
       "      <td>2020</td>\n",
       "      <td>Natural Gas</td>\n",
       "      <td>23.260</td>\n",
       "    </tr>\n",
       "    <tr>\n",
       "      <th>376</th>\n",
       "      <td>2021</td>\n",
       "      <td>Natural Gas</td>\n",
       "      <td>837.360</td>\n",
       "    </tr>\n",
       "    <tr>\n",
       "      <th>377</th>\n",
       "      <td>2020</td>\n",
       "      <td>Natural Gas</td>\n",
       "      <td>886.206</td>\n",
       "    </tr>\n",
       "    <tr>\n",
       "      <th>378</th>\n",
       "      <td>2021</td>\n",
       "      <td>Natural Gas</td>\n",
       "      <td>36.053</td>\n",
       "    </tr>\n",
       "    <tr>\n",
       "      <th>379</th>\n",
       "      <td>2020</td>\n",
       "      <td>Natural Gas</td>\n",
       "      <td>34.890</td>\n",
       "    </tr>\n",
       "  </tbody>\n",
       "</table>\n",
       "<p>200 rows × 3 columns</p>\n",
       "</div>"
      ],
      "text/plain": [
       "     year energy_products        GWh\n",
       "180  2015   Coal and Peat      0.000\n",
       "181  2015       Crude Oil      0.000\n",
       "182  2015     Electricity  17481.053\n",
       "183  2015     Natural Gas   1025.766\n",
       "184  2015          Others      0.000\n",
       "..    ...             ...        ...\n",
       "375  2020     Natural Gas     23.260\n",
       "376  2021     Natural Gas    837.360\n",
       "377  2020     Natural Gas    886.206\n",
       "378  2021     Natural Gas     36.053\n",
       "379  2020     Natural Gas     34.890\n",
       "\n",
       "[200 rows x 3 columns]"
      ]
     },
     "execution_count": 47,
     "metadata": {},
     "output_type": "execute_result"
    }
   ],
   "source": [
    "total_final_energy_consumption_by_energy_type_and_sector_dataframe[total_final_energy_consumption_by_energy_type_and_sector_dataframe[\"year\"] >= 2015][[\"year\",\"energy_products\", \"GWh\"]]"
   ]
  },
  {
   "cell_type": "code",
   "execution_count": 50,
   "metadata": {},
   "outputs": [],
   "source": [
    "total_final_energy_consumption_by_energy_type_and_sector_dataframe = total_final_energy_consumption_by_energy_type_and_sector_dataframe[total_final_energy_consumption_by_energy_type_and_sector_dataframe[\"year\"] >= 2015][[\"year\",\"energy_products\", \"GWh\"]]"
   ]
  },
  {
   "cell_type": "code",
   "execution_count": 50,
   "metadata": {},
   "outputs": [],
   "source": [
    "def modify_column_content(x) -> str:\n",
    "    if x == \"Coal and Peat\":\n",
    "        return \"Coal And Peat\"\n",
    "    return x"
   ]
  },
  {
   "cell_type": "code",
   "execution_count": 52,
   "metadata": {},
   "outputs": [],
   "source": [
    "new_energy_products = total_final_energy_consumption_by_energy_type_and_sector_dataframe[\"energy_products\"].apply(modify_column_content)"
   ]
  },
  {
   "cell_type": "code",
   "execution_count": 53,
   "metadata": {},
   "outputs": [
    {
     "data": {
      "text/plain": [
       "0      Coal And Peat\n",
       "1          Crude Oil\n",
       "2        Electricity\n",
       "3        Natural Gas\n",
       "4             Others\n",
       "           ...      \n",
       "375      Natural Gas\n",
       "376      Natural Gas\n",
       "377      Natural Gas\n",
       "378      Natural Gas\n",
       "379      Natural Gas\n",
       "Name: energy_products, Length: 380, dtype: object"
      ]
     },
     "execution_count": 53,
     "metadata": {},
     "output_type": "execute_result"
    }
   ],
   "source": [
    "new_energy_products"
   ]
  },
  {
   "cell_type": "code",
   "execution_count": 54,
   "metadata": {},
   "outputs": [],
   "source": [
    "total_final_energy_consumption_by_energy_type_and_sector_dataframe[\"energy_products\"] = new_energy_products"
   ]
  },
  {
   "cell_type": "code",
   "execution_count": 55,
   "metadata": {},
   "outputs": [
    {
     "data": {
      "text/plain": [
       "array(['Coal And Peat', 'Crude Oil', 'Electricity', 'Natural Gas',\n",
       "       'Others', 'Petroleum Products'], dtype=object)"
      ]
     },
     "execution_count": 55,
     "metadata": {},
     "output_type": "execute_result"
    }
   ],
   "source": [
    "total_final_energy_consumption_by_energy_type_and_sector_dataframe[\"energy_products\"].unique()"
   ]
  },
  {
   "cell_type": "code",
   "execution_count": 56,
   "metadata": {},
   "outputs": [
    {
     "data": {
      "text/plain": [
       "year                  int64\n",
       "sector               object\n",
       "energy_products      object\n",
       "consumption_ktoe    float64\n",
       "MWh                 float64\n",
       "GWh                 float64\n",
       "dtype: object"
      ]
     },
     "execution_count": 56,
     "metadata": {},
     "output_type": "execute_result"
    }
   ],
   "source": [
    "total_final_energy_consumption_by_energy_type_and_sector_dataframe.dtypes"
   ]
  },
  {
   "cell_type": "code",
   "execution_count": 66,
   "metadata": {},
   "outputs": [
    {
     "data": {
      "text/html": [
       "<div>\n",
       "<style scoped>\n",
       "    .dataframe tbody tr th:only-of-type {\n",
       "        vertical-align: middle;\n",
       "    }\n",
       "\n",
       "    .dataframe tbody tr th {\n",
       "        vertical-align: top;\n",
       "    }\n",
       "\n",
       "    .dataframe thead th {\n",
       "        text-align: right;\n",
       "    }\n",
       "</style>\n",
       "<table border=\"1\" class=\"dataframe\">\n",
       "  <thead>\n",
       "    <tr style=\"text-align: right;\">\n",
       "      <th></th>\n",
       "      <th>year</th>\n",
       "      <th>sector</th>\n",
       "      <th>energy_products</th>\n",
       "      <th>consumption_ktoe</th>\n",
       "      <th>MWh</th>\n",
       "      <th>GWh</th>\n",
       "    </tr>\n",
       "  </thead>\n",
       "  <tbody>\n",
       "    <tr>\n",
       "      <th>0</th>\n",
       "      <td>2009</td>\n",
       "      <td>Commerce and Services-related</td>\n",
       "      <td>Coal And Peat</td>\n",
       "      <td>0.0</td>\n",
       "      <td>0.0</td>\n",
       "      <td>0.000</td>\n",
       "    </tr>\n",
       "    <tr>\n",
       "      <th>1</th>\n",
       "      <td>2009</td>\n",
       "      <td>Commerce and Services-related</td>\n",
       "      <td>Crude Oil</td>\n",
       "      <td>0.0</td>\n",
       "      <td>0.0</td>\n",
       "      <td>0.000</td>\n",
       "    </tr>\n",
       "    <tr>\n",
       "      <th>2</th>\n",
       "      <td>2009</td>\n",
       "      <td>Commerce and Services-related</td>\n",
       "      <td>Electricity</td>\n",
       "      <td>1272.6</td>\n",
       "      <td>14800338.0</td>\n",
       "      <td>14800.338</td>\n",
       "    </tr>\n",
       "    <tr>\n",
       "      <th>3</th>\n",
       "      <td>2009</td>\n",
       "      <td>Commerce and Services-related</td>\n",
       "      <td>Natural Gas</td>\n",
       "      <td>72.9</td>\n",
       "      <td>847827.0</td>\n",
       "      <td>847.827</td>\n",
       "    </tr>\n",
       "    <tr>\n",
       "      <th>4</th>\n",
       "      <td>2009</td>\n",
       "      <td>Commerce and Services-related</td>\n",
       "      <td>Others</td>\n",
       "      <td>0.0</td>\n",
       "      <td>0.0</td>\n",
       "      <td>0.000</td>\n",
       "    </tr>\n",
       "    <tr>\n",
       "      <th>...</th>\n",
       "      <td>...</td>\n",
       "      <td>...</td>\n",
       "      <td>...</td>\n",
       "      <td>...</td>\n",
       "      <td>...</td>\n",
       "      <td>...</td>\n",
       "    </tr>\n",
       "    <tr>\n",
       "      <th>375</th>\n",
       "      <td>2020</td>\n",
       "      <td>Transport-Related</td>\n",
       "      <td>Natural Gas</td>\n",
       "      <td>2.0</td>\n",
       "      <td>23260.0</td>\n",
       "      <td>23.260</td>\n",
       "    </tr>\n",
       "    <tr>\n",
       "      <th>376</th>\n",
       "      <td>2021</td>\n",
       "      <td>Households</td>\n",
       "      <td>Natural Gas</td>\n",
       "      <td>72.0</td>\n",
       "      <td>837360.0</td>\n",
       "      <td>837.360</td>\n",
       "    </tr>\n",
       "    <tr>\n",
       "      <th>377</th>\n",
       "      <td>2020</td>\n",
       "      <td>Households</td>\n",
       "      <td>Natural Gas</td>\n",
       "      <td>76.2</td>\n",
       "      <td>886206.0</td>\n",
       "      <td>886.206</td>\n",
       "    </tr>\n",
       "    <tr>\n",
       "      <th>378</th>\n",
       "      <td>2021</td>\n",
       "      <td>Others</td>\n",
       "      <td>Natural Gas</td>\n",
       "      <td>3.1</td>\n",
       "      <td>36053.0</td>\n",
       "      <td>36.053</td>\n",
       "    </tr>\n",
       "    <tr>\n",
       "      <th>379</th>\n",
       "      <td>2020</td>\n",
       "      <td>Others</td>\n",
       "      <td>Natural Gas</td>\n",
       "      <td>3.0</td>\n",
       "      <td>34890.0</td>\n",
       "      <td>34.890</td>\n",
       "    </tr>\n",
       "  </tbody>\n",
       "</table>\n",
       "<p>380 rows × 6 columns</p>\n",
       "</div>"
      ],
      "text/plain": [
       "     year                         sector energy_products  consumption_ktoe  \\\n",
       "0    2009  Commerce and Services-related   Coal And Peat               0.0   \n",
       "1    2009  Commerce and Services-related       Crude Oil               0.0   \n",
       "2    2009  Commerce and Services-related     Electricity            1272.6   \n",
       "3    2009  Commerce and Services-related     Natural Gas              72.9   \n",
       "4    2009  Commerce and Services-related          Others               0.0   \n",
       "..    ...                            ...             ...               ...   \n",
       "375  2020              Transport-Related     Natural Gas               2.0   \n",
       "376  2021                     Households     Natural Gas              72.0   \n",
       "377  2020                     Households     Natural Gas              76.2   \n",
       "378  2021                         Others     Natural Gas               3.1   \n",
       "379  2020                         Others     Natural Gas               3.0   \n",
       "\n",
       "            MWh        GWh  \n",
       "0           0.0      0.000  \n",
       "1           0.0      0.000  \n",
       "2    14800338.0  14800.338  \n",
       "3      847827.0    847.827  \n",
       "4           0.0      0.000  \n",
       "..          ...        ...  \n",
       "375     23260.0     23.260  \n",
       "376    837360.0    837.360  \n",
       "377    886206.0    886.206  \n",
       "378     36053.0     36.053  \n",
       "379     34890.0     34.890  \n",
       "\n",
       "[380 rows x 6 columns]"
      ]
     },
     "execution_count": 66,
     "metadata": {},
     "output_type": "execute_result"
    }
   ],
   "source": [
    "total_final_energy_consumption_by_energy_type_and_sector_dataframe"
   ]
  },
  {
   "cell_type": "code",
   "execution_count": 72,
   "metadata": {},
   "outputs": [],
   "source": [
    "aggregated_data_for_pie_chart = total_final_energy_consumption_by_energy_type_and_sector_dataframe[[\"energy_products\", \"GWh\"]].groupby(by=\"energy_products\").sum().reset_index()"
   ]
  },
  {
   "cell_type": "code",
   "execution_count": 73,
   "metadata": {},
   "outputs": [
    {
     "data": {
      "text/html": [
       "<div>\n",
       "<style scoped>\n",
       "    .dataframe tbody tr th:only-of-type {\n",
       "        vertical-align: middle;\n",
       "    }\n",
       "\n",
       "    .dataframe tbody tr th {\n",
       "        vertical-align: top;\n",
       "    }\n",
       "\n",
       "    .dataframe thead th {\n",
       "        text-align: right;\n",
       "    }\n",
       "</style>\n",
       "<table border=\"1\" class=\"dataframe\">\n",
       "  <thead>\n",
       "    <tr style=\"text-align: right;\">\n",
       "      <th></th>\n",
       "      <th>energy_products</th>\n",
       "      <th>GWh</th>\n",
       "    </tr>\n",
       "  </thead>\n",
       "  <tbody>\n",
       "    <tr>\n",
       "      <th>0</th>\n",
       "      <td>Coal And Peat</td>\n",
       "      <td>23140.211</td>\n",
       "    </tr>\n",
       "    <tr>\n",
       "      <th>1</th>\n",
       "      <td>Crude Oil</td>\n",
       "      <td>0.000</td>\n",
       "    </tr>\n",
       "    <tr>\n",
       "      <th>2</th>\n",
       "      <td>Electricity</td>\n",
       "      <td>611821.736</td>\n",
       "    </tr>\n",
       "    <tr>\n",
       "      <th>3</th>\n",
       "      <td>Natural Gas</td>\n",
       "      <td>202986.531</td>\n",
       "    </tr>\n",
       "    <tr>\n",
       "      <th>4</th>\n",
       "      <td>Others</td>\n",
       "      <td>0.000</td>\n",
       "    </tr>\n",
       "    <tr>\n",
       "      <th>5</th>\n",
       "      <td>Petroleum Products</td>\n",
       "      <td>1295636.661</td>\n",
       "    </tr>\n",
       "  </tbody>\n",
       "</table>\n",
       "</div>"
      ],
      "text/plain": [
       "      energy_products          GWh\n",
       "0       Coal And Peat    23140.211\n",
       "1           Crude Oil        0.000\n",
       "2         Electricity   611821.736\n",
       "3         Natural Gas   202986.531\n",
       "4              Others        0.000\n",
       "5  Petroleum Products  1295636.661"
      ]
     },
     "execution_count": 73,
     "metadata": {},
     "output_type": "execute_result"
    }
   ],
   "source": [
    "aggregated_data_for_pie_chart"
   ]
  },
  {
   "cell_type": "code",
   "execution_count": 80,
   "metadata": {},
   "outputs": [
    {
     "data": {
      "text/plain": [
       "Text(0.5, 1.0, 'Proportion of Energy Consumption from Different type of Energy Source ')"
      ]
     },
     "execution_count": 80,
     "metadata": {},
     "output_type": "execute_result"
    },
    {
     "data": {
      "image/png": "[encoded data removed]",
      "text/plain": [
       "<Figure size 640x480 with 1 Axes>"
      ]
     },
     "metadata": {},
     "output_type": "display_data"
    }
   ],
   "source": [
    "labels = aggregated_data_for_pie_chart[\"energy_products\"].unique()\n",
    "\n",
    "\n",
    "# define Seaborn color palette to use \n",
    "palette_color = seaborn.color_palette('bright') \n",
    "  \n",
    "# plotting data on chart \n",
    "plt.pie(aggregated_data_for_pie_chart[\"GWh\"], labels=labels, colors=palette_color, autopct='%.0f%%') \n",
    "plt.title(\"Proportion of Energy Consumption from Different type of Energy Source \")"
   ]
  },
  {
   "cell_type": "markdown",
   "metadata": {},
   "source": [
    "#### Annual Solar PV Installed Capacity across all regions"
   ]
  },
  {
   "cell_type": "code",
   "execution_count": 74,
   "metadata": {},
   "outputs": [],
   "source": [
    "solar_pv_installations_by_ura_planning_region_annual_dataframe = solar_pv_installations_by_ura_planning_region_dataframe[[\"year\", \"ura_planning_region\", \"inst_cap_kwac\"]].groupby(by=[\"year\"]).sum().reset_index()"
   ]
  },
  {
   "cell_type": "code",
   "execution_count": 58,
   "metadata": {},
   "outputs": [
    {
     "data": {
      "text/html": [
       "<div>\n",
       "<style scoped>\n",
       "    .dataframe tbody tr th:only-of-type {\n",
       "        vertical-align: middle;\n",
       "    }\n",
       "\n",
       "    .dataframe tbody tr th {\n",
       "        vertical-align: top;\n",
       "    }\n",
       "\n",
       "    .dataframe thead th {\n",
       "        text-align: right;\n",
       "    }\n",
       "</style>\n",
       "<table border=\"1\" class=\"dataframe\">\n",
       "  <thead>\n",
       "    <tr style=\"text-align: right;\">\n",
       "      <th></th>\n",
       "      <th>year</th>\n",
       "      <th>ura_planning_region</th>\n",
       "      <th>inst_cap_kwac</th>\n",
       "    </tr>\n",
       "  </thead>\n",
       "  <tbody>\n",
       "    <tr>\n",
       "      <th>7</th>\n",
       "      <td>2015</td>\n",
       "      <td>CentralCentralEastEastNorth-EastNorth-EastNort...</td>\n",
       "      <td>45695.2</td>\n",
       "    </tr>\n",
       "    <tr>\n",
       "      <th>8</th>\n",
       "      <td>2016</td>\n",
       "      <td>CentralCentralEastEastNorth-EastNorth-EastNort...</td>\n",
       "      <td>96652.5</td>\n",
       "    </tr>\n",
       "    <tr>\n",
       "      <th>9</th>\n",
       "      <td>2017</td>\n",
       "      <td>CentralCentralEastEastNorth-EastNorth-EastNort...</td>\n",
       "      <td>117911.1</td>\n",
       "    </tr>\n",
       "    <tr>\n",
       "      <th>10</th>\n",
       "      <td>2018</td>\n",
       "      <td>CentralCentralEastEastNorth-EastNorth-EastNort...</td>\n",
       "      <td>160325.0</td>\n",
       "    </tr>\n",
       "    <tr>\n",
       "      <th>11</th>\n",
       "      <td>2019</td>\n",
       "      <td>CentralCentralEastEastNorth-EastNorth-EastNort...</td>\n",
       "      <td>271010.0</td>\n",
       "    </tr>\n",
       "    <tr>\n",
       "      <th>12</th>\n",
       "      <td>2020</td>\n",
       "      <td>CentralCentralEastEastNorth-EastNorth-EastNort...</td>\n",
       "      <td>330169.7</td>\n",
       "    </tr>\n",
       "    <tr>\n",
       "      <th>13</th>\n",
       "      <td>2021</td>\n",
       "      <td>CentralCentralEastEastNorth-EastNorth-EastNort...</td>\n",
       "      <td>341545.3</td>\n",
       "    </tr>\n",
       "  </tbody>\n",
       "</table>\n",
       "</div>"
      ],
      "text/plain": [
       "    year                                ura_planning_region  inst_cap_kwac\n",
       "7   2015  CentralCentralEastEastNorth-EastNorth-EastNort...        45695.2\n",
       "8   2016  CentralCentralEastEastNorth-EastNorth-EastNort...        96652.5\n",
       "9   2017  CentralCentralEastEastNorth-EastNorth-EastNort...       117911.1\n",
       "10  2018  CentralCentralEastEastNorth-EastNorth-EastNort...       160325.0\n",
       "11  2019  CentralCentralEastEastNorth-EastNorth-EastNort...       271010.0\n",
       "12  2020  CentralCentralEastEastNorth-EastNorth-EastNort...       330169.7\n",
       "13  2021  CentralCentralEastEastNorth-EastNorth-EastNort...       341545.3"
      ]
     },
     "execution_count": 58,
     "metadata": {},
     "output_type": "execute_result"
    }
   ],
   "source": [
    "solar_pv_installations_by_ura_planning_region_annual_dataframe[solar_pv_installations_by_ura_planning_region_annual_dataframe[\"year\"] >= 2015]"
   ]
  },
  {
   "cell_type": "code",
   "execution_count": 59,
   "metadata": {},
   "outputs": [],
   "source": [
    "grouped_bar_chart_solar_pv_dataframe = solar_pv_installations_by_ura_planning_region_annual_dataframe[solar_pv_installations_by_ura_planning_region_annual_dataframe[\"year\"] >= 2015].melt(id_vars=[\"year\", \"ura_planning_region\"])"
   ]
  },
  {
   "cell_type": "code",
   "execution_count": 64,
   "metadata": {},
   "outputs": [
    {
     "data": {
      "text/html": [
       "<div>\n",
       "<style scoped>\n",
       "    .dataframe tbody tr th:only-of-type {\n",
       "        vertical-align: middle;\n",
       "    }\n",
       "\n",
       "    .dataframe tbody tr th {\n",
       "        vertical-align: top;\n",
       "    }\n",
       "\n",
       "    .dataframe thead th {\n",
       "        text-align: right;\n",
       "    }\n",
       "</style>\n",
       "<table border=\"1\" class=\"dataframe\">\n",
       "  <thead>\n",
       "    <tr style=\"text-align: right;\">\n",
       "      <th></th>\n",
       "      <th>year</th>\n",
       "      <th>ura_planning_region</th>\n",
       "      <th>variable</th>\n",
       "      <th>value</th>\n",
       "    </tr>\n",
       "  </thead>\n",
       "  <tbody>\n",
       "    <tr>\n",
       "      <th>0</th>\n",
       "      <td>2015</td>\n",
       "      <td>CentralCentralEastEastNorth-EastNorth-EastNort...</td>\n",
       "      <td>inst_cap_kwac</td>\n",
       "      <td>45695.2</td>\n",
       "    </tr>\n",
       "    <tr>\n",
       "      <th>1</th>\n",
       "      <td>2016</td>\n",
       "      <td>CentralCentralEastEastNorth-EastNorth-EastNort...</td>\n",
       "      <td>inst_cap_kwac</td>\n",
       "      <td>96652.5</td>\n",
       "    </tr>\n",
       "    <tr>\n",
       "      <th>2</th>\n",
       "      <td>2017</td>\n",
       "      <td>CentralCentralEastEastNorth-EastNorth-EastNort...</td>\n",
       "      <td>inst_cap_kwac</td>\n",
       "      <td>117911.1</td>\n",
       "    </tr>\n",
       "    <tr>\n",
       "      <th>3</th>\n",
       "      <td>2018</td>\n",
       "      <td>CentralCentralEastEastNorth-EastNorth-EastNort...</td>\n",
       "      <td>inst_cap_kwac</td>\n",
       "      <td>160325.0</td>\n",
       "    </tr>\n",
       "    <tr>\n",
       "      <th>4</th>\n",
       "      <td>2019</td>\n",
       "      <td>CentralCentralEastEastNorth-EastNorth-EastNort...</td>\n",
       "      <td>inst_cap_kwac</td>\n",
       "      <td>271010.0</td>\n",
       "    </tr>\n",
       "    <tr>\n",
       "      <th>5</th>\n",
       "      <td>2020</td>\n",
       "      <td>CentralCentralEastEastNorth-EastNorth-EastNort...</td>\n",
       "      <td>inst_cap_kwac</td>\n",
       "      <td>330169.7</td>\n",
       "    </tr>\n",
       "    <tr>\n",
       "      <th>6</th>\n",
       "      <td>2021</td>\n",
       "      <td>CentralCentralEastEastNorth-EastNorth-EastNort...</td>\n",
       "      <td>inst_cap_kwac</td>\n",
       "      <td>341545.3</td>\n",
       "    </tr>\n",
       "  </tbody>\n",
       "</table>\n",
       "</div>"
      ],
      "text/plain": [
       "   year                                ura_planning_region       variable  \\\n",
       "0  2015  CentralCentralEastEastNorth-EastNorth-EastNort...  inst_cap_kwac   \n",
       "1  2016  CentralCentralEastEastNorth-EastNorth-EastNort...  inst_cap_kwac   \n",
       "2  2017  CentralCentralEastEastNorth-EastNorth-EastNort...  inst_cap_kwac   \n",
       "3  2018  CentralCentralEastEastNorth-EastNorth-EastNort...  inst_cap_kwac   \n",
       "4  2019  CentralCentralEastEastNorth-EastNorth-EastNort...  inst_cap_kwac   \n",
       "5  2020  CentralCentralEastEastNorth-EastNorth-EastNort...  inst_cap_kwac   \n",
       "6  2021  CentralCentralEastEastNorth-EastNorth-EastNort...  inst_cap_kwac   \n",
       "\n",
       "      value  \n",
       "0   45695.2  \n",
       "1   96652.5  \n",
       "2  117911.1  \n",
       "3  160325.0  \n",
       "4  271010.0  \n",
       "5  330169.7  \n",
       "6  341545.3  "
      ]
     },
     "execution_count": 64,
     "metadata": {},
     "output_type": "execute_result"
    }
   ],
   "source": [
    "grouped_bar_chart_solar_pv_dataframe"
   ]
  },
  {
   "cell_type": "code",
   "execution_count": 65,
   "metadata": {},
   "outputs": [
    {
     "data": {
      "text/plain": [
       "[None]"
      ]
     },
     "execution_count": 65,
     "metadata": {},
     "output_type": "execute_result"
    },
    {
     "data": {
      "image/png": "[encoded data removed]",
      "text/plain": [
       "<Figure size 904.5x500 with 1 Axes>"
      ]
     },
     "metadata": {},
     "output_type": "display_data"
    }
   ],
   "source": [
    "grouped_bar_chart_solar_pv = seaborn.catplot(data=grouped_bar_chart_solar_pv_dataframe, kind=\"bar\", x=\"year\", y=\"value\", hue=\"ura_planning_region\")\n",
    "\n",
    "plt.title(\"Annual Solar PV Installed Capacity from 2015 to 2021\")\n",
    "grouped_bar_chart_solar_pv.set(xlabel=\"Year\", ylabel=\"Installed capacity kwac\")\n",
    "\n",
    "\n",
    "grouped_bar_chart_solar_pv.legend.set(visible=False)"
   ]
  },
  {
   "cell_type": "markdown",
   "metadata": {},
   "source": [
    "From this chart, there is an increasing value of Installed Capacity (KWac) from a total of installed capacity Kwac of 7146.2 to 12089.9.\n",
    "\n",
    "KWac refers to Installed Capacity in Power Generation\n",
    "\n",
    "KWac - The maximum amount of electricity that a generating station (also known as a power plant) can produce under specific conditions designated by the manufacturer."
   ]
  },
  {
   "cell_type": "markdown",
   "metadata": {},
   "source": [
    "#### Household Electricity Consumption"
   ]
  },
  {
   "cell_type": "code",
   "execution_count": 306,
   "metadata": {},
   "outputs": [],
   "source": [
    "data_from_2018_to_2023 = household_electricity_consumption_by_dwelling_type_dataframe[household_electricity_consumption_by_dwelling_type_dataframe[\"year\"] >= 2018]"
   ]
  },
  {
   "cell_type": "code",
   "execution_count": 309,
   "metadata": {},
   "outputs": [],
   "source": [
    "annual_data_from_2018_to_2023 = data_from_2018_to_2023[data_from_2018_to_2023[\"month\"] == \"Annual\"]"
   ]
  },
  {
   "cell_type": "code",
   "execution_count": 372,
   "metadata": {},
   "outputs": [],
   "source": [
    "annual_data_from_2018_to_2023 = annual_data_from_2018_to_2023[(annual_data_from_2018_to_2023[\"DWELLING_TYPE\"] != \"Overall\") & (annual_data_from_2018_to_2023[\"DWELLING_TYPE\"] != \"Public Housing\") & (annual_data_from_2018_to_2023[\"DWELLING_TYPE\"] != \"Private Housing\")]"
   ]
  },
  {
   "cell_type": "code",
   "execution_count": 373,
   "metadata": {},
   "outputs": [],
   "source": [
    "dataframe_for_grouped_bar_chart = annual_data_from_2018_to_2023[[\"DWELLING_TYPE\", \"year\", \"consumption_GWh\"]].melt(id_vars=[\"DWELLING_TYPE\", \"year\"])"
   ]
  },
  {
   "cell_type": "code",
   "execution_count": 374,
   "metadata": {},
   "outputs": [
    {
     "data": {
      "text/html": [
       "<div>\n",
       "<style scoped>\n",
       "    .dataframe tbody tr th:only-of-type {\n",
       "        vertical-align: middle;\n",
       "    }\n",
       "\n",
       "    .dataframe tbody tr th {\n",
       "        vertical-align: top;\n",
       "    }\n",
       "\n",
       "    .dataframe thead th {\n",
       "        text-align: right;\n",
       "    }\n",
       "</style>\n",
       "<table border=\"1\" class=\"dataframe\">\n",
       "  <thead>\n",
       "    <tr style=\"text-align: right;\">\n",
       "      <th></th>\n",
       "      <th>DWELLING_TYPE</th>\n",
       "      <th>year</th>\n",
       "      <th>variable</th>\n",
       "      <th>value</th>\n",
       "    </tr>\n",
       "  </thead>\n",
       "  <tbody>\n",
       "    <tr>\n",
       "      <th>0</th>\n",
       "      <td>1-room / 2-room</td>\n",
       "      <td>2018</td>\n",
       "      <td>consumption_GWh</td>\n",
       "      <td>135.6</td>\n",
       "    </tr>\n",
       "    <tr>\n",
       "      <th>1</th>\n",
       "      <td>3-room</td>\n",
       "      <td>2018</td>\n",
       "      <td>consumption_GWh</td>\n",
       "      <td>747.1</td>\n",
       "    </tr>\n",
       "    <tr>\n",
       "      <th>2</th>\n",
       "      <td>4-room</td>\n",
       "      <td>2018</td>\n",
       "      <td>consumption_GWh</td>\n",
       "      <td>1755.1</td>\n",
       "    </tr>\n",
       "    <tr>\n",
       "      <th>3</th>\n",
       "      <td>5-room and Executive</td>\n",
       "      <td>2018</td>\n",
       "      <td>consumption_GWh</td>\n",
       "      <td>1583.9</td>\n",
       "    </tr>\n",
       "    <tr>\n",
       "      <th>4</th>\n",
       "      <td>Private Apartments and Condominiums</td>\n",
       "      <td>2018</td>\n",
       "      <td>consumption_GWh</td>\n",
       "      <td>1974.9</td>\n",
       "    </tr>\n",
       "    <tr>\n",
       "      <th>5</th>\n",
       "      <td>Landed Properties</td>\n",
       "      <td>2018</td>\n",
       "      <td>consumption_GWh</td>\n",
       "      <td>1012.9</td>\n",
       "    </tr>\n",
       "    <tr>\n",
       "      <th>6</th>\n",
       "      <td>Others</td>\n",
       "      <td>2018</td>\n",
       "      <td>consumption_GWh</td>\n",
       "      <td>22.2</td>\n",
       "    </tr>\n",
       "    <tr>\n",
       "      <th>7</th>\n",
       "      <td>1-room / 2-room</td>\n",
       "      <td>2019</td>\n",
       "      <td>consumption_GWh</td>\n",
       "      <td>150.0</td>\n",
       "    </tr>\n",
       "    <tr>\n",
       "      <th>8</th>\n",
       "      <td>3-room</td>\n",
       "      <td>2019</td>\n",
       "      <td>consumption_GWh</td>\n",
       "      <td>783.7</td>\n",
       "    </tr>\n",
       "    <tr>\n",
       "      <th>9</th>\n",
       "      <td>4-room</td>\n",
       "      <td>2019</td>\n",
       "      <td>consumption_GWh</td>\n",
       "      <td>1857.5</td>\n",
       "    </tr>\n",
       "    <tr>\n",
       "      <th>10</th>\n",
       "      <td>5-room and Executive</td>\n",
       "      <td>2019</td>\n",
       "      <td>consumption_GWh</td>\n",
       "      <td>1662.5</td>\n",
       "    </tr>\n",
       "    <tr>\n",
       "      <th>11</th>\n",
       "      <td>Private Apartments and Condominiums</td>\n",
       "      <td>2019</td>\n",
       "      <td>consumption_GWh</td>\n",
       "      <td>2133.9</td>\n",
       "    </tr>\n",
       "    <tr>\n",
       "      <th>12</th>\n",
       "      <td>Landed Properties</td>\n",
       "      <td>2019</td>\n",
       "      <td>consumption_GWh</td>\n",
       "      <td>1068.8</td>\n",
       "    </tr>\n",
       "    <tr>\n",
       "      <th>13</th>\n",
       "      <td>Others</td>\n",
       "      <td>2019</td>\n",
       "      <td>consumption_GWh</td>\n",
       "      <td>24.5</td>\n",
       "    </tr>\n",
       "    <tr>\n",
       "      <th>14</th>\n",
       "      <td>1-room / 2-room</td>\n",
       "      <td>2020</td>\n",
       "      <td>consumption_GWh</td>\n",
       "      <td>172.7</td>\n",
       "    </tr>\n",
       "    <tr>\n",
       "      <th>15</th>\n",
       "      <td>3-room</td>\n",
       "      <td>2020</td>\n",
       "      <td>consumption_GWh</td>\n",
       "      <td>832.5</td>\n",
       "    </tr>\n",
       "    <tr>\n",
       "      <th>16</th>\n",
       "      <td>4-room</td>\n",
       "      <td>2020</td>\n",
       "      <td>consumption_GWh</td>\n",
       "      <td>2000.5</td>\n",
       "    </tr>\n",
       "    <tr>\n",
       "      <th>17</th>\n",
       "      <td>5-room and Executive</td>\n",
       "      <td>2020</td>\n",
       "      <td>consumption_GWh</td>\n",
       "      <td>1780.5</td>\n",
       "    </tr>\n",
       "    <tr>\n",
       "      <th>18</th>\n",
       "      <td>Private Apartments and Condominiums</td>\n",
       "      <td>2020</td>\n",
       "      <td>consumption_GWh</td>\n",
       "      <td>2303.8</td>\n",
       "    </tr>\n",
       "    <tr>\n",
       "      <th>19</th>\n",
       "      <td>Landed Properties</td>\n",
       "      <td>2020</td>\n",
       "      <td>consumption_GWh</td>\n",
       "      <td>1131.4</td>\n",
       "    </tr>\n",
       "    <tr>\n",
       "      <th>20</th>\n",
       "      <td>Others</td>\n",
       "      <td>2020</td>\n",
       "      <td>consumption_GWh</td>\n",
       "      <td>23.1</td>\n",
       "    </tr>\n",
       "    <tr>\n",
       "      <th>21</th>\n",
       "      <td>1-room / 2-room</td>\n",
       "      <td>2021</td>\n",
       "      <td>consumption_GWh</td>\n",
       "      <td>186.6</td>\n",
       "    </tr>\n",
       "    <tr>\n",
       "      <th>22</th>\n",
       "      <td>3-room</td>\n",
       "      <td>2021</td>\n",
       "      <td>consumption_GWh</td>\n",
       "      <td>831.8</td>\n",
       "    </tr>\n",
       "    <tr>\n",
       "      <th>23</th>\n",
       "      <td>4-room</td>\n",
       "      <td>2021</td>\n",
       "      <td>consumption_GWh</td>\n",
       "      <td>2016.6</td>\n",
       "    </tr>\n",
       "    <tr>\n",
       "      <th>24</th>\n",
       "      <td>5-room and Executive</td>\n",
       "      <td>2021</td>\n",
       "      <td>consumption_GWh</td>\n",
       "      <td>1788.4</td>\n",
       "    </tr>\n",
       "    <tr>\n",
       "      <th>25</th>\n",
       "      <td>Private Apartments and Condominiums</td>\n",
       "      <td>2021</td>\n",
       "      <td>consumption_GWh</td>\n",
       "      <td>2318.6</td>\n",
       "    </tr>\n",
       "    <tr>\n",
       "      <th>26</th>\n",
       "      <td>Landed Properties</td>\n",
       "      <td>2021</td>\n",
       "      <td>consumption_GWh</td>\n",
       "      <td>1114.0</td>\n",
       "    </tr>\n",
       "    <tr>\n",
       "      <th>27</th>\n",
       "      <td>Others</td>\n",
       "      <td>2021</td>\n",
       "      <td>consumption_GWh</td>\n",
       "      <td>21.5</td>\n",
       "    </tr>\n",
       "    <tr>\n",
       "      <th>28</th>\n",
       "      <td>1-room / 2-room</td>\n",
       "      <td>2022</td>\n",
       "      <td>consumption_GWh</td>\n",
       "      <td>187.4</td>\n",
       "    </tr>\n",
       "    <tr>\n",
       "      <th>29</th>\n",
       "      <td>3-room</td>\n",
       "      <td>2022</td>\n",
       "      <td>consumption_GWh</td>\n",
       "      <td>793.7</td>\n",
       "    </tr>\n",
       "    <tr>\n",
       "      <th>30</th>\n",
       "      <td>4-room</td>\n",
       "      <td>2022</td>\n",
       "      <td>consumption_GWh</td>\n",
       "      <td>1939.2</td>\n",
       "    </tr>\n",
       "    <tr>\n",
       "      <th>31</th>\n",
       "      <td>5-room and Executive</td>\n",
       "      <td>2022</td>\n",
       "      <td>consumption_GWh</td>\n",
       "      <td>1707.7</td>\n",
       "    </tr>\n",
       "    <tr>\n",
       "      <th>32</th>\n",
       "      <td>Private Apartments and Condominiums</td>\n",
       "      <td>2022</td>\n",
       "      <td>consumption_GWh</td>\n",
       "      <td>2208.3</td>\n",
       "    </tr>\n",
       "    <tr>\n",
       "      <th>33</th>\n",
       "      <td>Landed Properties</td>\n",
       "      <td>2022</td>\n",
       "      <td>consumption_GWh</td>\n",
       "      <td>1054.1</td>\n",
       "    </tr>\n",
       "    <tr>\n",
       "      <th>34</th>\n",
       "      <td>Others</td>\n",
       "      <td>2022</td>\n",
       "      <td>consumption_GWh</td>\n",
       "      <td>20.8</td>\n",
       "    </tr>\n",
       "    <tr>\n",
       "      <th>35</th>\n",
       "      <td>1-room / 2-room</td>\n",
       "      <td>2023</td>\n",
       "      <td>consumption_GWh</td>\n",
       "      <td>92.9</td>\n",
       "    </tr>\n",
       "    <tr>\n",
       "      <th>36</th>\n",
       "      <td>3-room</td>\n",
       "      <td>2023</td>\n",
       "      <td>consumption_GWh</td>\n",
       "      <td>381.2</td>\n",
       "    </tr>\n",
       "    <tr>\n",
       "      <th>37</th>\n",
       "      <td>4-room</td>\n",
       "      <td>2023</td>\n",
       "      <td>consumption_GWh</td>\n",
       "      <td>937.1</td>\n",
       "    </tr>\n",
       "    <tr>\n",
       "      <th>38</th>\n",
       "      <td>5-room and Executive</td>\n",
       "      <td>2023</td>\n",
       "      <td>consumption_GWh</td>\n",
       "      <td>819.3</td>\n",
       "    </tr>\n",
       "    <tr>\n",
       "      <th>39</th>\n",
       "      <td>Private Apartments and Condominiums</td>\n",
       "      <td>2023</td>\n",
       "      <td>consumption_GWh</td>\n",
       "      <td>1053.7</td>\n",
       "    </tr>\n",
       "    <tr>\n",
       "      <th>40</th>\n",
       "      <td>Landed Properties</td>\n",
       "      <td>2023</td>\n",
       "      <td>consumption_GWh</td>\n",
       "      <td>506.4</td>\n",
       "    </tr>\n",
       "    <tr>\n",
       "      <th>41</th>\n",
       "      <td>Others</td>\n",
       "      <td>2023</td>\n",
       "      <td>consumption_GWh</td>\n",
       "      <td>10.0</td>\n",
       "    </tr>\n",
       "  </tbody>\n",
       "</table>\n",
       "</div>"
      ],
      "text/plain": [
       "                          DWELLING_TYPE  year         variable   value\n",
       "0                       1-room / 2-room  2018  consumption_GWh   135.6\n",
       "1                                3-room  2018  consumption_GWh   747.1\n",
       "2                                4-room  2018  consumption_GWh  1755.1\n",
       "3                  5-room and Executive  2018  consumption_GWh  1583.9\n",
       "4   Private Apartments and Condominiums  2018  consumption_GWh  1974.9\n",
       "5                     Landed Properties  2018  consumption_GWh  1012.9\n",
       "6                                Others  2018  consumption_GWh    22.2\n",
       "7                       1-room / 2-room  2019  consumption_GWh   150.0\n",
       "8                                3-room  2019  consumption_GWh   783.7\n",
       "9                                4-room  2019  consumption_GWh  1857.5\n",
       "10                 5-room and Executive  2019  consumption_GWh  1662.5\n",
       "11  Private Apartments and Condominiums  2019  consumption_GWh  2133.9\n",
       "12                    Landed Properties  2019  consumption_GWh  1068.8\n",
       "13                               Others  2019  consumption_GWh    24.5\n",
       "14                      1-room / 2-room  2020  consumption_GWh   172.7\n",
       "15                               3-room  2020  consumption_GWh   832.5\n",
       "16                               4-room  2020  consumption_GWh  2000.5\n",
       "17                 5-room and Executive  2020  consumption_GWh  1780.5\n",
       "18  Private Apartments and Condominiums  2020  consumption_GWh  2303.8\n",
       "19                    Landed Properties  2020  consumption_GWh  1131.4\n",
       "20                               Others  2020  consumption_GWh    23.1\n",
       "21                      1-room / 2-room  2021  consumption_GWh   186.6\n",
       "22                               3-room  2021  consumption_GWh   831.8\n",
       "23                               4-room  2021  consumption_GWh  2016.6\n",
       "24                 5-room and Executive  2021  consumption_GWh  1788.4\n",
       "25  Private Apartments and Condominiums  2021  consumption_GWh  2318.6\n",
       "26                    Landed Properties  2021  consumption_GWh  1114.0\n",
       "27                               Others  2021  consumption_GWh    21.5\n",
       "28                      1-room / 2-room  2022  consumption_GWh   187.4\n",
       "29                               3-room  2022  consumption_GWh   793.7\n",
       "30                               4-room  2022  consumption_GWh  1939.2\n",
       "31                 5-room and Executive  2022  consumption_GWh  1707.7\n",
       "32  Private Apartments and Condominiums  2022  consumption_GWh  2208.3\n",
       "33                    Landed Properties  2022  consumption_GWh  1054.1\n",
       "34                               Others  2022  consumption_GWh    20.8\n",
       "35                      1-room / 2-room  2023  consumption_GWh    92.9\n",
       "36                               3-room  2023  consumption_GWh   381.2\n",
       "37                               4-room  2023  consumption_GWh   937.1\n",
       "38                 5-room and Executive  2023  consumption_GWh   819.3\n",
       "39  Private Apartments and Condominiums  2023  consumption_GWh  1053.7\n",
       "40                    Landed Properties  2023  consumption_GWh   506.4\n",
       "41                               Others  2023  consumption_GWh    10.0"
      ]
     },
     "execution_count": 374,
     "metadata": {},
     "output_type": "execute_result"
    }
   ],
   "source": [
    "dataframe_for_grouped_bar_chart"
   ]
  },
  {
   "cell_type": "code",
   "execution_count": 376,
   "metadata": {},
   "outputs": [
    {
     "data": {
      "text/plain": [
       "<seaborn.axisgrid.FacetGrid at 0x7fa5913a3e00>"
      ]
     },
     "execution_count": 376,
     "metadata": {},
     "output_type": "execute_result"
    },
    {
     "data": {
      "image/png": "[encoded data removed]",
      "text/plain": [
       "<Figure size 758.625x500 with 1 Axes>"
      ]
     },
     "metadata": {},
     "output_type": "display_data"
    }
   ],
   "source": [
    "dataframe_for_grouped_bar_chart\n",
    "\n",
    "group_bar_plot_household_energy_consumption = seaborn.catplot(data=dataframe_for_grouped_bar_chart, kind=\"bar\", x=\"year\", y=\"value\", hue=\"DWELLING_TYPE\")\n",
    "\n",
    "group_bar_plot_household_energy_consumption.set(xlabel=\"Year\", ylabel=\"Consumption GWh\")\n"
   ]
  },
  {
   "cell_type": "markdown",
   "metadata": {},
   "source": [
    "The decreased energy consumption could mean that COVID restriction is lax and people could go out more frequently which contributes to the reduced energy consumption."
   ]
  },
  {
   "cell_type": "markdown",
   "metadata": {},
   "source": [
    "Tengah smart energy town has Solar Photovoltaic panels installed in each building to power centralized cooling system.\n",
    "\n",
    "https://www.hdb.gov.sg/about-us/hdbs-refreshed-roadmap-designing-for-life/tengah-showpiece/tengah-smart-energy-town"
   ]
  },
  {
   "cell_type": "markdown",
   "metadata": {},
   "source": [
    "## Summary"
   ]
  },
  {
   "cell_type": "markdown",
   "metadata": {},
   "source": [
    "The Solar PV electricity generation is likely to meet the demand of the Electricity needs in 2025 of 1.5 GWh \n",
    "\n",
    "In the data visualization from Singapore Food Statistics 2023, the local food production is already meeting the 30% nutrition needs in Singapore\n",
    "\n",
    "There are challenges for Fish and Vegetable farm owners due to endemic disease or rising costs that obstruct the construction progress but there are certain avenue to seek help via Singapore AquaCulture Plan and Agri Food Hub \n"
   ]
  },
  {
   "cell_type": "markdown",
   "metadata": {},
   "source": [
    "## Reference"
   ]
  },
  {
   "cell_type": "markdown",
   "metadata": {},
   "source": [
    "- https://www.greenplan.gov.sg/targets/ [1]\n",
    "- https://www.greenplan.gov.sg/key-focus-areas/resilient-future/ [2]\n",
    "- https://www.straitstimes.com/singapore/s-pore-vegetable-seafood-production-fell-in-2023-due-to-construction-challenges-inflation-sfa [3]\n",
    "- https://www.sfa.gov.sg/docs/default-source/publication/sg-food-statistics/singapore-food-statistics-2023.pdf?sfvrsn=cac6f594_1 [4]\n",
    "- https://www.greenplan.gov.sg/key-focus-areas/city-in-nature/\n",
    "- https://www.greenplan.gov.sg/key-focus-areas/energy-reset/\n",
    "- https://www.greenplan.gov.sg/key-focus-areas/green-economy/\n",
    "- https://www.greenplan.gov.sg/key-focus-areas/resilient-future/\n",
    "- https://www.greenplan.gov.sg/key-focus-areas/sustainable-living/\n",
    "- https://www.greenplan.gov.sg/vision/\n",
    "- https://www.ourfoodfuture.gov.sg/uplifting-aquaculture-industry/sg-aquaculture-plan/\n",
    "- https://www.ourfoodfuture.gov.sg/master-planning-lck/ourvision/\n",
    "- https://www.channelnewsasia.com/singapore/local-imported-vegetables-produce-farms-price-demand-3517356\n",
    "- https://www.sfa.gov.sg/food-farming/sgfoodstory  \n",
    "\n",
    "\n"
   ]
  }
 ],
 "metadata": {
  "kernelspec": {
   "display_name": "base",
   "language": "python",
   "name": "python3"
  },
  "language_info": {
   "codemirror_mode": {
    "name": "ipython",
    "version": 3
   },
   "file_extension": ".py",
   "mimetype": "text/x-python",
   "name": "python",
   "nbconvert_exporter": "python",
   "pygments_lexer": "ipython3",
   "version": "3.12.4"
  }
 },
 "nbformat": 4,
 "nbformat_minor": 2
}
