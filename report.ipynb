{
 "cells": [
  {
   "cell_type": "markdown",
   "metadata": {},
   "source": [
    "# How far are we from the goals defined in the Singapore Green Plan 2030?"
   ]
  },
  {
   "cell_type": "markdown",
   "metadata": {},
   "source": [
    "## Executive Summary"
   ]
  },
  {
   "cell_type": "markdown",
   "metadata": {},
   "source": [
    "asdasdasd"
   ]
  },
  {
   "cell_type": "markdown",
   "metadata": {},
   "source": [
    "## Introduction"
   ]
  },
  {
   "cell_type": "markdown",
   "metadata": {},
   "source": [
    "The Singapore Green Plan 2030 is an initiative that aims to encourage \"whole-of-nation\" movement and moving towards Singapore's national agenda on sustainable development.\n",
    "\n",
    "Five ministries [Ministries of Sustainability and the Environment (MSE), Trade and Industry (MTI), Transport (MOT), National Development (MND), and Education(MOE)] are working together with the support by the whole of government to push the initiative with ambitious and concrete targets for a better sustainable future in Singapore.\n",
    "\n",
    "\n"
   ]
  },
  {
   "cell_type": "markdown",
   "metadata": {},
   "source": [
    "## Aim of this analysis"
   ]
  },
  {
   "cell_type": "markdown",
   "metadata": {},
   "source": [
    "This analysis attempts to find out if the target set in the Singapore Green Plan 2030 can be achieved by 2030. \n",
    "\n",
    "The focus of this analysis due to time constraint and knowledge constraint is narrow down to two key factors:\n",
    "- Energy Reset\n",
    "    - Green Energy\n",
    "        - To use Linear Regression to predict if the current data for the amount of Solar Panel can meet the 1.5 Gigawatt-peak which can serve 2% of the projected electricity demand in 2025\n",
    "        - 1.5 Gigawatt-peak of electricity generation from solar panel can meet the annual electricity needs for about 260000 households\n",
    "- Resilient Future\n",
    "    - Grow Local\n",
    "        - Build the local production of agri-food industry that can have the capability and capacity to produce 30% of Singapore's nutritional needs locally and sustainably\n"
   ]
  },
  {
   "cell_type": "markdown",
   "metadata": {},
   "source": [
    "## Bias in this analysis\n",
    "\n",
    "The data obtained in this analysis are aggregated data and it is not raw data.\n"
   ]
  },
  {
   "cell_type": "markdown",
   "metadata": {},
   "source": [
    "## Environment Setup, data Cleaning and Data Transformation"
   ]
  },
  {
   "cell_type": "code",
   "execution_count": 1,
   "metadata": {},
   "outputs": [],
   "source": [
    "import pandas\n",
    "import etl_processor\n",
    "import bokeh\n",
    "import seaborn"
   ]
  },
  {
   "cell_type": "markdown",
   "metadata": {},
   "source": [
    "### Data Source"
   ]
  },
  {
   "cell_type": "markdown",
   "metadata": {},
   "source": [
    "- Electricity Generation and Consumption\n",
    "    - Description: This dataset is about the electricity generation and electricity consumption across different sectors and households from 1975 Jan to 2024 Mar\n",
    "    - Link: https://tablebuilder.singstat.gov.sg/table/TS/M890841 \n",
    "    - Data Source: SingStat Table Builder (Department of Statistics)\n",
    "- Electricity Generation by Monthly data\n",
    "    - Description: This dataset is about the electricity generation per month from 1975 Jan to 2024 Mar\n",
    "    - Link: https://tablebuilder.singstat.gov.sg/table/TS/M890831 \n",
    "    - Data Source: SingStat Table Builder (Department of Statistics)\n",
    "- Peak System Demand from 2005 to Jul 2021\n",
    "    - Description: This dataset is about the records of Peak System Demand in the unit of Megawatt for each month from 2005 to Jul 2021\n",
    "    - Link: https://beta.data.gov.sg/datasets/d_926d3e304c0b41e56d4cbd3304acf105/view \n",
    "    - Data Source: data.gov.sg\n",
    "- Solar PV Installations by URA Planning Region\n",
    "    - Description: \n",
    "        - This dataset is about the Solar PV installation in different region within Singapore with data differentiating its residential status \n",
    "        - There are data columns about the number of solar pv installations, installed capacity in KWac and total installed capacity (percentage)    \n",
    "    - Link: https://beta.data.gov.sg/datasets/d_cd4f91f7a1ebb2b7ceb1a70c0dbb706d/view\n",
    "    - Data Source: data.gov.sg \n",
    "- Total Final Energy Consumption 2009 to 2019\n",
    "    - Description: This dataset is about the energy consumption in the unit of Kilotonne of Oil equivalent across different energy type and sectors from 2009 to 2019\n",
    "    - Link: https://beta.data.gov.sg/datasets/d_500440fba49cfc69f395e6dd1df967de/view \n",
    "    - Data Source: data.gov.sg\n",
    "- Total Final Energy Consumption by Energy Type and Sector\n",
    "    - Description: This dataset is about the energy consumption in the unit of Kilotonne of Oil equivalent across different energy type and sectors\n",
    "    - Link: https://tablebuilder.singstat.gov.sg/table/TS/M891111 \n",
    "    - Data Source: SingStat Table Builder (Department of Statistics Singapore)\n",
    "- Licensed Local Food Farm\n",
    "    - Description: This dataset is about the number of licensed food farms in Singapore with different food category\n",
    "    - Link: https://tablebuilder.singstat.gov.sg/table/TS/M891471 \n",
    "    - Data Source: SingStat Table Builder (Department of Statistics Singapore)\n",
    "- Local Production Annual\n",
    "    - Description: This dataset is about the value of Local food production annually with different categories of Food Type\n",
    "    - Link: https://tablebuilder.singstat.gov.sg/table/TS/M890721 \n",
    "    - Data Source: SingStat Table Builder (Department of Statistics Singapore)\n",
    "- Value of Local Food Production in Singapore\n",
    "    - Description: This dataset is about the value of Local Food Production in Singapore measured in million dollar for each year with different categories of food type\n",
    "    - Link: https://beta.data.gov.sg/datasets/d_21ae7d83dd7ee33c8c932ba2564fd8aa/view\n",
    "    - Data Source: data.gov.sg\n",
    "\n"
   ]
  },
  {
   "cell_type": "markdown",
   "metadata": {},
   "source": [
    "### Data Preparation"
   ]
  },
  {
   "cell_type": "markdown",
   "metadata": {},
   "source": [
    "#### Total Final Energy Consumption by Energy Type and Sector"
   ]
  },
  {
   "cell_type": "code",
   "execution_count": 3,
   "metadata": {},
   "outputs": [],
   "source": [
    "total_final_energy_consumption_by_energy_type_and_sector_for_total_dataframe: pandas.DataFrame = etl_processor.excel_file_data_source.retrieve_data_for_total_final_energy_consumption_by_energy_type_and_sector_for_total()\n",
    "total_final_energy_consumption_by_energy_type_and_sector_for_petroleum_products_dataframe: pandas.DataFrame = etl_processor.excel_file_data_source.retrieve_data_for_total_final_energy_consumption_by_energy_type_and_sector_for_petroleum_products()\n",
    "total_final_energy_consumption_by_energy_type_and_sector_total_for_coal_and_peat_dataframe: pandas.DataFrame = etl_processor.excel_file_data_source.retrieve_data_for_total_final_energy_consumption_by_energy_type_and_sector_total_for_coal_and_peat()\n",
    "total_final_energy_consumption_by_energy_type_and_sector_total_for_electricity_dataframe: pandas.DataFrame = etl_processor.excel_file_data_source.retrieve_data_for_total_final_energy_consumption_by_energy_type_and_sector_total_for_electricity()\n",
    "total_final_energy_consumption_by_energy_type_and_sector_total_for_natural_gas_dataframe: pandas.DataFrame = etl_processor.excel_file_data_source.retrieve_data_for_total_final_energy_consumption_by_energy_type_and_sector_total_for_natural_gas()\n"
   ]
  },
  {
   "cell_type": "markdown",
   "metadata": {},
   "source": [
    "#### Electricity Generation by Monthly data"
   ]
  },
  {
   "cell_type": "code",
   "execution_count": 7,
   "metadata": {},
   "outputs": [],
   "source": [
    "electricity_generation_by_month_dataframe: pandas.DataFrame = etl_processor.excel_file_data_source.retrieve_data_for_electricity_generation_monthly_data()"
   ]
  },
  {
   "cell_type": "markdown",
   "metadata": {},
   "source": [
    "#### Electricity Generation and Consumption"
   ]
  },
  {
   "cell_type": "code",
   "execution_count": null,
   "metadata": {},
   "outputs": [],
   "source": [
    "electricity_generation_and_consumption_by_month_dataframe: pandas.DataFrame = etl_processor.excel_file_data_source.retrieve_data_for_electricity_generation_and_consumption()"
   ]
  },
  {
   "cell_type": "markdown",
   "metadata": {},
   "source": [
    "#### Total Final Energy Consumption by Energy Type and Sector from 2009 to 2019"
   ]
  },
  {
   "cell_type": "code",
   "execution_count": 12,
   "metadata": {},
   "outputs": [],
   "source": [
    "total_final_energy_consumption_by_energy_type_and_sector_csv: pandas.DataFrame = etl_processor.csv_file_data_source.retrieve_data_for_total_final_energy_consumption_2009_to_2019()"
   ]
  },
  {
   "cell_type": "markdown",
   "metadata": {},
   "source": [
    "#### Peak System Demand from 2005 to Jul 2021"
   ]
  },
  {
   "cell_type": "code",
   "execution_count": 9,
   "metadata": {},
   "outputs": [],
   "source": [
    "peak_system_demand_dataframe: pandas.DataFrame = etl_processor.csv_file_data_source.retrieve_data_for_peak_system_demand_2005_to_jul_2021()"
   ]
  },
  {
   "cell_type": "markdown",
   "metadata": {},
   "source": [
    "#### Solar PV Installations by URA Planning Region"
   ]
  },
  {
   "cell_type": "code",
   "execution_count": 10,
   "metadata": {},
   "outputs": [],
   "source": [
    "solar_pv_installations_by_ura_planning_region_dataframe: pandas.DataFrame = etl_processor.csv_file_data_source.retrieve_data_for_solar_pv_installations_by_ura_planning_region()"
   ]
  },
  {
   "cell_type": "markdown",
   "metadata": {},
   "source": [
    "#### Local Production Annual"
   ]
  },
  {
   "cell_type": "code",
   "execution_count": null,
   "metadata": {},
   "outputs": [],
   "source": [
    "local_food_production_annual_dataframe: pandas.DataFrame = etl_processor.excel_file_data_source.retrieve_data_for_local_production_annual()\n"
   ]
  },
  {
   "cell_type": "markdown",
   "metadata": {},
   "source": [
    "#### Licensed Local Food Farm"
   ]
  },
  {
   "cell_type": "code",
   "execution_count": 11,
   "metadata": {},
   "outputs": [
    {
     "data": {
      "text/html": [
       "<div>\n",
       "<style scoped>\n",
       "    .dataframe tbody tr th:only-of-type {\n",
       "        vertical-align: middle;\n",
       "    }\n",
       "\n",
       "    .dataframe tbody tr th {\n",
       "        vertical-align: top;\n",
       "    }\n",
       "\n",
       "    .dataframe thead th {\n",
       "        text-align: right;\n",
       "    }\n",
       "</style>\n",
       "<table border=\"1\" class=\"dataframe\">\n",
       "  <thead>\n",
       "    <tr style=\"text-align: right;\">\n",
       "      <th></th>\n",
       "      <th>Number Of Licensed Local Food Farms</th>\n",
       "      <th>254</th>\n",
       "      <th>257</th>\n",
       "      <th>260</th>\n",
       "      <th>237</th>\n",
       "      <th>221</th>\n",
       "    </tr>\n",
       "  </thead>\n",
       "  <tbody>\n",
       "    <tr>\n",
       "      <th>0</th>\n",
       "      <td>Sea-Based Seafood</td>\n",
       "      <td>98</td>\n",
       "      <td>109</td>\n",
       "      <td>110</td>\n",
       "      <td>109</td>\n",
       "      <td>110</td>\n",
       "    </tr>\n",
       "    <tr>\n",
       "      <th>1</th>\n",
       "      <td>Land-Based Seafood</td>\n",
       "      <td>33</td>\n",
       "      <td>27</td>\n",
       "      <td>27</td>\n",
       "      <td>22</td>\n",
       "      <td>15</td>\n",
       "    </tr>\n",
       "    <tr>\n",
       "      <th>2</th>\n",
       "      <td>Vegetables</td>\n",
       "      <td>115</td>\n",
       "      <td>111</td>\n",
       "      <td>113</td>\n",
       "      <td>96</td>\n",
       "      <td>85</td>\n",
       "    </tr>\n",
       "    <tr>\n",
       "      <th>3</th>\n",
       "      <td>Hen Shell Eggs</td>\n",
       "      <td>3</td>\n",
       "      <td>3</td>\n",
       "      <td>3</td>\n",
       "      <td>3</td>\n",
       "      <td>3</td>\n",
       "    </tr>\n",
       "    <tr>\n",
       "      <th>4</th>\n",
       "      <td>Others</td>\n",
       "      <td>5</td>\n",
       "      <td>7</td>\n",
       "      <td>7</td>\n",
       "      <td>7</td>\n",
       "      <td>8</td>\n",
       "    </tr>\n",
       "  </tbody>\n",
       "</table>\n",
       "</div>"
      ],
      "text/plain": [
       "  Number Of Licensed Local Food Farms  254  257  260  237  221\n",
       "0                   Sea-Based Seafood   98  109  110  109  110\n",
       "1                  Land-Based Seafood   33   27   27   22   15\n",
       "2                          Vegetables  115  111  113   96   85\n",
       "3                      Hen Shell Eggs    3    3    3    3    3\n",
       "4                              Others    5    7    7    7    8"
      ]
     },
     "execution_count": 11,
     "metadata": {},
     "output_type": "execute_result"
    }
   ],
   "source": [
    "etl_processor.excel_file_data_source.retrieve_data_for_licensed_local_food_farm()"
   ]
  },
  {
   "cell_type": "code",
   "execution_count": 3,
   "metadata": {},
   "outputs": [
    {
     "data": {
      "text/html": [
       "<div>\n",
       "<style scoped>\n",
       "    .dataframe tbody tr th:only-of-type {\n",
       "        vertical-align: middle;\n",
       "    }\n",
       "\n",
       "    .dataframe tbody tr th {\n",
       "        vertical-align: top;\n",
       "    }\n",
       "\n",
       "    .dataframe thead th {\n",
       "        text-align: right;\n",
       "    }\n",
       "</style>\n",
       "<table border=\"1\" class=\"dataframe\">\n",
       "  <thead>\n",
       "    <tr style=\"text-align: right;\">\n",
       "      <th></th>\n",
       "      <th>Total Value Of Local Production (Million Dollars)</th>\n",
       "      <th>233</th>\n",
       "      <th>207</th>\n",
       "      <th>186</th>\n",
       "      <th>163</th>\n",
       "      <th>166</th>\n",
       "      <th>na</th>\n",
       "      <th>na.1</th>\n",
       "      <th>na.2</th>\n",
       "      <th>na.3</th>\n",
       "      <th>...</th>\n",
       "      <th>na.33</th>\n",
       "      <th>na.34</th>\n",
       "      <th>na.35</th>\n",
       "      <th>na.36</th>\n",
       "      <th>na.37</th>\n",
       "      <th>na.38</th>\n",
       "      <th>na.39</th>\n",
       "      <th>na.40</th>\n",
       "      <th>na.41</th>\n",
       "      <th>na.42</th>\n",
       "    </tr>\n",
       "  </thead>\n",
       "  <tbody>\n",
       "    <tr>\n",
       "      <th>0</th>\n",
       "      <td>Seafood (Million Dollars)</td>\n",
       "      <td>34</td>\n",
       "      <td>40</td>\n",
       "      <td>41</td>\n",
       "      <td>35</td>\n",
       "      <td>46</td>\n",
       "      <td>na</td>\n",
       "      <td>na</td>\n",
       "      <td>na</td>\n",
       "      <td>na</td>\n",
       "      <td>...</td>\n",
       "      <td>na</td>\n",
       "      <td>na</td>\n",
       "      <td>na</td>\n",
       "      <td>na</td>\n",
       "      <td>na</td>\n",
       "      <td>na</td>\n",
       "      <td>na</td>\n",
       "      <td>na</td>\n",
       "      <td>na</td>\n",
       "      <td>na</td>\n",
       "    </tr>\n",
       "    <tr>\n",
       "      <th>1</th>\n",
       "      <td>Vegetables (Million Dollars)</td>\n",
       "      <td>43</td>\n",
       "      <td>43</td>\n",
       "      <td>47</td>\n",
       "      <td>40</td>\n",
       "      <td>42</td>\n",
       "      <td>na</td>\n",
       "      <td>na</td>\n",
       "      <td>na</td>\n",
       "      <td>na</td>\n",
       "      <td>...</td>\n",
       "      <td>na</td>\n",
       "      <td>na</td>\n",
       "      <td>na</td>\n",
       "      <td>na</td>\n",
       "      <td>na</td>\n",
       "      <td>na</td>\n",
       "      <td>na</td>\n",
       "      <td>na</td>\n",
       "      <td>na</td>\n",
       "      <td>na</td>\n",
       "    </tr>\n",
       "    <tr>\n",
       "      <th>2</th>\n",
       "      <td>Hen Shell Eggs (Million Dollars)</td>\n",
       "      <td>156</td>\n",
       "      <td>124</td>\n",
       "      <td>99</td>\n",
       "      <td>89</td>\n",
       "      <td>79</td>\n",
       "      <td>na</td>\n",
       "      <td>na</td>\n",
       "      <td>na</td>\n",
       "      <td>na</td>\n",
       "      <td>...</td>\n",
       "      <td>na</td>\n",
       "      <td>na</td>\n",
       "      <td>na</td>\n",
       "      <td>na</td>\n",
       "      <td>na</td>\n",
       "      <td>na</td>\n",
       "      <td>na</td>\n",
       "      <td>na</td>\n",
       "      <td>na</td>\n",
       "      <td>na</td>\n",
       "    </tr>\n",
       "    <tr>\n",
       "      <th>3</th>\n",
       "      <td>Local Production Of Seafood (Tonnes)</td>\n",
       "      <td>4090</td>\n",
       "      <td>4440</td>\n",
       "      <td>5069</td>\n",
       "      <td>4567</td>\n",
       "      <td>5335</td>\n",
       "      <td>5192</td>\n",
       "      <td>5390</td>\n",
       "      <td>5597</td>\n",
       "      <td>6432</td>\n",
       "      <td>...</td>\n",
       "      <td>na</td>\n",
       "      <td>na</td>\n",
       "      <td>na</td>\n",
       "      <td>na</td>\n",
       "      <td>na</td>\n",
       "      <td>na</td>\n",
       "      <td>na</td>\n",
       "      <td>na</td>\n",
       "      <td>na</td>\n",
       "      <td>na</td>\n",
       "    </tr>\n",
       "    <tr>\n",
       "      <th>4</th>\n",
       "      <td>Local Production Of Vegetables (Tonnes)</td>\n",
       "      <td>16915</td>\n",
       "      <td>19881</td>\n",
       "      <td>23506</td>\n",
       "      <td>22793</td>\n",
       "      <td>24296</td>\n",
       "      <td>24033</td>\n",
       "      <td>22620</td>\n",
       "      <td>22458</td>\n",
       "      <td>23039</td>\n",
       "      <td>...</td>\n",
       "      <td>28648</td>\n",
       "      <td>32767</td>\n",
       "      <td>35326</td>\n",
       "      <td>41388</td>\n",
       "      <td>42861</td>\n",
       "      <td>36839</td>\n",
       "      <td>37800</td>\n",
       "      <td>40665</td>\n",
       "      <td>36460</td>\n",
       "      <td>38339</td>\n",
       "    </tr>\n",
       "    <tr>\n",
       "      <th>5</th>\n",
       "      <td>Local Production Of Hen Shell Eggs (Million Pi...</td>\n",
       "      <td>685</td>\n",
       "      <td>609</td>\n",
       "      <td>644</td>\n",
       "      <td>616</td>\n",
       "      <td>528</td>\n",
       "      <td>488</td>\n",
       "      <td>521</td>\n",
       "      <td>452</td>\n",
       "      <td>421</td>\n",
       "      <td>...</td>\n",
       "      <td>na</td>\n",
       "      <td>na</td>\n",
       "      <td>na</td>\n",
       "      <td>na</td>\n",
       "      <td>na</td>\n",
       "      <td>na</td>\n",
       "      <td>na</td>\n",
       "      <td>na</td>\n",
       "      <td>na</td>\n",
       "      <td>na</td>\n",
       "    </tr>\n",
       "    <tr>\n",
       "      <th>6</th>\n",
       "      <td>Local Production Of Aquarium Fish (Million Pie...</td>\n",
       "      <td>na</td>\n",
       "      <td>na</td>\n",
       "      <td>62</td>\n",
       "      <td>69</td>\n",
       "      <td>85</td>\n",
       "      <td>78</td>\n",
       "      <td>73</td>\n",
       "      <td>77</td>\n",
       "      <td>77</td>\n",
       "      <td>...</td>\n",
       "      <td>na</td>\n",
       "      <td>na</td>\n",
       "      <td>na</td>\n",
       "      <td>na</td>\n",
       "      <td>na</td>\n",
       "      <td>na</td>\n",
       "      <td>na</td>\n",
       "      <td>na</td>\n",
       "      <td>na</td>\n",
       "      <td>na</td>\n",
       "    </tr>\n",
       "    <tr>\n",
       "      <th>7</th>\n",
       "      <td>Local Production Of Aquatic Plants And Tissue ...</td>\n",
       "      <td>na</td>\n",
       "      <td>na</td>\n",
       "      <td>17</td>\n",
       "      <td>15</td>\n",
       "      <td>14</td>\n",
       "      <td>na</td>\n",
       "      <td>na</td>\n",
       "      <td>na</td>\n",
       "      <td>na</td>\n",
       "      <td>...</td>\n",
       "      <td>na</td>\n",
       "      <td>na</td>\n",
       "      <td>na</td>\n",
       "      <td>na</td>\n",
       "      <td>na</td>\n",
       "      <td>na</td>\n",
       "      <td>na</td>\n",
       "      <td>na</td>\n",
       "      <td>na</td>\n",
       "      <td>na</td>\n",
       "    </tr>\n",
       "    <tr>\n",
       "      <th>8</th>\n",
       "      <td>Local Production Of Orchids (Million Stalks)</td>\n",
       "      <td>na</td>\n",
       "      <td>na</td>\n",
       "      <td>na</td>\n",
       "      <td>na</td>\n",
       "      <td>na</td>\n",
       "      <td>na</td>\n",
       "      <td>5</td>\n",
       "      <td>6</td>\n",
       "      <td>8</td>\n",
       "      <td>...</td>\n",
       "      <td>na</td>\n",
       "      <td>na</td>\n",
       "      <td>na</td>\n",
       "      <td>na</td>\n",
       "      <td>na</td>\n",
       "      <td>na</td>\n",
       "      <td>na</td>\n",
       "      <td>na</td>\n",
       "      <td>na</td>\n",
       "      <td>na</td>\n",
       "    </tr>\n",
       "    <tr>\n",
       "      <th>9</th>\n",
       "      <td>Local Production Of Ornamental Plants (Million...</td>\n",
       "      <td>na</td>\n",
       "      <td>na</td>\n",
       "      <td>na</td>\n",
       "      <td>na</td>\n",
       "      <td>na</td>\n",
       "      <td>na</td>\n",
       "      <td>16</td>\n",
       "      <td>17</td>\n",
       "      <td>21</td>\n",
       "      <td>...</td>\n",
       "      <td>na</td>\n",
       "      <td>na</td>\n",
       "      <td>na</td>\n",
       "      <td>na</td>\n",
       "      <td>na</td>\n",
       "      <td>na</td>\n",
       "      <td>na</td>\n",
       "      <td>na</td>\n",
       "      <td>na</td>\n",
       "      <td>na</td>\n",
       "    </tr>\n",
       "  </tbody>\n",
       "</table>\n",
       "<p>10 rows × 49 columns</p>\n",
       "</div>"
      ],
      "text/plain": [
       "   Total Value Of Local Production (Million Dollars)    233    207    186  \\\n",
       "0                          Seafood (Million Dollars)     34     40     41   \n",
       "1                       Vegetables (Million Dollars)     43     43     47   \n",
       "2                   Hen Shell Eggs (Million Dollars)    156    124     99   \n",
       "3               Local Production Of Seafood (Tonnes)   4090   4440   5069   \n",
       "4            Local Production Of Vegetables (Tonnes)  16915  19881  23506   \n",
       "5  Local Production Of Hen Shell Eggs (Million Pi...    685    609    644   \n",
       "6  Local Production Of Aquarium Fish (Million Pie...     na     na     62   \n",
       "7  Local Production Of Aquatic Plants And Tissue ...     na     na     17   \n",
       "8       Local Production Of Orchids (Million Stalks)     na     na     na   \n",
       "9  Local Production Of Ornamental Plants (Million...     na     na     na   \n",
       "\n",
       "     163    166     na   na.1   na.2   na.3  ...  na.33  na.34  na.35  na.36  \\\n",
       "0     35     46     na     na     na     na  ...     na     na     na     na   \n",
       "1     40     42     na     na     na     na  ...     na     na     na     na   \n",
       "2     89     79     na     na     na     na  ...     na     na     na     na   \n",
       "3   4567   5335   5192   5390   5597   6432  ...     na     na     na     na   \n",
       "4  22793  24296  24033  22620  22458  23039  ...  28648  32767  35326  41388   \n",
       "5    616    528    488    521    452    421  ...     na     na     na     na   \n",
       "6     69     85     78     73     77     77  ...     na     na     na     na   \n",
       "7     15     14     na     na     na     na  ...     na     na     na     na   \n",
       "8     na     na     na      5      6      8  ...     na     na     na     na   \n",
       "9     na     na     na     16     17     21  ...     na     na     na     na   \n",
       "\n",
       "   na.37  na.38  na.39  na.40  na.41  na.42  \n",
       "0     na     na     na     na     na     na  \n",
       "1     na     na     na     na     na     na  \n",
       "2     na     na     na     na     na     na  \n",
       "3     na     na     na     na     na     na  \n",
       "4  42861  36839  37800  40665  36460  38339  \n",
       "5     na     na     na     na     na     na  \n",
       "6     na     na     na     na     na     na  \n",
       "7     na     na     na     na     na     na  \n",
       "8     na     na     na     na     na     na  \n",
       "9     na     na     na     na     na     na  \n",
       "\n",
       "[10 rows x 49 columns]"
      ]
     },
     "execution_count": 3,
     "metadata": {},
     "output_type": "execute_result"
    }
   ],
   "source": [
    "local_food_production_annual_dataframe"
   ]
  },
  {
   "cell_type": "code",
   "execution_count": null,
   "metadata": {},
   "outputs": [],
   "source": []
  },
  {
   "cell_type": "code",
   "execution_count": 5,
   "metadata": {},
   "outputs": [
    {
     "name": "stdout",
     "output_type": "stream",
     "text": [
      "asdasd\n"
     ]
    }
   ],
   "source": [
    "print(\"asdasd\")"
   ]
  },
  {
   "cell_type": "code",
   "execution_count": 7,
   "metadata": {},
   "outputs": [
    {
     "name": "stdout",
     "output_type": "stream",
     "text": [
      "asdasd\n"
     ]
    }
   ],
   "source": [
    "print('asdasd')"
   ]
  },
  {
   "cell_type": "markdown",
   "metadata": {},
   "source": [
    "### Data Profiling"
   ]
  },
  {
   "cell_type": "markdown",
   "metadata": {},
   "source": [
    "# deccribe the data \n",
    "\n",
    "# create the data dictionary for each dataset"
   ]
  },
  {
   "cell_type": "code",
   "execution_count": null,
   "metadata": {},
   "outputs": [],
   "source": []
  },
  {
   "cell_type": "markdown",
   "metadata": {},
   "source": [
    "### Data Transformation"
   ]
  },
  {
   "cell_type": "code",
   "execution_count": null,
   "metadata": {},
   "outputs": [],
   "source": [
    "# merge the total final energy consumption from data.gov.sg and the other total final energy consumption from singstat table into one dataframe\n",
    "\n",
    "#remove na data for electricity generation dataframe and electricity generation and consumption dataframe "
   ]
  },
  {
   "cell_type": "markdown",
   "metadata": {},
   "source": [
    "## Exploratory Data Analysis"
   ]
  },
  {
   "cell_type": "code",
   "execution_count": 8,
   "metadata": {},
   "outputs": [
    {
     "ename": "NameError",
     "evalue": "name 'asdasd' is not defined",
     "output_type": "error",
     "traceback": [
      "\u001b[0;31m---------------------------------------------------------------------------\u001b[0m",
      "\u001b[0;31mNameError\u001b[0m                                 Traceback (most recent call last)",
      "Cell \u001b[0;32mIn[8], line 1\u001b[0m\n\u001b[0;32m----> 1\u001b[0m asdasd\n",
      "\u001b[0;31mNameError\u001b[0m: name 'asdasd' is not defined"
     ]
    }
   ],
   "source": [
    "asdasd"
   ]
  },
  {
   "cell_type": "markdown",
   "metadata": {},
   "source": [
    "## Summary"
   ]
  },
  {
   "cell_type": "markdown",
   "metadata": {},
   "source": [
    "asdasd"
   ]
  },
  {
   "cell_type": "markdown",
   "metadata": {},
   "source": [
    "## Reference"
   ]
  },
  {
   "cell_type": "markdown",
   "metadata": {},
   "source": [
    "- https://www.greenplan.gov.sg/targets/\n"
   ]
  }
 ],
 "metadata": {
  "kernelspec": {
   "display_name": "base",
   "language": "python",
   "name": "python3"
  },
  "language_info": {
   "codemirror_mode": {
    "name": "ipython",
    "version": 3
   },
   "file_extension": ".py",
   "mimetype": "text/x-python",
   "name": "python",
   "nbconvert_exporter": "python",
   "pygments_lexer": "ipython3",
   "version": "3.12.4"
  }
 },
 "nbformat": 4,
 "nbformat_minor": 2
}
